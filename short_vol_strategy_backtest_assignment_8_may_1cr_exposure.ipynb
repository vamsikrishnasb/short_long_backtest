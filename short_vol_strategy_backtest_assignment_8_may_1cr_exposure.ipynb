{
 "cells": [
  {
   "cell_type": "code",
   "execution_count": 1,
   "id": "853a5fe7",
   "metadata": {},
   "outputs": [],
   "source": [
    "import pandas as pd\n",
    "import pandasql as ps\n",
    "from pandasql import *\n",
    "import plotly\n",
    "import plotly.express as px\n",
    "import plotly.graph_objects as go\n",
    "import numpy as np\n",
    "import glob\n",
    "import warnings\n",
    "from datetime import datetime\n",
    "import matplotlib\n",
    "import numpy as np\n",
    "import matplotlib.pyplot as plt\n",
    "import math\n",
    "import time\n",
    "from functools import reduce\n",
    "from scipy.stats.mstats import gmean\n",
    "\n",
    "warnings.simplefilter(\"ignore\")\n",
    "\n",
    "# For the widget\n",
    "\n",
    "from __future__ import print_function\n",
    "from ipywidgets import interact, interactive, fixed, interact_manual\n",
    "import ipywidgets as widgets\n",
    "\n",
    "date = 'Apr 28'\n",
    "vol_date = '2023-04-28'\n",
    "\n",
    "valid_expiry = [\n",
    "    \"2010-11-25\", \"2010-12-30\", \"2011-01-27\", \"2011-02-24\", \"2011-03-31\", \"2011-04-28\", \n",
    "    \"2011-05-26\", \"2011-06-30\", \"2011-07-28\", \"2011-08-25\", \"2011-09-29\", \"2011-10-25\", \n",
    "    \"2011-11-24\", \"2011-12-29\", \"2012-01-25\", \"2012-02-23\", \"2012-03-29\", \"2012-04-26\", \n",
    "    \"2012-05-31\", \"2012-06-28\", \"2012-07-26\", \"2012-08-30\", \"2012-09-27\", \"2012-10-25\", \n",
    "    \"2012-11-29\", \"2012-12-27\", \"2013-01-31\", \"2013-02-28\", \"2013-03-28\", \"2013-04-25\", \n",
    "    \"2013-05-30\", \"2013-06-27\", \"2013-07-25\", \"2013-08-29\", \"2013-09-26\", \"2013-10-31\", \n",
    "    \"2013-11-28\", \"2013-12-26\", \"2014-01-30\", \"2014-02-26\", \"2014-02-27\", \"2014-03-27\", \n",
    "    \"2014-04-24\", \"2014-05-29\", \"2014-06-26\", \"2014-07-31\", \"2014-08-28\", \"2014-09-25\", \n",
    "    \"2014-10-30\", \"2014-11-27\", \"2014-12-24\", \"2015-01-29\", \"2015-02-26\", \"2015-03-26\", \n",
    "    \"2015-04-30\", \"2015-05-28\", \"2015-06-25\", \"2015-07-30\", \"2015-08-27\", \"2015-09-24\", \n",
    "    \"2015-10-29\", \"2015-11-26\", \"2015-12-31\", \"2016-01-28\", \"2016-02-25\", \"2016-03-31\", \n",
    "    \"2016-04-28\", \"2016-05-26\", \"2016-06-30\", \"2016-07-28\", \"2016-08-25\", \"2016-09-29\", \n",
    "    \"2016-10-27\", \"2016-11-24\", \"2016-12-29\", \"2017-01-25\", \"2017-02-23\", \"2017-03-30\", \n",
    "    \"2017-04-27\", \"2017-05-25\", \"2017-06-29\", \"2017-07-27\", \"2017-08-31\", \"2017-09-28\", \n",
    "    \"2017-10-26\", \"2017-11-30\", \"2017-12-28\", \"2018-01-25\", \"2018-02-22\", \"2018-03-28\", \n",
    "    \"2018-03-29\", \"2018-04-26\", \"2018-05-31\", \"2018-06-28\", \"2018-07-26\", \"2018-08-30\", \n",
    "    \"2018-09-27\", \"2018-10-25\", \"2018-11-29\", \"2018-12-27\", \"2019-01-31\", \"2019-02-28\", \n",
    "    \"2019-03-28\", \"2019-04-25\", \"2019-05-30\", \"2019-06-27\", \"2019-07-25\", \"2019-08-29\", \n",
    "    \"2019-09-26\", \"2019-10-31\", \"2019-11-28\", \"2019-12-26\", \"2020-01-30\", \"2020-02-27\", \n",
    "    \"2020-03-26\", \"2020-04-30\", \"2020-05-28\", \"2020-06-25\", \"2020-07-30\", \"2020-08-27\", \n",
    "    \"2020-09-24\", \"2020-10-29\", \"2020-11-26\", \"2020-12-31\", \"2021-01-28\", \"2021-02-25\", \n",
    "    \"2021-03-25\", \"2021-04-29\", \"2021-05-27\", \"2021-06-24\", \"2021-07-29\", \"2021-08-26\", \n",
    "    \"2021-09-30\", \"2021-10-28\", \"2021-11-25\", \"2021-12-30\", \"2022-01-27\", \"2022-02-24\", \n",
    "    \"2022-03-31\", \"2022-04-28\", \"2022-05-26\", \"2022-06-30\", \"2022-07-28\", \"2022-08-25\",\n",
    "    \"2022-09-29\", \"2022-10-27\", \"2022-11-24\", \"2022-12-29\", \"2023-01-25\", \"2023-02-23\", \n",
    "    \"2023-03-29\", \"2023-04-27\", \"2023-05-25\", \"2023-06-29\"\n",
    "]"
   ]
  },
  {
   "cell_type": "code",
   "execution_count": 2,
   "id": "97fe4fbf",
   "metadata": {},
   "outputs": [],
   "source": [
    "# Get NIFTY options data\n",
    "\n",
    "path = '/Users/vamsikrishnasb/My Drive/Financial Analysis/backtesting/bhav/options_02_split/NIFTY/Apr 28/Merged/iv_greeks.csv'\n",
    "df = pd.read_csv(path)"
   ]
  },
  {
   "cell_type": "code",
   "execution_count": 3,
   "id": "57e9f664",
   "metadata": {},
   "outputs": [],
   "source": [
    "# ATM Option prices data for 'days to expiry' that are between 14 and 42\n",
    "dte_14_42_df = df[\n",
    "    (df['days_to_expiry'].between(14, 42))\n",
    "    & (df['expiry'].isin(valid_expiry))\n",
    "#     & ((df['strike'] % 100) == 0)\n",
    "].reset_index().drop('index', axis=1)\n",
    "dte_14_42_df['date_expiry'] = dte_14_42_df['date'] + '_' + dte_14_42_df['expiry']\n",
    "dte_14_42_df['moneyness_abs'] = dte_14_42_df['moneyness_close'].abs()\n",
    "temp_grouped = dte_14_42_df.groupby('date_expiry')['moneyness_abs'].min()\n",
    "temp_grouped_df = pd.DataFrame(temp_grouped)\n",
    "dte_14_42_df = dte_14_42_df[[\n",
    "    'date_expiry', 'date', 'expiry', 'days_to_expiry', 'moneyness_abs', 'strike', 'implied_volatility', \n",
    "    'put_close', 'call_close', 'forward_close', 'close_ul', 'delta', 'gamma', 'theta', 'vega'\n",
    "]]\n",
    "dte_14_42_atm_df = temp_grouped_df.merge(dte_14_42_df, on=['date_expiry', 'moneyness_abs'], how='inner')\n",
    "dte_14_42_atm_df\n",
    "temp_grouped = dte_14_42_atm_df.groupby('date')['days_to_expiry'].min()\n",
    "temp_grouped_df = pd.DataFrame(temp_grouped)\n",
    "dte_14_42_atm_df = temp_grouped_df.merge(dte_14_42_atm_df, on=['date', 'days_to_expiry'], how='inner')"
   ]
  },
  {
   "cell_type": "code",
   "execution_count": 4,
   "id": "5bd4e88c",
   "metadata": {},
   "outputs": [],
   "source": [
    "# Get volatility data\n",
    "path = '/Users/vamsikrishnasb/My Drive/Financial Analysis/backtesting/vol_estimation_new/NIFTY/2023-04-28.csv'\n",
    "rvol_df = pd.read_csv(path)\n",
    "rvol_reduced_df = rvol_df[[\n",
    "    'date', '20d_c2c_vol'\n",
    "]]"
   ]
  },
  {
   "cell_type": "code",
   "execution_count": 5,
   "id": "872a218a",
   "metadata": {},
   "outputs": [],
   "source": [
    "# Merge ATM option data with the volatility data\n",
    "atm_rvol_df = dte_14_42_atm_df.merge(rvol_reduced_df, on=['date'], how='inner')"
   ]
  },
  {
   "cell_type": "code",
   "execution_count": 6,
   "id": "73711c59",
   "metadata": {},
   "outputs": [],
   "source": [
    "# Drop NA from the atm_rvol_df DF\n",
    "atm_rvol_improved_df = atm_rvol_df.dropna().reset_index().drop('index', axis=1)"
   ]
  },
  {
   "cell_type": "code",
   "execution_count": 7,
   "id": "60fd2a45",
   "metadata": {},
   "outputs": [],
   "source": [
    "# ATM iv_rv_ratio and Volatility Risk Premium (vrp) for atm_rvol_improved_df\n",
    "atm_rvol_improved_df['iv_rv_ratio'] = atm_rvol_improved_df['implied_volatility'] / atm_rvol_improved_df['20d_c2c_vol']\n",
    "atm_rvol_improved_df['vrp'] = atm_rvol_improved_df['iv_rv_ratio'] - 1"
   ]
  },
  {
   "cell_type": "code",
   "execution_count": 8,
   "id": "75c493e1",
   "metadata": {},
   "outputs": [],
   "source": [
    "# Separate out the nearest expiry\n",
    "temp_df = atm_rvol_improved_df.set_index(['date', 'expiry'])\n",
    "vrp_month_0_df = temp_df.loc[\n",
    "    (slice(None) , atm_rvol_improved_df['expiry']), \n",
    "    ['days_to_expiry', 'vrp']\n",
    "].reset_index()\n",
    "vrp_month_0_df = vrp_month_0_df[\n",
    "    vrp_month_0_df['date'] >= '2016-01-01'\n",
    "].reset_index().drop('index', axis=1)"
   ]
  },
  {
   "cell_type": "code",
   "execution_count": 9,
   "id": "14996154",
   "metadata": {},
   "outputs": [],
   "source": [
    "# 75th percentile Volatility Risk Premium (VRP) value\n",
    "def iv_rv_ratio_0_mny(ul, dte, rv_type, pc_date):\n",
    "    path = '/Users/vamsikrishnasb/My Drive/Financial Analysis/backtesting/IVol PC Values/Date Wise IVol Surface/0/'+ul+'/Concatenated/iv_concat.csv'\n",
    "    df = pd.read_csv(path)\n",
    "    df = df.sort_values(by=['date'], ascending=[True])\n",
    "    if 'Unnamed: 0' in df.columns:\n",
    "        df = df.drop('Unnamed: 0', axis=1)\n",
    "    df = df.reset_index().drop('index', axis=1)\n",
    "    iv_df = df[df['date'] <= pc_date][['date', str(dte)]]\n",
    "    path = '/Users/vamsikrishnasb/My Drive/Financial Analysis/backtesting/vol_estimation_new/'+ul+'/'+vol_date+'.csv'\n",
    "    df = pd.read_csv(path)\n",
    "    rv_df = df[[\n",
    "        'date', 'close_ul', 'log_returns', '20d_c2c_vol'\n",
    "    ]]\n",
    "    iv_rv_df = rv_df.merge(iv_df, on=['date'], how='inner')\n",
    "    iv_rv_df['vrp_20d_c2c'] = iv_rv_df[str(dte)] / iv_rv_df['20d_c2c_vol'] - 1\n",
    "    vrp_pc.append(iv_rv_df['vrp_20d_c2c'].quantile(0.75, interpolation='nearest'))\n",
    "    \n",
    "dates = [\n",
    "    '2015-12-31', '2016-12-31', '2017-12-31', '2018-12-31', '2019-12-31', '2020-12-31', \n",
    "    '2021-12-31', '2022-12-31'\n",
    "]\n",
    "dtes = list(range(14, 43))\n",
    "ul = 'NIFTY'\n",
    "rv_type = '20d_c2c'\n",
    "vrp_pc_df = pd.DataFrame(columns=['date'])\n",
    "for dte in dtes:\n",
    "    vrp_pc_df[dte] = 0\n",
    "vrp_pc_df['date'] = dates\n",
    "vrp_pc_df = vrp_pc_df.set_index('date')\n",
    "for pc_date in dates:\n",
    "    vrp_pc = []\n",
    "    for dte in dtes:\n",
    "        iv_rv_ratio_0_mny(ul, dte, rv_type, pc_date)\n",
    "    vrp_pc_df.loc[pc_date] = vrp_pc"
   ]
  },
  {
   "cell_type": "code",
   "execution_count": 10,
   "id": "56ab8041",
   "metadata": {},
   "outputs": [],
   "source": [
    "# Set up vrp_month_0_df so that the 75th percentile vrp value can be used to determine the \n",
    "# required action.\n",
    "dtes = vrp_month_0_df['days_to_expiry'].to_list()\n",
    "c1 = (vrp_month_0_df['date']) <= '2016-12-31'\n",
    "c2 = (vrp_month_0_df['date']) <= '2017-12-31'\n",
    "c3 = (vrp_month_0_df['date']) <= '2018-12-31'\n",
    "c4 = (vrp_month_0_df['date']) <= '2019-12-31'\n",
    "c5 = (vrp_month_0_df['date']) <= '2020-12-31'\n",
    "c6 = (vrp_month_0_df['date']) <= '2021-12-31'\n",
    "c7 = (vrp_month_0_df['date']) <= '2022-12-31'\n",
    "c8 = (vrp_month_0_df['date']) <= '2023-12-31'\n",
    "pc_date = [\n",
    "    '2015-12-31', '2016-12-31', '2017-12-31', '2018-12-31', '2019-12-31', '2020-12-31', \n",
    "    '2021-12-31', '2022-12-31'\n",
    "]\n",
    "default = 0\n",
    "vrp_month_0_df['pc_date'] = np.select([c1, c2, c3, c4, c5, c6, c7, c8], pc_date, default=default)\n",
    "vrp_month_0_df['vrp_50pc_value'] = ''\n",
    "for dte, i in zip(dtes, range(0, len(vrp_month_0_df))):\n",
    "    vrp_month_0_df['vrp_50pc_value'][i] = vrp_pc_df.loc[vrp_month_0_df['pc_date'][i]][dte]\n",
    "vrp_month_0_df = vrp_month_0_df.drop_duplicates(subset=['date'], keep='last')"
   ]
  },
  {
   "cell_type": "code",
   "execution_count": 11,
   "id": "6d6b7388",
   "metadata": {},
   "outputs": [],
   "source": [
    "# Mark whether a short volatility trade will taken or not, by comparing 'vrp' column\n",
    "# with 'vrp_50pc_value' column\n",
    "vrp_month_0_df['trade_decision'] = np.where(vrp_month_0_df['vrp'] >= vrp_month_0_df['vrp_50pc_value'], 1, 0)"
   ]
  },
  {
   "cell_type": "code",
   "execution_count": 12,
   "id": "676376ff",
   "metadata": {},
   "outputs": [],
   "source": [
    "# Merge vrp_month_0_df DF and atm_rvol_improved_df\n",
    "atm_df = vrp_month_0_df.merge(atm_rvol_improved_df, on=['date', 'expiry', 'days_to_expiry', 'vrp'], how='inner')"
   ]
  },
  {
   "cell_type": "code",
   "execution_count": 13,
   "id": "138fb05e",
   "metadata": {},
   "outputs": [],
   "source": [
    "# Multiple operations\n",
    "# Straddle price, quantities to trade (which is 1 Crore / NIFTY spot), etc.\n",
    "atm_df['straddle_price'] = atm_df['put_close'] + atm_df['call_close']\n",
    "atm_df['close_ul'] = pd.to_numeric(atm_df['close_ul'], errors='coerce')\n",
    "atm_df['trade_quantity'] = round(np.floor(10000000.00 / atm_df['close_ul'])/100)*100\n",
    "atm_df = atm_df.reset_index().drop('index', axis=1)"
   ]
  },
  {
   "cell_type": "code",
   "execution_count": 14,
   "id": "1e5b25bc",
   "metadata": {},
   "outputs": [],
   "source": [
    "# Call delta and put delta\n",
    "atm_df['call_delta'] = np.where(atm_df['delta'] > 0, atm_df['delta'], 1 + atm_df['delta'])\n",
    "atm_df['put_delta'] = np.where(atm_df['delta'] < 0, atm_df['delta'], atm_df['delta'] - 1)\n",
    "atm_df['position_delta'] = -1 * (atm_df['call_delta'] + atm_df['put_delta']) * atm_df['trade_quantity']\n",
    "atm_df['position_gamma'] = -1 * (atm_df['gamma'] * 2) * atm_df['trade_quantity']\n",
    "atm_df['position_theta'] = -1 * (atm_df['theta'] * 2) * atm_df['trade_quantity']\n",
    "atm_df['position_vega'] = -1 * (atm_df['vega'] * 2) * atm_df['trade_quantity']"
   ]
  },
  {
   "cell_type": "code",
   "execution_count": 15,
   "id": "8ff31b00",
   "metadata": {},
   "outputs": [],
   "source": [
    "# Rename columns in atm_df to make it easier while merging with otm_df\n",
    "atm_df = atm_df.rename(columns={\n",
    "    'strike': 'atm_strike',\n",
    "    'implied_volatility': 'atm_iv', \n",
    "    'put_close': 'atm_put_price',\n",
    "    'call_close': 'atm_call_price',\n",
    "    'delta': 'atm_delta',\n",
    "    'gamma': 'atm_gamma',\n",
    "    'theta': 'atm_theta',\n",
    "    'vega': 'atm_vega',\n",
    "    'straddle_price': 'atm_straddle_price',\n",
    "    'trade_quantity': 'atm_qty',\n",
    "    'call_delta': 'atm_call_delta',\n",
    "    'put_delta': 'atm_put_delta',\n",
    "    'position_delta': 'atm_position_delta',\n",
    "    'position_gamma': 'atm_position_gamma',\n",
    "    'position_theta': 'atm_position_theta',\n",
    "    'position_vega': 'atm_position_vega'\n",
    "})"
   ]
  },
  {
   "cell_type": "code",
   "execution_count": 16,
   "id": "711005fb",
   "metadata": {},
   "outputs": [],
   "source": [
    "# Separate out individual trades\n",
    "# Definition of a trade:\n",
    "# Consecutive rows with trade_decisions column being equal to 1 is a trade.\n",
    "trade_group_df = pd.DataFrame(columns=['date', 'expiry', 'trade_decision', 'trade_group'])\n",
    "trade_group_count = 1\n",
    "expiries = atm_df['expiry'].unique()\n",
    "for expiry in expiries:\n",
    "    temp_expiry_df = atm_df[atm_df['expiry'] == expiry][[\n",
    "        'date', 'expiry', 'trade_decision'\n",
    "    ]].reset_index().drop('index', axis=1)\n",
    "    temp_expiry_df['trade_group'] = ''\n",
    "    for i in range(0, len(temp_expiry_df)):\n",
    "        if i == 0:\n",
    "            if (temp_expiry_df['trade_decision'][i] == 1):\n",
    "                temp_expiry_df['trade_group'][i] = trade_group_count\n",
    "            else:\n",
    "                temp_expiry_df['trade_group'][i] = 0\n",
    "        elif (i > 0) & (i < len(temp_expiry_df)-1):\n",
    "            if (temp_expiry_df['trade_decision'][i-1] == 1) & (temp_expiry_df['trade_decision'][i] == 1):\n",
    "                temp_expiry_df['trade_group'][i] = trade_group_count\n",
    "            elif (temp_expiry_df['trade_decision'][i-1] == 1) & (temp_expiry_df['trade_decision'][i] == 0):\n",
    "                temp_expiry_df['trade_group'][i] = trade_group_count\n",
    "                trade_group_count = trade_group_count + 1\n",
    "            elif (temp_expiry_df['trade_decision'][i-1] == 0) & (temp_expiry_df['trade_decision'][i] == 1):\n",
    "                temp_expiry_df['trade_group'][i] = trade_group_count\n",
    "            else:\n",
    "                temp_expiry_df['trade_group'][i] = 0\n",
    "        else:\n",
    "            if (temp_expiry_df['trade_decision'][i-1] == 1):\n",
    "                temp_expiry_df['trade_group'][i] = trade_group_count\n",
    "                trade_group_count = trade_group_count + 1\n",
    "            else:\n",
    "                temp_expiry_df['trade_group'][i] = 0\n",
    "    trade_group_count = trade_group_count + 1\n",
    "    trade_group_df = pd.concat([trade_group_df, temp_expiry_df], axis=0)\n",
    "    \n",
    "trade_group_df = trade_group_df.drop('trade_decision', axis=1)\n",
    "atm_df = atm_df.merge(trade_group_df, on=['date', 'expiry'], how='inner')"
   ]
  },
  {
   "cell_type": "code",
   "execution_count": 17,
   "id": "a79ff694",
   "metadata": {},
   "outputs": [],
   "source": [
    "# Define the hedges for the short volatility trade - put leg\n",
    "put_otm_df = df[\n",
    "    (df['moneyness_close'] <= 0.11)\n",
    "    & (df['moneyness_close'] >= 0.05)\n",
    "    & (df['days_to_expiry'].between(14, 42))\n",
    "    & (df['expiry'].isin(valid_expiry))\n",
    "    & (df['date'] >= '2016-01-01')\n",
    "    & ((df['strike'] % 100) == 0)\n",
    "][[\n",
    "    'date', 'expiry', 'strike', 'days_to_expiry', 'otm_option_type', 'moneyness_close', 'close_option', \n",
    "    'implied_volatility', 'delta', 'gamma', 'theta', 'vega'\n",
    "]]\n",
    "put_otm_df['moneyness_abs'] = put_otm_df['moneyness_close'].abs()\n",
    "temp = put_otm_df.groupby(['date', 'expiry'])['moneyness_abs'].max()\n",
    "temp_df = pd.DataFrame(temp)\n",
    "put_otm_lowest_mny_df = put_otm_df.merge(temp_df, on=['date', 'expiry', 'moneyness_abs'], how='inner')\n",
    "put_otm_lowest_mny_df = put_otm_lowest_mny_df.rename(columns = {\n",
    "    'strike': 'otm_put_strike',\n",
    "    'otm_option_type': 'otm_put_option_type',\n",
    "    'moneyness_close': 'otm_put_moneyness',\n",
    "    'close_option': 'otm_put_price',\n",
    "    'implied_volatility': 'otm_put_iv',\n",
    "    'delta': 'otm_put_delta',\n",
    "    'gamma': 'otm_put_gamma',\n",
    "    'theta': 'otm_put_theta',\n",
    "    'vega' : 'otm_put_vega'\n",
    "})\n",
    "put_otm_lowest_mny_df = put_otm_lowest_mny_df[[\n",
    "    'date', 'expiry', 'days_to_expiry', 'otm_put_strike', 'otm_put_option_type', 'otm_put_moneyness', \n",
    "    'otm_put_price', 'otm_put_iv', 'otm_put_delta', 'otm_put_gamma', 'otm_put_theta',\n",
    "    'otm_put_vega'\n",
    "]]\n",
    "temp_grouped = put_otm_lowest_mny_df.groupby('date')['days_to_expiry'].min()\n",
    "temp_grouped_df = pd.DataFrame(temp_grouped)\n",
    "put_otm_lowest_mny_df = temp_grouped_df.merge(put_otm_lowest_mny_df, on=['date', 'days_to_expiry'], how='inner')\n",
    "put_otm_lowest_mny_df = put_otm_lowest_mny_df.drop_duplicates(\n",
    "    subset=['date'], keep='last', ignore_index=True\n",
    ")"
   ]
  },
  {
   "cell_type": "code",
   "execution_count": 18,
   "id": "998664e3",
   "metadata": {},
   "outputs": [],
   "source": [
    "# Define the hedges for the short volatility trade - call leg\n",
    "call_otm_df = df[\n",
    "    (df['moneyness_close'] <= -0.01)\n",
    "    & (df['days_to_expiry'].between(14, 42))\n",
    "    & (df['expiry'].isin(valid_expiry))\n",
    "    & (df['date'] >= '2016-01-01')\n",
    "    & ((df['strike'] % 100) == 0)\n",
    "][[\n",
    "    'date', 'expiry', 'strike', 'days_to_expiry', 'otm_option_type', 'moneyness_close', 'close_option', \n",
    "    'implied_volatility', 'delta', 'gamma', 'theta', 'vega'\n",
    "]]\n",
    "call_otm_df['moneyness_abs'] = call_otm_df['moneyness_close'].abs()\n",
    "call_otm_df = call_otm_df.merge(put_otm_lowest_mny_df, on=['date', 'expiry', 'days_to_expiry'], how='left')\n",
    "call_otm_df = call_otm_df[\n",
    "    (call_otm_df['vega'] <= call_otm_df['otm_put_vega'])\n",
    "]\n",
    "temp = call_otm_df.groupby(['date', 'expiry'])['vega'].max()\n",
    "temp_df = pd.DataFrame(temp)\n",
    "call_otm_lowest_mny_df  = call_otm_df.merge(temp_df, on=['date', 'expiry', 'vega'], how='inner')\n",
    "call_otm_lowest_mny_df = call_otm_lowest_mny_df.rename(columns = {\n",
    "    'strike': 'otm_call_strike',\n",
    "    'otm_option_type': 'otm_call_option_type',\n",
    "    'moneyness_close': 'otm_call_moneyness',\n",
    "    'close_option': 'otm_call_price',\n",
    "    'implied_volatility': 'otm_call_iv',\n",
    "    'delta': 'otm_call_delta',\n",
    "    'gamma': 'otm_call_gamma',\n",
    "    'theta': 'otm_call_theta',\n",
    "    'vega' : 'otm_call_vega'\n",
    "})\n",
    "call_otm_lowest_mny_df = call_otm_lowest_mny_df[[\n",
    "    'date', 'expiry', 'days_to_expiry', 'otm_call_strike', 'otm_call_option_type', 'otm_call_moneyness', \n",
    "    'otm_call_price', 'otm_call_iv', 'otm_call_delta', 'otm_call_gamma', 'otm_call_theta',\n",
    "    'otm_call_vega'\n",
    "]]\n",
    "temp_grouped = call_otm_lowest_mny_df.groupby('date')['days_to_expiry'].min()\n",
    "temp_grouped_df = pd.DataFrame(temp_grouped)\n",
    "call_otm_lowest_mny_df = temp_grouped_df.merge(call_otm_lowest_mny_df, on=['date', 'days_to_expiry'], how='inner')\n",
    "call_otm_lowest_mny_df = call_otm_lowest_mny_df.drop_duplicates(\n",
    "    subset=['date'], keep='last', ignore_index=True\n",
    ")"
   ]
  },
  {
   "cell_type": "code",
   "execution_count": 19,
   "id": "d6f4460a",
   "metadata": {},
   "outputs": [],
   "source": [
    "# Merge put_otm_df and call_otm_df\n",
    "otm_df = put_otm_lowest_mny_df.merge(call_otm_lowest_mny_df, on=['date', 'expiry', 'days_to_expiry'], how='inner')"
   ]
  },
  {
   "cell_type": "code",
   "execution_count": 20,
   "id": "3ed79ebd",
   "metadata": {},
   "outputs": [],
   "source": [
    "# Merge atm_df with otm_df\n",
    "atm_otm_df = atm_df.merge(otm_df, on=['date', 'expiry', 'days_to_expiry'], how='inner')"
   ]
  },
  {
   "cell_type": "code",
   "execution_count": 21,
   "id": "defe9c67",
   "metadata": {},
   "outputs": [],
   "source": [
    "# Filter out wrong values of iv, both atm and otm\n",
    "atm_otm_df = atm_otm_df[\n",
    "    (atm_otm_df['atm_iv'].between(0.05, 5))\n",
    "    & (atm_otm_df['otm_put_iv'].between(0.05, 5))\n",
    "    & (atm_otm_df['otm_call_iv'].between(0.05, 5))\n",
    "].reset_index().drop('index', axis=1)"
   ]
  },
  {
   "cell_type": "code",
   "execution_count": 22,
   "id": "1ff93801",
   "metadata": {},
   "outputs": [],
   "source": [
    "# Calculate the quantities of otm puts and calls\n",
    "atm_otm_df['otm_put_qty'] = 1\n",
    "atm_otm_df['otm_call_qty'] = 1\n",
    "atm_otm_df['otm_put_position_qty_temp'] = np.ceil(atm_otm_df['atm_qty'] * atm_otm_df['otm_put_qty']/100)*100\n",
    "atm_otm_df['otm_call_position_qty_temp'] = np.ceil(atm_otm_df['atm_qty'] * atm_otm_df['otm_call_qty']/100)*100\n",
    "atm_otm_df['otm_put_position_qty'] = atm_otm_df[['atm_qty', 'otm_put_position_qty_temp']].max(axis=1)\n",
    "atm_otm_df['otm_call_position_qty'] = atm_otm_df[['atm_qty', 'otm_call_position_qty_temp']].max(axis=1)"
   ]
  },
  {
   "cell_type": "code",
   "execution_count": 23,
   "id": "7adb4b31",
   "metadata": {},
   "outputs": [],
   "source": [
    "# Calculate over greeks for the position\n",
    "# Remove unnecessary columns\n",
    "atm_otm_df['position_delta'] = -1 * (atm_otm_df['atm_call_delta'] + atm_otm_df['atm_put_delta']) * atm_otm_df['atm_qty'] + atm_otm_df['otm_call_delta'] * atm_otm_df['otm_call_position_qty'] / (1) + atm_otm_df['otm_put_delta'] * atm_otm_df['otm_put_position_qty'] / (1)\n",
    "atm_otm_df['position_gamma'] = -1 * (atm_otm_df['atm_gamma'] * 2) * atm_otm_df['atm_qty'] + atm_otm_df['otm_call_gamma'] * atm_otm_df['otm_call_position_qty'] / (1) + atm_otm_df['otm_put_gamma'] * atm_otm_df['otm_put_position_qty'] / (1)\n",
    "atm_otm_df['position_theta'] = -1 * (atm_otm_df['atm_theta'] * 2) * atm_otm_df['atm_qty'] + atm_otm_df['otm_call_theta'] * atm_otm_df['otm_call_position_qty'] / (1) + atm_otm_df['otm_put_theta'] * atm_otm_df['otm_put_position_qty'] / (1)\n",
    "atm_otm_df['position_vega'] = -1 * (atm_otm_df['atm_vega'] * 2) * atm_otm_df['atm_qty'] + atm_otm_df['otm_call_vega'] * atm_otm_df['otm_call_position_qty'] / (1) + atm_otm_df['otm_put_vega'] * atm_otm_df['otm_put_position_qty'] / (1)\n",
    "\n",
    "# Adjusting for \"residual\" delta when entering into the trade\n",
    "atm_otm_df['additional_otm_put_delta'] = ''\n",
    "atm_otm_df['additional_otm_call_delta'] = ''\n",
    "c1 = (atm_otm_df['position_delta']) < 0\n",
    "c2 = (atm_otm_df['position_delta']) > 0\n",
    "c3 = (atm_otm_df['position_delta']) == 0\n",
    "additional_otm_put_delta = [0, atm_otm_df['position_delta'], 0]\n",
    "additional_otm_call_delta = [- atm_otm_df['position_delta'], 0, 0]\n",
    "default = 0\n",
    "atm_otm_df['additional_otm_put_delta'] = np.select([c1, c2, c3], additional_otm_put_delta, default=default)\n",
    "atm_otm_df['additional_otm_call_delta'] = np.select([c1, c2, c3], additional_otm_call_delta, default=default)\n",
    "\n",
    "# atm_otm_df['otm_put_position_qty'] = - atm_otm_df['additional_otm_put_delta'] / atm_otm_df['otm_put_delta'] + atm_otm_df['otm_put_position_qty']\n",
    "# atm_otm_df['otm_call_position_qty'] = atm_otm_df['additional_otm_call_delta'] / atm_otm_df['otm_call_delta'] + atm_otm_df['otm_call_position_qty']\n",
    "\n",
    "atm_otm_df['otm_put_position_qty'] = atm_otm_df['atm_qty']\n",
    "atm_otm_df['otm_call_position_qty'] = atm_otm_df['atm_qty']\n",
    "\n",
    "atm_otm_df['position_delta'] = -1 * (atm_otm_df['atm_call_delta'] + atm_otm_df['atm_put_delta']) * atm_otm_df['atm_qty'] + atm_otm_df['otm_call_delta'] * atm_otm_df['otm_call_position_qty'] / (1) + atm_otm_df['otm_put_delta'] * atm_otm_df['otm_put_position_qty'] / (1)\n",
    "atm_otm_df['position_gamma'] = -1 * (atm_otm_df['atm_gamma'] * 2) * atm_otm_df['atm_qty'] + atm_otm_df['otm_call_gamma'] * atm_otm_df['otm_call_position_qty'] / (1) + atm_otm_df['otm_put_gamma'] * atm_otm_df['otm_put_position_qty'] / (1)\n",
    "atm_otm_df['position_theta'] = -1 * (atm_otm_df['atm_theta'] * 2) * atm_otm_df['atm_qty'] + atm_otm_df['otm_call_theta'] * atm_otm_df['otm_call_position_qty'] / (1) + atm_otm_df['otm_put_theta'] * atm_otm_df['otm_put_position_qty'] / (1)\n",
    "atm_otm_df['position_vega'] = -1 * (atm_otm_df['atm_vega'] * 2) * atm_otm_df['atm_qty'] + atm_otm_df['otm_call_vega'] * atm_otm_df['otm_call_position_qty'] / (1) + atm_otm_df['otm_put_vega'] * atm_otm_df['otm_put_position_qty'] / (1)\n",
    "\n",
    "atm_otm_improved_df = atm_otm_df[[\n",
    "    'date', 'expiry', 'days_to_expiry', 'trade_decision', 'trade_group', 'forward_close', \n",
    "    'atm_strike',  'atm_put_price', 'atm_call_price', 'close_ul', 'atm_iv', '20d_c2c_vol', 'vrp',\n",
    "    'atm_delta', 'atm_gamma', 'atm_theta', 'atm_vega', \n",
    "    'atm_straddle_price', 'atm_qty', 'atm_call_delta', 'atm_put_delta', \n",
    "    'atm_position_delta', 'otm_put_strike', 'otm_put_price', 'otm_put_iv', 'otm_put_delta', \n",
    "    'otm_put_gamma', 'otm_put_theta', 'otm_put_vega', 'otm_call_strike', 'otm_call_price',\n",
    "    'otm_call_iv', 'otm_call_delta', 'otm_call_gamma', 'otm_call_theta', 'otm_call_vega', \n",
    "    'otm_put_qty', 'otm_call_qty', 'otm_put_position_qty', 'otm_call_position_qty',\n",
    "    'position_delta', 'position_gamma', 'position_theta', 'position_vega'\n",
    "]].rename(columns={\n",
    "    '20d_c2c_vol': 'realized_vol',\n",
    "    'vrp': 'vol_risk_premium'\n",
    "})"
   ]
  },
  {
   "cell_type": "code",
   "execution_count": 24,
   "id": "cad1d3af",
   "metadata": {},
   "outputs": [],
   "source": [
    "# Standard deviation of 1-day logarithmic changes in 1-month implied volatility \n",
    "# \"vol_of_vol\" or \"vol_of_iv\"\n",
    "def vol_of_iv(ul, dte):\n",
    "    path = '/Users/vamsikrishnasb/My Drive/Financial Analysis/backtesting/IVol PC Values/Date Wise IVol Surface/0/'+ul+'/Concatenated/iv_concat.csv'\n",
    "    df = pd.read_csv(path)\n",
    "    iv_df = df[['date', str(dte)]].sort_values(by=['date'], ascending=True).reset_index().drop('index', axis=1)\n",
    "    iv_df = iv_df.dropna()\n",
    "    iv_df[str(dte)] = iv_df[str(dte)].fillna(0)\n",
    "    iv_df = iv_df[iv_df[str(dte)] != 0].reset_index().drop('index', axis=1)\n",
    "    iv_df = iv_df.rename(columns={\n",
    "        str(dte): '30_day_iv'\n",
    "    })\n",
    "    iv_df['log_iv_returns'] = np.log(iv_df['30_day_iv'] / iv_df['30_day_iv'].shift(1))\n",
    "    iv_df['vol_of_iv_returns'] = iv_df['log_iv_returns'].rolling(20).std()\n",
    "    iv_df['mean_of_iv_returns'] = iv_df['log_iv_returns'].mean()\n",
    "    vol_of_iv_returns = iv_df['vol_of_iv_returns'].iloc[len(iv_df) - 1]\n",
    "    mean_of_iv_returns = iv_df['mean_of_iv_returns'].iloc[len(iv_df) - 1]\n",
    "    return mean_of_iv_returns, vol_of_iv_returns\n",
    "\n",
    "ul = ['NIFTY']\n",
    "dte = 30\n",
    "\n",
    "for ul in ul:\n",
    "    mean_of_iv_returns, vol_of_iv_returns = vol_of_iv(ul, dte)"
   ]
  },
  {
   "cell_type": "code",
   "execution_count": 25,
   "id": "2ee68006",
   "metadata": {},
   "outputs": [],
   "source": [
    "# Calculate position value\n",
    "atm_otm_improved_df['position_value'] = (- atm_otm_improved_df['atm_straddle_price'] * atm_otm_improved_df['atm_qty']) + (atm_otm_improved_df['otm_put_price'] * atm_otm_improved_df['otm_put_position_qty']) + (atm_otm_improved_df['otm_call_price'] * atm_otm_improved_df['otm_call_position_qty'])"
   ]
  },
  {
   "cell_type": "code",
   "execution_count": 26,
   "id": "e8234f49",
   "metadata": {},
   "outputs": [],
   "source": [
    "# Gamma risk and Vega risk\n",
    "atm_otm_improved_df['gamma_risk'] = 0.5 * atm_otm_improved_df['position_gamma'] * (atm_otm_improved_df['realized_vol'] / math.sqrt(252) * atm_otm_improved_df['forward_close']) ** 2\n",
    "atm_otm_improved_df['vega_risk'] = 100*atm_otm_improved_df['atm_iv'] * (math.e**(vol_of_iv_returns)-1) * atm_otm_improved_df['position_vega']"
   ]
  },
  {
   "cell_type": "code",
   "execution_count": 27,
   "id": "4fe4eec2",
   "metadata": {},
   "outputs": [],
   "source": [
    "# PnL calculation for the short vol trades\n",
    "# Delta adjustments\n",
    "trade_groups = list(set(atm_otm_improved_df['trade_group'].unique()) - set([0]))\n",
    "# trade_groups = [2, 3, 9]\n",
    "short_pnl_df = pd.DataFrame(columns=[\n",
    "    'date', 'options_pnl', 'futures_pnl', 'atm_pnl'\n",
    "])\n",
    "daily_greek_exposure_df = pd.DataFrame(columns=[\n",
    "    'date', 'expiry', 'atm_strike', 'atm_straddle_price', 'forward_close', 'atm_iv', \n",
    "    'atm_delta', 'atm_qty', 'atm_call_delta', 'atm_put_delta', 'atm_gamma', 'atm_theta', \n",
    "    'atm_vega', 'otm_put_strike', 'otm_put_position_qty', 'otm_put_price', \n",
    "    'otm_put_iv', 'otm_put_delta', 'otm_put_gamma', 'otm_put_theta', 'otm_put_vega',\n",
    "    'otm_call_strike', 'otm_call_position_qty', 'otm_call_price', \n",
    "    'otm_call_iv', 'otm_call_delta', 'otm_call_gamma', 'otm_call_theta', 'otm_call_vega',\n",
    "    'position_delta', 'net_delta', 'futures_qty_to_buy_or_sell', \n",
    "    'net_futures_qty_post_hedging', 'net_delta_post_hedging', 'futures_times_qty'\n",
    "    'position_gamma', 'position_theta', 'position_vega'\n",
    "])\n",
    "delta_adjustments_df = pd.DataFrame(columns=[\n",
    "    'date', 'expiry', 'atm_strike', 'atm_straddle_price', 'forward_close', 'atm_delta', \n",
    "    'atm_qty', 'atm_call_delta', 'atm_put_delta', 'otm_put_strike', 'otm_put_price', \n",
    "    'otm_put_position_qty', 'otm_put_delta', 'otm_call_strike', 'otm_call_price', \n",
    "    'otm_call_position_qty', 'otm_call_delta', \n",
    "    'position_delta', 'net_delta', 'futures_qty_to_buy_or_sell', \n",
    "    'net_futures_qty_post_hedging', 'net_delta_post_hedging', 'futures_times_qty'\n",
    "])\n",
    "date_list = []\n",
    "options_pnl_list = []\n",
    "futures_pnl_list = []\n",
    "net_pnl_list = []\n",
    "for tg in trade_groups:\n",
    "    trade_df = pd.DataFrame(columns=[\n",
    "        'date', 'expiry', 'atm_strike', 'forward_close', 'atm_iv', 'atm_delta', 'atm_gamma', \n",
    "        'atm_theta', 'atm_vega',\n",
    "        'atm_qty', 'otm_put_price', 'otm_put_position_qty', 'otm_put_iv', 'otm_put_delta',\n",
    "        'otm_put_gamma', 'otm_put_theta', 'otm_put_vega',\n",
    "        'otm_call_price', 'otm_call_position_qty', 'otm_call_iv', 'otm_call_delta', \n",
    "        'otm_call_gamma', 'otm_call_theta', 'otm_call_vega'\n",
    "    ])\n",
    "    temp_df = atm_otm_improved_df[atm_otm_improved_df['trade_group'] == tg][[\n",
    "        'date', 'expiry', 'atm_strike', 'atm_straddle_price', 'forward_close', 'atm_iv',\n",
    "        'atm_delta', 'atm_gamma', 'atm_theta', 'atm_vega', 'atm_qty', \n",
    "        'otm_put_strike', 'otm_put_price', 'otm_put_position_qty', 'otm_put_iv',\n",
    "        'otm_put_delta', 'otm_put_gamma', 'otm_put_theta', 'otm_put_vega',\n",
    "        'otm_call_strike', 'otm_call_price', 'otm_call_position_qty', 'otm_call_iv',\n",
    "        'otm_call_delta', 'otm_call_gamma', 'otm_call_theta', 'otm_call_vega'\n",
    "    ]].reset_index().drop('index', axis=1)\n",
    "    atm_strike = temp_df['atm_strike'].iloc[0]\n",
    "    otm_put_strike = temp_df['otm_put_strike'].iloc[0]\n",
    "    otm_call_strike = temp_df['otm_call_strike'].iloc[0]\n",
    "    expiry = temp_df['expiry'].iloc[0]\n",
    "    atm_qty = temp_df['atm_qty'].iloc[0]\n",
    "    otm_put_position_qty = temp_df['otm_put_position_qty'].iloc[0]\n",
    "    otm_call_position_qty = temp_df['otm_call_position_qty'].iloc[0]\n",
    "    trade_df_date = []\n",
    "    trade_df_expiry = []\n",
    "    trade_df_atm_strike = []\n",
    "    trade_df_atm_straddle_price = []\n",
    "    trade_df_forward_close = []\n",
    "    trade_df_atm_iv = []\n",
    "    trade_df_atm_delta = []\n",
    "    trade_df_atm_gamma = []\n",
    "    trade_df_atm_theta = []\n",
    "    trade_df_atm_vega = []\n",
    "    trade_df_atm_qty = []\n",
    "    trade_df_otm_put_strike = []\n",
    "    trade_df_otm_put_price = []\n",
    "    trade_df_otm_put_position_qty = []\n",
    "    trade_df_otm_put_iv = []\n",
    "    trade_df_otm_put_delta = []\n",
    "    trade_df_otm_put_gamma = []\n",
    "    trade_df_otm_put_theta = []\n",
    "    trade_df_otm_put_vega = []\n",
    "    trade_df_otm_call_strike = []\n",
    "    trade_df_otm_call_price = []\n",
    "    trade_df_otm_call_position_qty = []\n",
    "    trade_df_otm_call_iv = []\n",
    "    trade_df_otm_call_delta = []\n",
    "    trade_df_otm_call_gamma = []\n",
    "    trade_df_otm_call_theta = []\n",
    "    trade_df_otm_call_vega = []\n",
    "    trade_df_net_delta = []\n",
    "    trade_df_futures_qty = []\n",
    "    trade_df_futures_pnl = []\n",
    "    for i in range(0, len(temp_df)):\n",
    "        try:\n",
    "            atm_delta_df = df[\n",
    "                (df['date'] == temp_df['date'][i])\n",
    "                & (df['expiry'] == expiry)\n",
    "                & (df['strike'] == atm_strike)\n",
    "            ][['date', 'expiry', 'strike', 'forward_close', 'implied_volatility', 'delta', 'gamma', 'theta', 'vega', 'put_close', 'call_close']].reset_index().drop('index', axis=1)\n",
    "            otm_put_delta_df = df[\n",
    "                (df['date'] == temp_df['date'][i])\n",
    "                & (df['expiry'] == expiry)\n",
    "                & (df['strike'] <= otm_put_strike)\n",
    "            ][['date', 'expiry', 'strike', 'forward_close', 'implied_volatility', 'delta', 'gamma', 'theta', 'vega', 'put_close']].reset_index().drop('index', axis=1).sort_values(by=['strike'], ascending=[False])      \n",
    "            otm_call_delta_df = df[\n",
    "                (df['date'] == temp_df['date'][i])\n",
    "                & (df['expiry'] == expiry)\n",
    "                & (df['strike'] >= otm_call_strike)\n",
    "            ][['date', 'expiry', 'strike', 'forward_close', 'implied_volatility','delta', 'gamma', 'theta', 'vega', 'call_close']].reset_index().drop('index', axis=1).sort_values(by=['strike'], ascending=[True])      \n",
    "            trade_df_date.append(atm_delta_df['date'].iloc[0])\n",
    "            trade_df_expiry.append(atm_delta_df['expiry'].iloc[0])\n",
    "            trade_df_atm_strike.append(atm_delta_df['strike'].iloc[0])\n",
    "            trade_df_forward_close.append(atm_delta_df['forward_close'].iloc[0])\n",
    "            trade_df_atm_straddle_price.append(atm_delta_df['put_close'].iloc[0] + atm_delta_df['call_close'].iloc[0])            \n",
    "            trade_df_atm_iv.append(atm_delta_df['implied_volatility'].iloc[0])\n",
    "            trade_df_atm_delta.append(atm_delta_df['delta'].iloc[0])\n",
    "            trade_df_atm_gamma.append(atm_delta_df['gamma'].iloc[0])\n",
    "            trade_df_atm_theta.append(atm_delta_df['theta'].iloc[0])\n",
    "            trade_df_atm_vega.append(atm_delta_df['vega'].iloc[0])\n",
    "            trade_df_otm_put_strike.append(otm_put_delta_df['strike'].iloc[0])\n",
    "            trade_df_otm_put_price.append(otm_put_delta_df['put_close'].iloc[0])\n",
    "            trade_df_otm_put_iv.append(otm_put_delta_df['implied_volatility'].iloc[0])\n",
    "            trade_df_otm_put_delta.append(otm_put_delta_df['delta'].iloc[0])\n",
    "            trade_df_otm_put_gamma.append(otm_put_delta_df['gamma'].iloc[0])\n",
    "            trade_df_otm_put_theta.append(otm_put_delta_df['theta'].iloc[0])\n",
    "            trade_df_otm_put_vega.append(otm_put_delta_df['vega'].iloc[0])\n",
    "            trade_df_otm_call_strike.append(otm_call_delta_df['strike'].iloc[0])\n",
    "            trade_df_otm_call_price.append(otm_call_delta_df['call_close'].iloc[0])\n",
    "            trade_df_otm_call_iv.append(otm_call_delta_df['implied_volatility'].iloc[0])\n",
    "            trade_df_otm_call_delta.append(otm_call_delta_df['delta'].iloc[0])\n",
    "            trade_df_otm_call_gamma.append(otm_call_delta_df['gamma'].iloc[0])\n",
    "            trade_df_otm_call_theta.append(otm_call_delta_df['theta'].iloc[0])\n",
    "            trade_df_otm_call_vega.append(otm_call_delta_df['vega'].iloc[0])\n",
    "        except:\n",
    "            atm_delta_df = df[\n",
    "                (df['date'] == temp_df['date'][i])\n",
    "                & (df['expiry'] == expiry)\n",
    "                & (df['strike'].between(atm_strike - 50, atm_strike + 50))\n",
    "            ][['date', 'expiry', 'strike', 'forward_close', 'implied_volatility', 'delta', 'gamma', 'theta', 'vega', 'put_close', 'call_close']].reset_index().drop('index', axis=1)\n",
    "            otm_put_delta_df = df[\n",
    "                (df['date'] == temp_df['date'][i])\n",
    "                & (df['expiry'] == expiry)\n",
    "                & (df['strike'] <= otm_put_strike)\n",
    "            ][['date', 'expiry', 'strike', 'forward_close', 'implied_volatility', 'delta', 'gamma', 'theta', 'vega', 'put_close']].reset_index().drop('index', axis=1).sort_values(by=['strike'], ascending=[False])      \n",
    "            otm_call_delta_df = df[\n",
    "                (df['date'] == temp_df['date'][i])\n",
    "                & (df['expiry'] == expiry)\n",
    "                & (df['strike'] >= otm_call_strike)\n",
    "            ][['date', 'expiry', 'strike', 'forward_close', 'implied_volatility','delta', 'gamma', 'theta', 'vega', 'call_close']].reset_index().drop('index', axis=1).sort_values(by=['strike'], ascending=[True])      \n",
    "            trade_df_date.append(atm_delta_df['date'].iloc[0])\n",
    "            trade_df_expiry.append(atm_delta_df['expiry'].iloc[0])\n",
    "            trade_df_atm_strike.append(atm_delta_df['strike'].iloc[0])\n",
    "            trade_df_forward_close.append(atm_delta_df['forward_close'].iloc[0])\n",
    "            trade_df_atm_straddle_price.append(atm_delta_df['put_close'].iloc[0] + atm_delta_df['call_close'].iloc[0])            \n",
    "            trade_df_atm_iv.append(atm_delta_df['implied_volatility'].iloc[0])\n",
    "            trade_df_atm_delta.append(atm_delta_df['delta'].iloc[0])\n",
    "            trade_df_atm_gamma.append(atm_delta_df['gamma'].iloc[0])\n",
    "            trade_df_atm_theta.append(atm_delta_df['theta'].iloc[0])\n",
    "            trade_df_atm_vega.append(atm_delta_df['vega'].iloc[0])\n",
    "            trade_df_otm_put_strike.append(otm_put_delta_df['strike'].iloc[0])\n",
    "            trade_df_otm_put_price.append(otm_put_delta_df['put_close'].iloc[0])\n",
    "            trade_df_otm_put_iv.append(otm_put_delta_df['implied_volatility'].iloc[0])\n",
    "            trade_df_otm_put_delta.append(otm_put_delta_df['delta'].iloc[0])\n",
    "            trade_df_otm_put_gamma.append(otm_put_delta_df['gamma'].iloc[0])\n",
    "            trade_df_otm_put_theta.append(otm_put_delta_df['theta'].iloc[0])\n",
    "            trade_df_otm_put_vega.append(otm_put_delta_df['vega'].iloc[0])\n",
    "            trade_df_otm_call_strike.append(otm_call_delta_df['strike'].iloc[0])\n",
    "            trade_df_otm_call_price.append(otm_call_delta_df['call_close'].iloc[0])\n",
    "            trade_df_otm_call_iv.append(otm_call_delta_df['implied_volatility'].iloc[0])\n",
    "            trade_df_otm_call_delta.append(otm_call_delta_df['delta'].iloc[0])\n",
    "            trade_df_otm_call_gamma.append(otm_call_delta_df['gamma'].iloc[0])\n",
    "            trade_df_otm_call_theta.append(otm_call_delta_df['theta'].iloc[0])\n",
    "            trade_df_otm_call_vega.append(otm_call_delta_df['vega'].iloc[0])\n",
    "            continue\n",
    "    try:\n",
    "        trade_df['date'] = trade_df_date\n",
    "        trade_df['expiry'] = trade_df_expiry\n",
    "        trade_df['atm_strike'] = trade_df_atm_strike\n",
    "        trade_df['atm_straddle_price'] = trade_df_atm_straddle_price\n",
    "        trade_df['forward_close'] = trade_df_forward_close\n",
    "        trade_df['atm_iv'] = trade_df_atm_iv\n",
    "        trade_df['atm_delta'] = trade_df_atm_delta\n",
    "        trade_df['atm_gamma'] = trade_df_atm_gamma\n",
    "        trade_df['atm_theta'] = trade_df_atm_theta\n",
    "        trade_df['atm_vega'] = trade_df_atm_vega\n",
    "        trade_df['otm_put_strike'] = trade_df_otm_put_strike\n",
    "        trade_df['otm_put_price'] = trade_df_otm_put_price\n",
    "        trade_df['otm_put_iv'] = trade_df_otm_put_iv\n",
    "        trade_df['otm_put_delta'] = trade_df_otm_put_delta\n",
    "        trade_df['otm_put_gamma'] = trade_df_otm_put_gamma\n",
    "        trade_df['otm_put_theta'] = trade_df_otm_put_theta\n",
    "        trade_df['otm_put_vega'] = trade_df_otm_put_vega\n",
    "        trade_df['otm_call_strike'] = trade_df_otm_call_strike\n",
    "        trade_df['otm_call_price'] = trade_df_otm_call_price\n",
    "        trade_df['otm_call_iv'] = trade_df_otm_call_iv\n",
    "        trade_df['otm_call_delta'] = trade_df_otm_call_delta\n",
    "        trade_df['otm_call_gamma'] = trade_df_otm_call_gamma\n",
    "        trade_df['otm_call_theta'] = trade_df_otm_call_theta\n",
    "        trade_df['otm_call_vega'] = trade_df_otm_call_vega\n",
    "        trade_df['atm_qty'] = atm_qty\n",
    "        trade_df['otm_put_position_qty'] = otm_put_position_qty\n",
    "        trade_df['otm_call_position_qty'] = otm_call_position_qty\n",
    "        trade_df['atm_call_delta'] = np.where(trade_df['atm_delta'] >= 0, trade_df['atm_delta'], trade_df['atm_delta'] + 1)\n",
    "        trade_df['atm_put_delta'] = np.where(trade_df['atm_delta'] <= 0, trade_df['atm_delta'], trade_df['atm_delta'] - 1)\n",
    "        trade_df['otm_put_delta'] = np.where(trade_df['otm_put_delta'] <= 0, trade_df['otm_put_delta'], trade_df['otm_put_delta'] - 1)\n",
    "        trade_df['otm_call_delta'] = np.where(trade_df['otm_call_delta'] >= 0, trade_df['otm_call_delta'], trade_df['otm_call_delta'] + 1)\n",
    "        trade_df['position_delta'] = ''\n",
    "        trade_df['net_delta'] = ''\n",
    "        trade_df['futures_qty_to_buy_or_sell'] = ''\n",
    "        trade_df['net_futures_qty_post_hedging'] = ''\n",
    "        trade_df['net_delta_post_hedging'] = ''\n",
    "        trade_df['futures_times_qty'] = ''\n",
    "        trade_df['position_gamma'] = ''\n",
    "        trade_df['position_theta'] = ''\n",
    "        trade_df['position_vega'] = ''\n",
    "        for i in range(0, len(trade_df)):\n",
    "            if i == 0:\n",
    "                trade_df['position_delta'][i] = -1*(trade_df['atm_call_delta'][i] + trade_df['atm_put_delta'][i]) * atm_qty + trade_df['otm_put_delta'][i] * otm_put_position_qty + trade_df['otm_call_delta'][i] * otm_call_position_qty           \n",
    "                trade_df['net_delta'][i] = trade_df['position_delta'][i]\n",
    "                trade_df['futures_qty_to_buy_or_sell'][i] = - trade_df['net_delta'][i]\n",
    "                trade_df['net_futures_qty_post_hedging'][i] = trade_df['futures_qty_to_buy_or_sell'][i]\n",
    "                trade_df['net_delta_post_hedging'][i] = trade_df['futures_qty_to_buy_or_sell'][i] + trade_df['net_delta'][i]\n",
    "                trade_df['position_gamma'][i] = -1*(trade_df['atm_gamma'][i] * 2) * atm_qty + trade_df['otm_put_gamma'][i] * otm_put_position_qty + trade_df['otm_call_gamma'][i] * otm_call_position_qty\n",
    "                trade_df['position_theta'][i] = -1*(trade_df['atm_theta'][i] * 2) * atm_qty + trade_df['otm_put_theta'][i] * otm_put_position_qty + trade_df['otm_call_theta'][i] * otm_call_position_qty\n",
    "                trade_df['position_vega'][i] = -1*(trade_df['atm_vega'][i] * 2) * atm_qty + trade_df['otm_put_vega'][i] * otm_put_position_qty + trade_df['otm_call_vega'][i] * otm_call_position_qty\n",
    "            else:\n",
    "                trade_df['position_delta'][i] = -1*(trade_df['atm_call_delta'][i] + trade_df['atm_put_delta'][i]) * atm_qty + trade_df['otm_put_delta'][i] * otm_put_position_qty + trade_df['otm_call_delta'][i] * otm_call_position_qty           \n",
    "                trade_df['net_delta'][i] = trade_df['position_delta'][i] + trade_df['net_futures_qty_post_hedging'][i-1]\n",
    "                trade_df['futures_qty_to_buy_or_sell'][i] = - trade_df['net_delta'][i]\n",
    "                trade_df['net_futures_qty_post_hedging'][i] = trade_df['futures_qty_to_buy_or_sell'][i] + trade_df['net_futures_qty_post_hedging'][i-1]\n",
    "                trade_df['net_delta_post_hedging'][i] = trade_df['futures_qty_to_buy_or_sell'][i] + trade_df['net_delta'][i]\n",
    "                trade_df['position_gamma'][i] = -1*(trade_df['atm_gamma'][i] * 2) * atm_qty + trade_df['otm_put_gamma'][i] * otm_put_position_qty + trade_df['otm_call_gamma'][i] * otm_call_position_qty\n",
    "                trade_df['position_theta'][i] = -1*(trade_df['atm_theta'][i] * 2) * atm_qty + trade_df['otm_put_theta'][i] * otm_put_position_qty + trade_df['otm_call_theta'][i] * otm_call_position_qty\n",
    "                trade_df['position_vega'][i] = -1*(trade_df['atm_vega'][i] * 2) * atm_qty + trade_df['otm_put_vega'][i] * otm_put_position_qty + trade_df['otm_call_vega'][i] * otm_call_position_qty\n",
    "            trade_df['futures_times_qty'][i] = trade_df['forward_close'][i] * trade_df['futures_qty_to_buy_or_sell'][i]    \n",
    "        atm_pnl = - (trade_df['atm_straddle_price'].iloc[len(trade_df) - 1] - trade_df['atm_straddle_price'].iloc[0]) * trade_df['atm_qty'].iloc[0]\n",
    "        otm_put_pnl = (trade_df['otm_put_price'].iloc[len(trade_df) - 1] - trade_df['otm_put_price'].iloc[0]) * trade_df['otm_put_position_qty'].iloc[0]\n",
    "        otm_call_pnl = (trade_df['otm_call_price'].iloc[len(trade_df) - 1] - trade_df['otm_call_price'].iloc[0]) * trade_df['otm_call_position_qty'].iloc[0]\n",
    "        options_pnl = atm_pnl + otm_put_pnl + otm_call_pnl\n",
    "        futures_pnl = trade_df['futures_times_qty'].sum() + (-1 * trade_df['net_futures_qty_post_hedging'].iloc[len(trade_df) - 1] * trade_df['forward_close'].iloc[len(trade_df) - 1])\n",
    "        net_pnl = futures_pnl + options_pnl\n",
    "        date_list.append(trade_df['date'].iloc[len(trade_df)-1])\n",
    "        options_pnl_list.append(options_pnl)\n",
    "        futures_pnl_list.append(futures_pnl)\n",
    "        net_pnl_list.append(net_pnl)\n",
    "        delta_adjustments_df = pd.concat([delta_adjustments_df, trade_df], axis=0)\n",
    "        daily_greek_exposure_df = pd.concat([daily_greek_exposure_df, trade_df], axis=0)\n",
    "    except:\n",
    "        continue\n",
    "delta_adjustments_df = delta_adjustments_df.reset_index().drop('index', axis=1)\n",
    "daily_greek_exposure_df = daily_greek_exposure_df.reset_index().drop('index', axis=1)\n",
    "short_pnl_df['date'] = date_list    \n",
    "short_pnl_df['options_pnl'] = options_pnl_list\n",
    "short_pnl_df['futures_pnl'] = futures_pnl_list\n",
    "short_pnl_df['atm_pnl'] = net_pnl_list\n",
    "short_pnl_df['cumulative_atm_pnl'] = short_pnl_df['atm_pnl'].cumsum()\n",
    "\n",
    "# Make 'short_pnl_df' compatible with other pnl_df's\n",
    "short_pnl_df['date'] = pd.to_datetime(short_pnl_df['date'], format='mixed')\n",
    "short_pnl_df['month'] = short_pnl_df['date'].apply(lambda x: \"{}-{}\".format(x.month_name()[:3],x.year))\n",
    "monthly_atm_pnl = short_pnl_df.groupby(['month'], sort=False)['atm_pnl'].sum()\n",
    "monthly_short_pnl_df = pd.DataFrame(monthly_atm_pnl)\n",
    "monthly_short_pnl_df = monthly_short_pnl_df.reset_index()\n",
    "monthly_short_pnl_df['atm_pnl'] = monthly_short_pnl_df['atm_pnl'].fillna(0)\n",
    "monthly_short_pnl_df['cumulative_atm_pnl'] = monthly_short_pnl_df['atm_pnl'].cumsum()"
   ]
  },
  {
   "cell_type": "code",
   "execution_count": 37,
   "id": "be6a30c5",
   "metadata": {},
   "outputs": [
    {
     "data": {
      "text/html": [
       "<div>\n",
       "<style scoped>\n",
       "    .dataframe tbody tr th:only-of-type {\n",
       "        vertical-align: middle;\n",
       "    }\n",
       "\n",
       "    .dataframe tbody tr th {\n",
       "        vertical-align: top;\n",
       "    }\n",
       "\n",
       "    .dataframe thead th {\n",
       "        text-align: right;\n",
       "    }\n",
       "</style>\n",
       "<table border=\"1\" class=\"dataframe\">\n",
       "  <thead>\n",
       "    <tr style=\"text-align: right;\">\n",
       "      <th></th>\n",
       "      <th>trade_id</th>\n",
       "      <th>entry_date</th>\n",
       "      <th>exit_date</th>\n",
       "      <th>atm_iv</th>\n",
       "      <th>realized_vol</th>\n",
       "      <th>vol_risk_premium</th>\n",
       "      <th>atm_strike</th>\n",
       "      <th>otm_put_strike</th>\n",
       "      <th>otm_call_strike</th>\n",
       "      <th>position_delta</th>\n",
       "      <th>position_gamma</th>\n",
       "      <th>position_theta</th>\n",
       "      <th>position_vega</th>\n",
       "      <th>gamma_risk</th>\n",
       "      <th>vega_risk</th>\n",
       "    </tr>\n",
       "  </thead>\n",
       "  <tbody>\n",
       "    <tr>\n",
       "      <th>0</th>\n",
       "      <td>2</td>\n",
       "      <td>2016-01-18</td>\n",
       "      <td>2016-01-19</td>\n",
       "      <td>19.09%</td>\n",
       "      <td>15.10%</td>\n",
       "      <td>26.39%</td>\n",
       "      <td>7400.0</td>\n",
       "      <td>6800.0</td>\n",
       "      <td>7900.0</td>\n",
       "      <td>-8.620408</td>\n",
       "      <td>-1.247474</td>\n",
       "      <td>3062.78</td>\n",
       "      <td>-13007.82</td>\n",
       "      <td>-3080.0</td>\n",
       "      <td>-48395.0</td>\n",
       "    </tr>\n",
       "    <tr>\n",
       "      <th>1</th>\n",
       "      <td>3</td>\n",
       "      <td>2016-01-21</td>\n",
       "      <td>2016-01-22</td>\n",
       "      <td>19.14%</td>\n",
       "      <td>15.35%</td>\n",
       "      <td>24.68%</td>\n",
       "      <td>7300.0</td>\n",
       "      <td>6700.0</td>\n",
       "      <td>7800.0</td>\n",
       "      <td>-59.561068</td>\n",
       "      <td>-1.377485</td>\n",
       "      <td>3101.70</td>\n",
       "      <td>-12657.12</td>\n",
       "      <td>-3434.0</td>\n",
       "      <td>-47223.0</td>\n",
       "    </tr>\n",
       "    <tr>\n",
       "      <th>2</th>\n",
       "      <td>9</td>\n",
       "      <td>2016-06-22</td>\n",
       "      <td>2016-06-29</td>\n",
       "      <td>16.30%</td>\n",
       "      <td>10.98%</td>\n",
       "      <td>48.52%</td>\n",
       "      <td>8200.0</td>\n",
       "      <td>7400.0</td>\n",
       "      <td>9000.0</td>\n",
       "      <td>-134.286419</td>\n",
       "      <td>-1.732719</td>\n",
       "      <td>3685.56</td>\n",
       "      <td>-17783.52</td>\n",
       "      <td>-2810.0</td>\n",
       "      <td>-56518.0</td>\n",
       "    </tr>\n",
       "    <tr>\n",
       "      <th>3</th>\n",
       "      <td>11</td>\n",
       "      <td>2016-07-25</td>\n",
       "      <td>2016-08-05</td>\n",
       "      <td>14.13%</td>\n",
       "      <td>9.37%</td>\n",
       "      <td>50.83%</td>\n",
       "      <td>8700.0</td>\n",
       "      <td>7800.0</td>\n",
       "      <td>9400.0</td>\n",
       "      <td>33.735348</td>\n",
       "      <td>-2.227360</td>\n",
       "      <td>4087.92</td>\n",
       "      <td>-19197.00</td>\n",
       "      <td>-2925.0</td>\n",
       "      <td>-52884.0</td>\n",
       "    </tr>\n",
       "    <tr>\n",
       "      <th>4</th>\n",
       "      <td>12</td>\n",
       "      <td>2016-08-08</td>\n",
       "      <td>2016-08-11</td>\n",
       "      <td>12.84%</td>\n",
       "      <td>9.45%</td>\n",
       "      <td>35.92%</td>\n",
       "      <td>8750.0</td>\n",
       "      <td>7900.0</td>\n",
       "      <td>9300.0</td>\n",
       "      <td>25.838402</td>\n",
       "      <td>-3.297357</td>\n",
       "      <td>5215.76</td>\n",
       "      <td>-14581.82</td>\n",
       "      <td>-4461.0</td>\n",
       "      <td>-36500.0</td>\n",
       "    </tr>\n",
       "    <tr>\n",
       "      <th>...</th>\n",
       "      <td>...</td>\n",
       "      <td>...</td>\n",
       "      <td>...</td>\n",
       "      <td>...</td>\n",
       "      <td>...</td>\n",
       "      <td>...</td>\n",
       "      <td>...</td>\n",
       "      <td>...</td>\n",
       "      <td>...</td>\n",
       "      <td>...</td>\n",
       "      <td>...</td>\n",
       "      <td>...</td>\n",
       "      <td>...</td>\n",
       "      <td>...</td>\n",
       "      <td>...</td>\n",
       "    </tr>\n",
       "    <tr>\n",
       "      <th>97</th>\n",
       "      <td>181</td>\n",
       "      <td>2022-11-17</td>\n",
       "      <td>2022-11-22</td>\n",
       "      <td>12.98%</td>\n",
       "      <td>9.55%</td>\n",
       "      <td>35.91%</td>\n",
       "      <td>18500.0</td>\n",
       "      <td>16600.0</td>\n",
       "      <td>20000.0</td>\n",
       "      <td>4.442936</td>\n",
       "      <td>-0.401645</td>\n",
       "      <td>2918.70</td>\n",
       "      <td>-19765.70</td>\n",
       "      <td>-2481.0</td>\n",
       "      <td>-49998.0</td>\n",
       "    </tr>\n",
       "    <tr>\n",
       "      <th>98</th>\n",
       "      <td>182</td>\n",
       "      <td>2022-12-09</td>\n",
       "      <td>2022-12-15</td>\n",
       "      <td>11.21%</td>\n",
       "      <td>7.82%</td>\n",
       "      <td>43.31%</td>\n",
       "      <td>18600.0</td>\n",
       "      <td>16700.0</td>\n",
       "      <td>21000.0</td>\n",
       "      <td>8.760594</td>\n",
       "      <td>-0.784282</td>\n",
       "      <td>4238.45</td>\n",
       "      <td>-16085.60</td>\n",
       "      <td>-3288.0</td>\n",
       "      <td>-35147.0</td>\n",
       "    </tr>\n",
       "    <tr>\n",
       "      <th>99</th>\n",
       "      <td>184</td>\n",
       "      <td>2022-12-16</td>\n",
       "      <td>2022-12-19</td>\n",
       "      <td>13.02%</td>\n",
       "      <td>9.74%</td>\n",
       "      <td>33.57%</td>\n",
       "      <td>18450.0</td>\n",
       "      <td>16700.0</td>\n",
       "      <td>20000.0</td>\n",
       "      <td>-0.987687</td>\n",
       "      <td>-0.410606</td>\n",
       "      <td>2986.15</td>\n",
       "      <td>-19167.35</td>\n",
       "      <td>-2629.0</td>\n",
       "      <td>-48627.0</td>\n",
       "    </tr>\n",
       "    <tr>\n",
       "      <th>100</th>\n",
       "      <td>185</td>\n",
       "      <td>2022-12-20</td>\n",
       "      <td>2022-12-26</td>\n",
       "      <td>12.83%</td>\n",
       "      <td>9.62%</td>\n",
       "      <td>33.35%</td>\n",
       "      <td>18500.0</td>\n",
       "      <td>17000.0</td>\n",
       "      <td>19700.0</td>\n",
       "      <td>-25.889103</td>\n",
       "      <td>-0.399874</td>\n",
       "      <td>2848.90</td>\n",
       "      <td>-16770.50</td>\n",
       "      <td>-2519.0</td>\n",
       "      <td>-41930.0</td>\n",
       "    </tr>\n",
       "    <tr>\n",
       "      <th>101</th>\n",
       "      <td>187</td>\n",
       "      <td>2023-01-25</td>\n",
       "      <td>2023-02-02</td>\n",
       "      <td>14.30%</td>\n",
       "      <td>10.98%</td>\n",
       "      <td>30.16%</td>\n",
       "      <td>18000.0</td>\n",
       "      <td>16300.0</td>\n",
       "      <td>19500.0</td>\n",
       "      <td>0.943736</td>\n",
       "      <td>-0.556367</td>\n",
       "      <td>4640.22</td>\n",
       "      <td>-19699.80</td>\n",
       "      <td>-4308.0</td>\n",
       "      <td>-54894.0</td>\n",
       "    </tr>\n",
       "  </tbody>\n",
       "</table>\n",
       "<p>102 rows × 15 columns</p>\n",
       "</div>"
      ],
      "text/plain": [
       "     trade_id  entry_date   exit_date  atm_iv realized_vol vol_risk_premium   \n",
       "0           2  2016-01-18  2016-01-19  19.09%       15.10%           26.39%  \\\n",
       "1           3  2016-01-21  2016-01-22  19.14%       15.35%           24.68%   \n",
       "2           9  2016-06-22  2016-06-29  16.30%       10.98%           48.52%   \n",
       "3          11  2016-07-25  2016-08-05  14.13%        9.37%           50.83%   \n",
       "4          12  2016-08-08  2016-08-11  12.84%        9.45%           35.92%   \n",
       "..        ...         ...         ...     ...          ...              ...   \n",
       "97        181  2022-11-17  2022-11-22  12.98%        9.55%           35.91%   \n",
       "98        182  2022-12-09  2022-12-15  11.21%        7.82%           43.31%   \n",
       "99        184  2022-12-16  2022-12-19  13.02%        9.74%           33.57%   \n",
       "100       185  2022-12-20  2022-12-26  12.83%        9.62%           33.35%   \n",
       "101       187  2023-01-25  2023-02-02  14.30%       10.98%           30.16%   \n",
       "\n",
       "     atm_strike  otm_put_strike  otm_call_strike  position_delta   \n",
       "0        7400.0          6800.0           7900.0       -8.620408  \\\n",
       "1        7300.0          6700.0           7800.0      -59.561068   \n",
       "2        8200.0          7400.0           9000.0     -134.286419   \n",
       "3        8700.0          7800.0           9400.0       33.735348   \n",
       "4        8750.0          7900.0           9300.0       25.838402   \n",
       "..          ...             ...              ...             ...   \n",
       "97      18500.0         16600.0          20000.0        4.442936   \n",
       "98      18600.0         16700.0          21000.0        8.760594   \n",
       "99      18450.0         16700.0          20000.0       -0.987687   \n",
       "100     18500.0         17000.0          19700.0      -25.889103   \n",
       "101     18000.0         16300.0          19500.0        0.943736   \n",
       "\n",
       "     position_gamma  position_theta  position_vega  gamma_risk  vega_risk  \n",
       "0         -1.247474         3062.78      -13007.82     -3080.0   -48395.0  \n",
       "1         -1.377485         3101.70      -12657.12     -3434.0   -47223.0  \n",
       "2         -1.732719         3685.56      -17783.52     -2810.0   -56518.0  \n",
       "3         -2.227360         4087.92      -19197.00     -2925.0   -52884.0  \n",
       "4         -3.297357         5215.76      -14581.82     -4461.0   -36500.0  \n",
       "..              ...             ...            ...         ...        ...  \n",
       "97        -0.401645         2918.70      -19765.70     -2481.0   -49998.0  \n",
       "98        -0.784282         4238.45      -16085.60     -3288.0   -35147.0  \n",
       "99        -0.410606         2986.15      -19167.35     -2629.0   -48627.0  \n",
       "100       -0.399874         2848.90      -16770.50     -2519.0   -41930.0  \n",
       "101       -0.556367         4640.22      -19699.80     -4308.0   -54894.0  \n",
       "\n",
       "[102 rows x 15 columns]"
      ]
     },
     "execution_count": 37,
     "metadata": {},
     "output_type": "execute_result"
    }
   ],
   "source": [
    "# Entry & exit date for each short volatility trade\n",
    "entry_df = pd.DataFrame(atm_otm_improved_df.groupby('trade_group').first()).reset_index()\n",
    "entry_df = entry_df[\n",
    "    (entry_df['trade_group'] != 0)\n",
    "].reset_index().drop('index', axis=1)[[\n",
    "    'trade_group', 'date', 'atm_strike', 'otm_put_strike', 'atm_iv', 'realized_vol',\n",
    "    'vol_risk_premium', 'otm_call_strike', 'position_delta', 'position_gamma', \n",
    "    'position_theta', 'position_vega', 'gamma_risk', 'vega_risk'\n",
    "]].rename(columns={\n",
    "    'date': 'entry_date'\n",
    "})\n",
    "exit_df = pd.DataFrame(atm_otm_improved_df.groupby('trade_group').last()).reset_index()\n",
    "exit_df = exit_df[\n",
    "    (exit_df['trade_group'] != 0)\n",
    "].reset_index().drop('index', axis=1)[[\n",
    "    'trade_group', 'date'\n",
    "]].rename(columns={\n",
    "    'date': 'exit_date'\n",
    "})\n",
    "entry_exit_short_df = entry_df.merge(exit_df, on=['trade_group'], how='inner')\n",
    "entry_exit_short_df = entry_exit_short_df.rename(columns={\n",
    "    'trade_group': 'trade_id'\n",
    "})[[\n",
    "    'trade_id', 'entry_date', 'exit_date', 'atm_iv', 'realized_vol',\n",
    "    'vol_risk_premium', 'atm_strike', 'otm_put_strike', 'otm_call_strike', \n",
    "    'position_delta', 'position_gamma', 'position_theta', 'position_vega',\n",
    "    'gamma_risk', 'vega_risk'\n",
    "]]\n",
    "entry_exit_short_df['gamma_risk'] = round(entry_exit_short_df['gamma_risk'])\n",
    "entry_exit_short_df['vega_risk'] = round(entry_exit_short_df['vega_risk'])\n",
    "\n",
    "def convert_to_percentage(x):\n",
    "    return \"{:.2%}\".format(x)\n",
    "\n",
    "entry_exit_short_df['atm_iv'] = entry_exit_short_df['atm_iv'].apply(convert_to_percentage)\n",
    "entry_exit_short_df['realized_vol'] = entry_exit_short_df['realized_vol'].apply(convert_to_percentage)\n",
    "entry_exit_short_df['vol_risk_premium'] = entry_exit_short_df['vol_risk_premium'].apply(convert_to_percentage)\n",
    "entry_exit_short_df.to_csv('/Users/vamsikrishnasb/My Drive/Financial Analysis/Trader Job Interviews/Companies/Alpha Alternatives/Assignment/May 9/entry_exit_short_df.csv')\n",
    "entry_exit_short_df"
   ]
  },
  {
   "cell_type": "code",
   "execution_count": 47,
   "id": "0836c336",
   "metadata": {},
   "outputs": [],
   "source": [
    "# Merge entry_exit_short_df with that of equal vega risk and equal gamma risk scenarios\n",
    "path = '/Users/vamsikrishnasb/My Drive/Financial Analysis/Trader Job Interviews/Companies/Alpha Alternatives/Assignment/May 9/entry_exit_short_df_eq_v.csv'\n",
    "eq_v_df = pd.read_csv(path)\n",
    "path = '/Users/vamsikrishnasb/My Drive/Financial Analysis/Trader Job Interviews/Companies/Alpha Alternatives/Assignment/May 9/entry_exit_short_df_eq_g.csv'\n",
    "eq_g_df = pd.read_csv(path)\n",
    "eq_v_df = eq_v_df.drop('Unnamed: 0', axis=1)\n",
    "eq_g_df = eq_g_df.drop('Unnamed: 0', axis=1)\n",
    "eq_g_df\n",
    "entry_exit_short_df = entry_exit_short_df.merge(eq_v_df[[\n",
    "    'trade_id', 'vega_risk_eq_v', 'scaling_factor_eq_v'\n",
    "]], on=['trade_id'], how='inner')\n",
    "entry_exit_short_df = entry_exit_short_df.merge(eq_g_df[[    \n",
    "    'trade_id', 'gamma_risk_eq_g', 'scaling_factor_eq_g'\n",
    "]], on=['trade_id'], how='inner')\n",
    "entry_exit_short_df = entry_exit_short_df.rename(columns={\n",
    "    'vega_risk_eq_v': 'vega_risk_eq_vega',\n",
    "    'scaling_factor_eq_v': 'scaling_factor_eq_vega',\n",
    "    'gamma_risk_eq_g': 'vega_risk_eq_gamma',\n",
    "    'scaling_factor_eq_g': 'scaling_factor_eq_gamma'\n",
    "})\n",
    "entry_exit_short_df.to_csv('/Users/vamsikrishnasb/My Drive/Financial Analysis/Trader Job Interviews/Companies/Alpha Alternatives/Assignment/May 9/entry_exit_short_df.csv')"
   ]
  },
  {
   "cell_type": "code",
   "execution_count": 29,
   "id": "d0e76c74",
   "metadata": {},
   "outputs": [
    {
     "data": {
      "text/html": [
       "<div>\n",
       "<style scoped>\n",
       "    .dataframe tbody tr th:only-of-type {\n",
       "        vertical-align: middle;\n",
       "    }\n",
       "\n",
       "    .dataframe tbody tr th {\n",
       "        vertical-align: top;\n",
       "    }\n",
       "\n",
       "    .dataframe thead th {\n",
       "        text-align: right;\n",
       "    }\n",
       "</style>\n",
       "<table border=\"1\" class=\"dataframe\">\n",
       "  <thead>\n",
       "    <tr style=\"text-align: right;\">\n",
       "      <th></th>\n",
       "      <th>trade_id</th>\n",
       "      <th>date</th>\n",
       "      <th>expiry</th>\n",
       "      <th>atm_strike</th>\n",
       "      <th>atm_straddle_price</th>\n",
       "      <th>forward_close</th>\n",
       "      <th>atm_delta</th>\n",
       "      <th>atm_qty</th>\n",
       "      <th>atm_call_delta</th>\n",
       "      <th>atm_put_delta</th>\n",
       "      <th>...</th>\n",
       "      <th>otm_put_delta</th>\n",
       "      <th>otm_call_strike</th>\n",
       "      <th>otm_call_price</th>\n",
       "      <th>otm_call_qty</th>\n",
       "      <th>otm_call_delta</th>\n",
       "      <th>position_delta</th>\n",
       "      <th>net_delta</th>\n",
       "      <th>futures_qty_to_buy_or_sell</th>\n",
       "      <th>net_futures_qty_post_hedging</th>\n",
       "      <th>net_delta_post_hedging</th>\n",
       "    </tr>\n",
       "  </thead>\n",
       "  <tbody>\n",
       "    <tr>\n",
       "      <th>0</th>\n",
       "      <td>2</td>\n",
       "      <td>2016-01-18</td>\n",
       "      <td>2016-02-25</td>\n",
       "      <td>7400.0</td>\n",
       "      <td>361.75</td>\n",
       "      <td>7386.55</td>\n",
       "      <td>0.498091</td>\n",
       "      <td>1400.0</td>\n",
       "      <td>0.498091</td>\n",
       "      <td>-0.501909</td>\n",
       "      <td>...</td>\n",
       "      <td>-0.127050</td>\n",
       "      <td>7900.0</td>\n",
       "      <td>22.90</td>\n",
       "      <td>1400.0</td>\n",
       "      <td>0.117075</td>\n",
       "      <td>-8.620408</td>\n",
       "      <td>-8.620408</td>\n",
       "      <td>8.620408</td>\n",
       "      <td>8.620408</td>\n",
       "      <td>0.0</td>\n",
       "    </tr>\n",
       "    <tr>\n",
       "      <th>1</th>\n",
       "      <td>2</td>\n",
       "      <td>2016-01-19</td>\n",
       "      <td>2016-02-25</td>\n",
       "      <td>7400.0</td>\n",
       "      <td>335.40</td>\n",
       "      <td>7453.45</td>\n",
       "      <td>-0.437034</td>\n",
       "      <td>1400.0</td>\n",
       "      <td>0.562966</td>\n",
       "      <td>-0.437034</td>\n",
       "      <td>...</td>\n",
       "      <td>-0.093251</td>\n",
       "      <td>7900.0</td>\n",
       "      <td>21.50</td>\n",
       "      <td>1400.0</td>\n",
       "      <td>0.121837</td>\n",
       "      <td>-136.285894</td>\n",
       "      <td>-127.665486</td>\n",
       "      <td>127.665486</td>\n",
       "      <td>136.285894</td>\n",
       "      <td>0.0</td>\n",
       "    </tr>\n",
       "    <tr>\n",
       "      <th>2</th>\n",
       "      <td>3</td>\n",
       "      <td>2016-01-21</td>\n",
       "      <td>2016-02-25</td>\n",
       "      <td>7300.0</td>\n",
       "      <td>344.05</td>\n",
       "      <td>7301.55</td>\n",
       "      <td>-0.485101</td>\n",
       "      <td>1400.0</td>\n",
       "      <td>0.514899</td>\n",
       "      <td>-0.485101</td>\n",
       "      <td>...</td>\n",
       "      <td>-0.124425</td>\n",
       "      <td>7800.0</td>\n",
       "      <td>20.55</td>\n",
       "      <td>1400.0</td>\n",
       "      <td>0.111680</td>\n",
       "      <td>-59.561068</td>\n",
       "      <td>-59.561068</td>\n",
       "      <td>59.561068</td>\n",
       "      <td>59.561068</td>\n",
       "      <td>0.0</td>\n",
       "    </tr>\n",
       "    <tr>\n",
       "      <th>3</th>\n",
       "      <td>3</td>\n",
       "      <td>2016-01-22</td>\n",
       "      <td>2016-02-25</td>\n",
       "      <td>7300.0</td>\n",
       "      <td>341.85</td>\n",
       "      <td>7439.05</td>\n",
       "      <td>-0.355716</td>\n",
       "      <td>1400.0</td>\n",
       "      <td>0.644284</td>\n",
       "      <td>-0.355716</td>\n",
       "      <td>...</td>\n",
       "      <td>-0.069736</td>\n",
       "      <td>7800.0</td>\n",
       "      <td>31.45</td>\n",
       "      <td>1400.0</td>\n",
       "      <td>0.168240</td>\n",
       "      <td>-266.090256</td>\n",
       "      <td>-206.529188</td>\n",
       "      <td>206.529188</td>\n",
       "      <td>266.090256</td>\n",
       "      <td>0.0</td>\n",
       "    </tr>\n",
       "    <tr>\n",
       "      <th>4</th>\n",
       "      <td>9</td>\n",
       "      <td>2016-06-22</td>\n",
       "      <td>2016-07-28</td>\n",
       "      <td>8200.0</td>\n",
       "      <td>335.75</td>\n",
       "      <td>8235.75</td>\n",
       "      <td>-0.454208</td>\n",
       "      <td>1200.0</td>\n",
       "      <td>0.545792</td>\n",
       "      <td>-0.454208</td>\n",
       "      <td>...</td>\n",
       "      <td>-0.063795</td>\n",
       "      <td>9000.0</td>\n",
       "      <td>7.35</td>\n",
       "      <td>1200.0</td>\n",
       "      <td>0.043474</td>\n",
       "      <td>-134.286419</td>\n",
       "      <td>-134.286419</td>\n",
       "      <td>134.286419</td>\n",
       "      <td>134.286419</td>\n",
       "      <td>0.0</td>\n",
       "    </tr>\n",
       "    <tr>\n",
       "      <th>...</th>\n",
       "      <td>...</td>\n",
       "      <td>...</td>\n",
       "      <td>...</td>\n",
       "      <td>...</td>\n",
       "      <td>...</td>\n",
       "      <td>...</td>\n",
       "      <td>...</td>\n",
       "      <td>...</td>\n",
       "      <td>...</td>\n",
       "      <td>...</td>\n",
       "      <td>...</td>\n",
       "      <td>...</td>\n",
       "      <td>...</td>\n",
       "      <td>...</td>\n",
       "      <td>...</td>\n",
       "      <td>...</td>\n",
       "      <td>...</td>\n",
       "      <td>...</td>\n",
       "      <td>...</td>\n",
       "      <td>...</td>\n",
       "      <td>...</td>\n",
       "    </tr>\n",
       "    <tr>\n",
       "      <th>558</th>\n",
       "      <td>187</td>\n",
       "      <td>2023-01-27</td>\n",
       "      <td>2023-02-23</td>\n",
       "      <td>18000.0</td>\n",
       "      <td>683.15</td>\n",
       "      <td>17681.60</td>\n",
       "      <td>0.352228</td>\n",
       "      <td>600.0</td>\n",
       "      <td>0.352228</td>\n",
       "      <td>-0.647772</td>\n",
       "      <td>...</td>\n",
       "      <td>-0.074942</td>\n",
       "      <td>19500.0</td>\n",
       "      <td>9.25</td>\n",
       "      <td>600.0</td>\n",
       "      <td>0.027561</td>\n",
       "      <td>148.898391</td>\n",
       "      <td>147.954655</td>\n",
       "      <td>-147.954655</td>\n",
       "      <td>-148.898391</td>\n",
       "      <td>0.0</td>\n",
       "    </tr>\n",
       "    <tr>\n",
       "      <th>559</th>\n",
       "      <td>187</td>\n",
       "      <td>2023-01-30</td>\n",
       "      <td>2023-02-23</td>\n",
       "      <td>18000.0</td>\n",
       "      <td>644.05</td>\n",
       "      <td>17740.80</td>\n",
       "      <td>0.373411</td>\n",
       "      <td>600.0</td>\n",
       "      <td>0.373411</td>\n",
       "      <td>-0.626589</td>\n",
       "      <td>...</td>\n",
       "      <td>-0.064372</td>\n",
       "      <td>19500.0</td>\n",
       "      <td>8.25</td>\n",
       "      <td>600.0</td>\n",
       "      <td>0.025889</td>\n",
       "      <td>128.81758</td>\n",
       "      <td>-20.080812</td>\n",
       "      <td>20.080812</td>\n",
       "      <td>-128.81758</td>\n",
       "      <td>0.0</td>\n",
       "    </tr>\n",
       "    <tr>\n",
       "      <th>560</th>\n",
       "      <td>187</td>\n",
       "      <td>2023-01-31</td>\n",
       "      <td>2023-02-23</td>\n",
       "      <td>18000.0</td>\n",
       "      <td>590.80</td>\n",
       "      <td>17798.90</td>\n",
       "      <td>0.394506</td>\n",
       "      <td>600.0</td>\n",
       "      <td>0.394506</td>\n",
       "      <td>-0.605494</td>\n",
       "      <td>...</td>\n",
       "      <td>-0.045944</td>\n",
       "      <td>19500.0</td>\n",
       "      <td>6.20</td>\n",
       "      <td>600.0</td>\n",
       "      <td>0.021364</td>\n",
       "      <td>111.844646</td>\n",
       "      <td>-16.972933</td>\n",
       "      <td>16.972933</td>\n",
       "      <td>-111.844646</td>\n",
       "      <td>0.0</td>\n",
       "    </tr>\n",
       "    <tr>\n",
       "      <th>561</th>\n",
       "      <td>187</td>\n",
       "      <td>2023-02-01</td>\n",
       "      <td>2023-02-23</td>\n",
       "      <td>18000.0</td>\n",
       "      <td>601.75</td>\n",
       "      <td>17671.95</td>\n",
       "      <td>0.319472</td>\n",
       "      <td>600.0</td>\n",
       "      <td>0.319472</td>\n",
       "      <td>-0.680528</td>\n",
       "      <td>...</td>\n",
       "      <td>-0.061303</td>\n",
       "      <td>19500.0</td>\n",
       "      <td>5.00</td>\n",
       "      <td>600.0</td>\n",
       "      <td>0.017277</td>\n",
       "      <td>190.21856</td>\n",
       "      <td>78.373914</td>\n",
       "      <td>-78.373914</td>\n",
       "      <td>-190.21856</td>\n",
       "      <td>0.0</td>\n",
       "    </tr>\n",
       "    <tr>\n",
       "      <th>562</th>\n",
       "      <td>187</td>\n",
       "      <td>2023-02-02</td>\n",
       "      <td>2023-02-23</td>\n",
       "      <td>18000.0</td>\n",
       "      <td>549.90</td>\n",
       "      <td>17684.10</td>\n",
       "      <td>0.304943</td>\n",
       "      <td>600.0</td>\n",
       "      <td>0.304943</td>\n",
       "      <td>-0.695057</td>\n",
       "      <td>...</td>\n",
       "      <td>-0.043024</td>\n",
       "      <td>19500.0</td>\n",
       "      <td>4.10</td>\n",
       "      <td>600.0</td>\n",
       "      <td>0.014892</td>\n",
       "      <td>217.189216</td>\n",
       "      <td>26.970655</td>\n",
       "      <td>-26.970655</td>\n",
       "      <td>-217.189216</td>\n",
       "      <td>0.0</td>\n",
       "    </tr>\n",
       "  </tbody>\n",
       "</table>\n",
       "<p>563 rows × 23 columns</p>\n",
       "</div>"
      ],
      "text/plain": [
       "    trade_id        date      expiry  atm_strike  atm_straddle_price   \n",
       "0          2  2016-01-18  2016-02-25      7400.0              361.75  \\\n",
       "1          2  2016-01-19  2016-02-25      7400.0              335.40   \n",
       "2          3  2016-01-21  2016-02-25      7300.0              344.05   \n",
       "3          3  2016-01-22  2016-02-25      7300.0              341.85   \n",
       "4          9  2016-06-22  2016-07-28      8200.0              335.75   \n",
       "..       ...         ...         ...         ...                 ...   \n",
       "558      187  2023-01-27  2023-02-23     18000.0              683.15   \n",
       "559      187  2023-01-30  2023-02-23     18000.0              644.05   \n",
       "560      187  2023-01-31  2023-02-23     18000.0              590.80   \n",
       "561      187  2023-02-01  2023-02-23     18000.0              601.75   \n",
       "562      187  2023-02-02  2023-02-23     18000.0              549.90   \n",
       "\n",
       "     forward_close  atm_delta  atm_qty  atm_call_delta  atm_put_delta  ...   \n",
       "0          7386.55   0.498091   1400.0        0.498091      -0.501909  ...  \\\n",
       "1          7453.45  -0.437034   1400.0        0.562966      -0.437034  ...   \n",
       "2          7301.55  -0.485101   1400.0        0.514899      -0.485101  ...   \n",
       "3          7439.05  -0.355716   1400.0        0.644284      -0.355716  ...   \n",
       "4          8235.75  -0.454208   1200.0        0.545792      -0.454208  ...   \n",
       "..             ...        ...      ...             ...            ...  ...   \n",
       "558       17681.60   0.352228    600.0        0.352228      -0.647772  ...   \n",
       "559       17740.80   0.373411    600.0        0.373411      -0.626589  ...   \n",
       "560       17798.90   0.394506    600.0        0.394506      -0.605494  ...   \n",
       "561       17671.95   0.319472    600.0        0.319472      -0.680528  ...   \n",
       "562       17684.10   0.304943    600.0        0.304943      -0.695057  ...   \n",
       "\n",
       "     otm_put_delta  otm_call_strike  otm_call_price  otm_call_qty   \n",
       "0        -0.127050           7900.0           22.90        1400.0  \\\n",
       "1        -0.093251           7900.0           21.50        1400.0   \n",
       "2        -0.124425           7800.0           20.55        1400.0   \n",
       "3        -0.069736           7800.0           31.45        1400.0   \n",
       "4        -0.063795           9000.0            7.35        1200.0   \n",
       "..             ...              ...             ...           ...   \n",
       "558      -0.074942          19500.0            9.25         600.0   \n",
       "559      -0.064372          19500.0            8.25         600.0   \n",
       "560      -0.045944          19500.0            6.20         600.0   \n",
       "561      -0.061303          19500.0            5.00         600.0   \n",
       "562      -0.043024          19500.0            4.10         600.0   \n",
       "\n",
       "     otm_call_delta  position_delta   net_delta  futures_qty_to_buy_or_sell   \n",
       "0          0.117075       -8.620408   -8.620408                    8.620408  \\\n",
       "1          0.121837     -136.285894 -127.665486                  127.665486   \n",
       "2          0.111680      -59.561068  -59.561068                   59.561068   \n",
       "3          0.168240     -266.090256 -206.529188                  206.529188   \n",
       "4          0.043474     -134.286419 -134.286419                  134.286419   \n",
       "..              ...             ...         ...                         ...   \n",
       "558        0.027561      148.898391  147.954655                 -147.954655   \n",
       "559        0.025889       128.81758  -20.080812                   20.080812   \n",
       "560        0.021364      111.844646  -16.972933                   16.972933   \n",
       "561        0.017277       190.21856   78.373914                  -78.373914   \n",
       "562        0.014892      217.189216   26.970655                  -26.970655   \n",
       "\n",
       "    net_futures_qty_post_hedging net_delta_post_hedging  \n",
       "0                       8.620408                    0.0  \n",
       "1                     136.285894                    0.0  \n",
       "2                      59.561068                    0.0  \n",
       "3                     266.090256                    0.0  \n",
       "4                     134.286419                    0.0  \n",
       "..                           ...                    ...  \n",
       "558                  -148.898391                    0.0  \n",
       "559                   -128.81758                    0.0  \n",
       "560                  -111.844646                    0.0  \n",
       "561                   -190.21856                    0.0  \n",
       "562                  -217.189216                    0.0  \n",
       "\n",
       "[563 rows x 23 columns]"
      ]
     },
     "execution_count": 29,
     "metadata": {},
     "output_type": "execute_result"
    }
   ],
   "source": [
    "# Delta adjustments for the short vol trades\n",
    "delta_adjustments_df = pd.DataFrame(delta_adjustments_df.merge(atm_otm_improved_df[['date', 'expiry', 'trade_group']], on=['date', 'expiry'], how='left'))\n",
    "delta_adjustments_df = delta_adjustments_df[[\n",
    "    'trade_group', 'date', 'expiry', 'atm_strike', 'atm_straddle_price', 'forward_close',\n",
    "    'atm_delta', 'atm_qty', 'atm_call_delta', 'atm_put_delta', 'otm_put_strike',\n",
    "    'otm_put_price', 'otm_put_position_qty', 'otm_put_delta', 'otm_call_strike', \n",
    "    'otm_call_price', 'otm_call_position_qty', 'otm_call_delta',\n",
    "    'position_delta', 'net_delta', 'futures_qty_to_buy_or_sell',\n",
    "    'net_futures_qty_post_hedging', 'net_delta_post_hedging'\n",
    "]].rename(columns={\n",
    "    'trade_group': 'trade_id',\n",
    "    'otm_put_position_qty': 'otm_put_qty',\n",
    "    'otm_call_position_qty': 'otm_call_qty'\n",
    "})\n",
    "delta_adjustments_df['otm_put_qty'] = round(delta_adjustments_df['otm_put_qty'], 0)\n",
    "delta_adjustments_df['otm_call_qty'] = round(delta_adjustments_df['otm_call_qty'], 0)\n",
    "delta_adjustments_df.to_csv('/Users/vamsikrishnasb/My Drive/Financial Analysis/Trader Job Interviews/Companies/Alpha Alternatives/Assignment/May 9/delta_adjustments_df.csv')\n",
    "delta_adjustments_df"
   ]
  },
  {
   "cell_type": "code",
   "execution_count": 30,
   "id": "bf8ce882",
   "metadata": {},
   "outputs": [
    {
     "data": {
      "text/html": [
       "<div>\n",
       "<style scoped>\n",
       "    .dataframe tbody tr th:only-of-type {\n",
       "        vertical-align: middle;\n",
       "    }\n",
       "\n",
       "    .dataframe tbody tr th {\n",
       "        vertical-align: top;\n",
       "    }\n",
       "\n",
       "    .dataframe thead th {\n",
       "        text-align: right;\n",
       "    }\n",
       "</style>\n",
       "<table border=\"1\" class=\"dataframe\">\n",
       "  <thead>\n",
       "    <tr style=\"text-align: right;\">\n",
       "      <th></th>\n",
       "      <th>trade_id</th>\n",
       "      <th>date</th>\n",
       "      <th>expiry</th>\n",
       "      <th>forward_close</th>\n",
       "      <th>atm_strike</th>\n",
       "      <th>atm_qty</th>\n",
       "      <th>atm_vega</th>\n",
       "      <th>otm_put_strike</th>\n",
       "      <th>otm_put_qty</th>\n",
       "      <th>otm_put_vega</th>\n",
       "      <th>otm_call_strike</th>\n",
       "      <th>otm_call_qty</th>\n",
       "      <th>otm_call_vega</th>\n",
       "      <th>atm_iv</th>\n",
       "      <th>otm_put_iv</th>\n",
       "      <th>otm_call_iv</th>\n",
       "      <th>net_delta_post_hedging</th>\n",
       "      <th>position_gamma</th>\n",
       "      <th>position_theta</th>\n",
       "      <th>position_vega</th>\n",
       "    </tr>\n",
       "  </thead>\n",
       "  <tbody>\n",
       "    <tr>\n",
       "      <th>0</th>\n",
       "      <td>2</td>\n",
       "      <td>2016-01-18</td>\n",
       "      <td>2016-02-25</td>\n",
       "      <td>7386.55</td>\n",
       "      <td>7400.0</td>\n",
       "      <td>1400.0</td>\n",
       "      <td>9.4624</td>\n",
       "      <td>6800.0</td>\n",
       "      <td>1400.0</td>\n",
       "      <td>4.9549</td>\n",
       "      <td>7900.0</td>\n",
       "      <td>1400.0</td>\n",
       "      <td>4.6786</td>\n",
       "      <td>0.190869</td>\n",
       "      <td>0.233137</td>\n",
       "      <td>0.171486</td>\n",
       "      <td>0.0</td>\n",
       "      <td>-1.247474</td>\n",
       "      <td>3062.78</td>\n",
       "      <td>-13007.82</td>\n",
       "    </tr>\n",
       "    <tr>\n",
       "      <th>1</th>\n",
       "      <td>2</td>\n",
       "      <td>2016-01-19</td>\n",
       "      <td>2016-02-25</td>\n",
       "      <td>7453.45</td>\n",
       "      <td>7400.0</td>\n",
       "      <td>1400.0</td>\n",
       "      <td>9.3300</td>\n",
       "      <td>6800.0</td>\n",
       "      <td>1400.0</td>\n",
       "      <td>3.9538</td>\n",
       "      <td>7900.0</td>\n",
       "      <td>1400.0</td>\n",
       "      <td>4.7946</td>\n",
       "      <td>0.177233</td>\n",
       "      <td>0.224464</td>\n",
       "      <td>0.153723</td>\n",
       "      <td>0.0</td>\n",
       "      <td>-1.404142</td>\n",
       "      <td>3191.16</td>\n",
       "      <td>-13876.24</td>\n",
       "    </tr>\n",
       "    <tr>\n",
       "      <th>2</th>\n",
       "      <td>3</td>\n",
       "      <td>2016-01-21</td>\n",
       "      <td>2016-02-25</td>\n",
       "      <td>7301.55</td>\n",
       "      <td>7300.0</td>\n",
       "      <td>1400.0</td>\n",
       "      <td>8.9846</td>\n",
       "      <td>6700.0</td>\n",
       "      <td>1400.0</td>\n",
       "      <td>4.6346</td>\n",
       "      <td>7800.0</td>\n",
       "      <td>1400.0</td>\n",
       "      <td>4.2938</td>\n",
       "      <td>0.191406</td>\n",
       "      <td>0.249590</td>\n",
       "      <td>0.171672</td>\n",
       "      <td>0.0</td>\n",
       "      <td>-1.377485</td>\n",
       "      <td>3101.7</td>\n",
       "      <td>-12657.12</td>\n",
       "    </tr>\n",
       "    <tr>\n",
       "      <th>3</th>\n",
       "      <td>3</td>\n",
       "      <td>2016-01-22</td>\n",
       "      <td>2016-02-25</td>\n",
       "      <td>7439.05</td>\n",
       "      <td>7300.0</td>\n",
       "      <td>1400.0</td>\n",
       "      <td>8.4465</td>\n",
       "      <td>6700.0</td>\n",
       "      <td>1400.0</td>\n",
       "      <td>3.0381</td>\n",
       "      <td>7800.0</td>\n",
       "      <td>1400.0</td>\n",
       "      <td>5.7026</td>\n",
       "      <td>0.181803</td>\n",
       "      <td>0.238036</td>\n",
       "      <td>0.157809</td>\n",
       "      <td>0.0</td>\n",
       "      <td>-1.195517</td>\n",
       "      <td>2988.02</td>\n",
       "      <td>-11413.22</td>\n",
       "    </tr>\n",
       "    <tr>\n",
       "      <th>4</th>\n",
       "      <td>9</td>\n",
       "      <td>2016-06-22</td>\n",
       "      <td>2016-07-28</td>\n",
       "      <td>8235.75</td>\n",
       "      <td>8200.0</td>\n",
       "      <td>1200.0</td>\n",
       "      <td>10.2158</td>\n",
       "      <td>7400.0</td>\n",
       "      <td>1200.0</td>\n",
       "      <td>3.2294</td>\n",
       "      <td>9000.0</td>\n",
       "      <td>1200.0</td>\n",
       "      <td>2.3826</td>\n",
       "      <td>0.163046</td>\n",
       "      <td>0.229337</td>\n",
       "      <td>0.162818</td>\n",
       "      <td>0.0</td>\n",
       "      <td>-1.732719</td>\n",
       "      <td>3685.56</td>\n",
       "      <td>-17783.52</td>\n",
       "    </tr>\n",
       "    <tr>\n",
       "      <th>...</th>\n",
       "      <td>...</td>\n",
       "      <td>...</td>\n",
       "      <td>...</td>\n",
       "      <td>...</td>\n",
       "      <td>...</td>\n",
       "      <td>...</td>\n",
       "      <td>...</td>\n",
       "      <td>...</td>\n",
       "      <td>...</td>\n",
       "      <td>...</td>\n",
       "      <td>...</td>\n",
       "      <td>...</td>\n",
       "      <td>...</td>\n",
       "      <td>...</td>\n",
       "      <td>...</td>\n",
       "      <td>...</td>\n",
       "      <td>...</td>\n",
       "      <td>...</td>\n",
       "      <td>...</td>\n",
       "      <td>...</td>\n",
       "    </tr>\n",
       "    <tr>\n",
       "      <th>558</th>\n",
       "      <td>187</td>\n",
       "      <td>2023-01-27</td>\n",
       "      <td>2023-02-23</td>\n",
       "      <td>17681.60</td>\n",
       "      <td>18000.0</td>\n",
       "      <td>600.0</td>\n",
       "      <td>17.8035</td>\n",
       "      <td>16300.0</td>\n",
       "      <td>600.0</td>\n",
       "      <td>6.7963</td>\n",
       "      <td>19500.0</td>\n",
       "      <td>600.0</td>\n",
       "      <td>3.0472</td>\n",
       "      <td>0.165041</td>\n",
       "      <td>0.212344</td>\n",
       "      <td>0.185407</td>\n",
       "      <td>0.0</td>\n",
       "      <td>-0.434056</td>\n",
       "      <td>4317.24</td>\n",
       "      <td>-15458.1</td>\n",
       "    </tr>\n",
       "    <tr>\n",
       "      <th>559</th>\n",
       "      <td>187</td>\n",
       "      <td>2023-01-30</td>\n",
       "      <td>2023-02-23</td>\n",
       "      <td>17740.80</td>\n",
       "      <td>18000.0</td>\n",
       "      <td>600.0</td>\n",
       "      <td>17.1660</td>\n",
       "      <td>16300.0</td>\n",
       "      <td>600.0</td>\n",
       "      <td>5.7181</td>\n",
       "      <td>19500.0</td>\n",
       "      <td>600.0</td>\n",
       "      <td>2.7354</td>\n",
       "      <td>0.166813</td>\n",
       "      <td>0.221996</td>\n",
       "      <td>0.187472</td>\n",
       "      <td>0.0</td>\n",
       "      <td>-0.479719</td>\n",
       "      <td>4956.72</td>\n",
       "      <td>-15527.1</td>\n",
       "    </tr>\n",
       "    <tr>\n",
       "      <th>560</th>\n",
       "      <td>187</td>\n",
       "      <td>2023-01-31</td>\n",
       "      <td>2023-02-23</td>\n",
       "      <td>17798.90</td>\n",
       "      <td>18000.0</td>\n",
       "      <td>600.0</td>\n",
       "      <td>17.1013</td>\n",
       "      <td>16300.0</td>\n",
       "      <td>600.0</td>\n",
       "      <td>4.2998</td>\n",
       "      <td>19500.0</td>\n",
       "      <td>600.0</td>\n",
       "      <td>2.2849</td>\n",
       "      <td>0.159990</td>\n",
       "      <td>0.211717</td>\n",
       "      <td>0.177770</td>\n",
       "      <td>0.0</td>\n",
       "      <td>-0.54286</td>\n",
       "      <td>5462.28</td>\n",
       "      <td>-16570.74</td>\n",
       "    </tr>\n",
       "    <tr>\n",
       "      <th>561</th>\n",
       "      <td>187</td>\n",
       "      <td>2023-02-01</td>\n",
       "      <td>2023-02-23</td>\n",
       "      <td>17671.95</td>\n",
       "      <td>18000.0</td>\n",
       "      <td>600.0</td>\n",
       "      <td>15.4762</td>\n",
       "      <td>16300.0</td>\n",
       "      <td>600.0</td>\n",
       "      <td>5.2522</td>\n",
       "      <td>19500.0</td>\n",
       "      <td>600.0</td>\n",
       "      <td>1.8538</td>\n",
       "      <td>0.154375</td>\n",
       "      <td>0.217177</td>\n",
       "      <td>0.187770</td>\n",
       "      <td>0.0</td>\n",
       "      <td>-0.530545</td>\n",
       "      <td>4499.88</td>\n",
       "      <td>-14307.84</td>\n",
       "    </tr>\n",
       "    <tr>\n",
       "      <th>562</th>\n",
       "      <td>187</td>\n",
       "      <td>2023-02-02</td>\n",
       "      <td>2023-02-23</td>\n",
       "      <td>17684.10</td>\n",
       "      <td>18000.0</td>\n",
       "      <td>600.0</td>\n",
       "      <td>14.8222</td>\n",
       "      <td>16300.0</td>\n",
       "      <td>600.0</td>\n",
       "      <td>3.8745</td>\n",
       "      <td>19500.0</td>\n",
       "      <td>600.0</td>\n",
       "      <td>1.5955</td>\n",
       "      <td>0.141004</td>\n",
       "      <td>0.200988</td>\n",
       "      <td>0.185778</td>\n",
       "      <td>0.0</td>\n",
       "      <td>-0.608163</td>\n",
       "      <td>4454.04</td>\n",
       "      <td>-14504.64</td>\n",
       "    </tr>\n",
       "  </tbody>\n",
       "</table>\n",
       "<p>563 rows × 20 columns</p>\n",
       "</div>"
      ],
      "text/plain": [
       "    trade_id        date      expiry  forward_close  atm_strike  atm_qty   \n",
       "0          2  2016-01-18  2016-02-25        7386.55      7400.0   1400.0  \\\n",
       "1          2  2016-01-19  2016-02-25        7453.45      7400.0   1400.0   \n",
       "2          3  2016-01-21  2016-02-25        7301.55      7300.0   1400.0   \n",
       "3          3  2016-01-22  2016-02-25        7439.05      7300.0   1400.0   \n",
       "4          9  2016-06-22  2016-07-28        8235.75      8200.0   1200.0   \n",
       "..       ...         ...         ...            ...         ...      ...   \n",
       "558      187  2023-01-27  2023-02-23       17681.60     18000.0    600.0   \n",
       "559      187  2023-01-30  2023-02-23       17740.80     18000.0    600.0   \n",
       "560      187  2023-01-31  2023-02-23       17798.90     18000.0    600.0   \n",
       "561      187  2023-02-01  2023-02-23       17671.95     18000.0    600.0   \n",
       "562      187  2023-02-02  2023-02-23       17684.10     18000.0    600.0   \n",
       "\n",
       "     atm_vega  otm_put_strike  otm_put_qty  otm_put_vega  otm_call_strike   \n",
       "0      9.4624          6800.0       1400.0        4.9549           7900.0  \\\n",
       "1      9.3300          6800.0       1400.0        3.9538           7900.0   \n",
       "2      8.9846          6700.0       1400.0        4.6346           7800.0   \n",
       "3      8.4465          6700.0       1400.0        3.0381           7800.0   \n",
       "4     10.2158          7400.0       1200.0        3.2294           9000.0   \n",
       "..        ...             ...          ...           ...              ...   \n",
       "558   17.8035         16300.0        600.0        6.7963          19500.0   \n",
       "559   17.1660         16300.0        600.0        5.7181          19500.0   \n",
       "560   17.1013         16300.0        600.0        4.2998          19500.0   \n",
       "561   15.4762         16300.0        600.0        5.2522          19500.0   \n",
       "562   14.8222         16300.0        600.0        3.8745          19500.0   \n",
       "\n",
       "     otm_call_qty  otm_call_vega    atm_iv  otm_put_iv  otm_call_iv   \n",
       "0          1400.0         4.6786  0.190869    0.233137     0.171486  \\\n",
       "1          1400.0         4.7946  0.177233    0.224464     0.153723   \n",
       "2          1400.0         4.2938  0.191406    0.249590     0.171672   \n",
       "3          1400.0         5.7026  0.181803    0.238036     0.157809   \n",
       "4          1200.0         2.3826  0.163046    0.229337     0.162818   \n",
       "..            ...            ...       ...         ...          ...   \n",
       "558         600.0         3.0472  0.165041    0.212344     0.185407   \n",
       "559         600.0         2.7354  0.166813    0.221996     0.187472   \n",
       "560         600.0         2.2849  0.159990    0.211717     0.177770   \n",
       "561         600.0         1.8538  0.154375    0.217177     0.187770   \n",
       "562         600.0         1.5955  0.141004    0.200988     0.185778   \n",
       "\n",
       "    net_delta_post_hedging position_gamma position_theta position_vega  \n",
       "0                      0.0      -1.247474        3062.78     -13007.82  \n",
       "1                      0.0      -1.404142        3191.16     -13876.24  \n",
       "2                      0.0      -1.377485         3101.7     -12657.12  \n",
       "3                      0.0      -1.195517        2988.02     -11413.22  \n",
       "4                      0.0      -1.732719        3685.56     -17783.52  \n",
       "..                     ...            ...            ...           ...  \n",
       "558                    0.0      -0.434056        4317.24      -15458.1  \n",
       "559                    0.0      -0.479719        4956.72      -15527.1  \n",
       "560                    0.0       -0.54286        5462.28     -16570.74  \n",
       "561                    0.0      -0.530545        4499.88     -14307.84  \n",
       "562                    0.0      -0.608163        4454.04     -14504.64  \n",
       "\n",
       "[563 rows x 20 columns]"
      ]
     },
     "execution_count": 30,
     "metadata": {},
     "output_type": "execute_result"
    }
   ],
   "source": [
    "# Delta adjustments for the short vol trades\n",
    "daily_greek_exposure_df = pd.DataFrame(daily_greek_exposure_df.merge(atm_otm_improved_df[['date', 'expiry', 'trade_group']], on=['date', 'expiry'], how='left'))\n",
    "daily_greek_exposure_df = daily_greek_exposure_df[[\n",
    "    'trade_group', 'date', 'expiry', 'forward_close', 'atm_strike', 'atm_qty', 'atm_vega',\n",
    "    'otm_put_strike', 'otm_put_position_qty', 'otm_put_vega', 'otm_call_strike', \n",
    "    'otm_call_position_qty', 'otm_call_vega', \n",
    "    'atm_iv', 'otm_put_iv', 'otm_call_iv', \n",
    "    'net_delta_post_hedging', 'position_gamma', 'position_theta', 'position_vega'\n",
    "]].rename(columns={\n",
    "    'trade_group': 'trade_id',\n",
    "    'otm_put_position_qty': 'otm_put_qty',\n",
    "    'otm_call_position_qty': 'otm_call_qty'\n",
    "})\n",
    "daily_greek_exposure_df.to_csv('/Users/vamsikrishnasb/My Drive/Financial Analysis/Trader Job Interviews/Companies/Alpha Alternatives/Assignment/May 9/daily_greek_exposure_df.csv')\n",
    "daily_greek_exposure_df"
   ]
  },
  {
   "cell_type": "code",
   "execution_count": 31,
   "id": "7aaf3b6c",
   "metadata": {},
   "outputs": [],
   "source": [
    "# Daily PnL - Greeks Attribution\n",
    "trade_groups = list(set(atm_otm_improved_df['trade_group'].unique()) - set([0]))\n",
    "temp_pnl_df = pd.DataFrame(columns=['trade_id', 'date', 'daily_delta_pnl', 'daily_gamma_pnl', 'daily_theta_pnl', 'daily_vega_pnl'])\n",
    "for tg in trade_groups:\n",
    "    temp_df = daily_greek_exposure_df[\n",
    "        (daily_greek_exposure_df['trade_id'] == tg)\n",
    "    ]\n",
    "    temp_df['date'] = pd.to_datetime(temp_df['date'], format='mixed')\n",
    "    temp_df['daily_delta_pnl'] = temp_df['net_delta_post_hedging'].shift(1) * (temp_df['forward_close'] - temp_df['forward_close'].shift(1))\n",
    "    temp_df['daily_gamma_pnl'] = 0.5 * temp_df['position_gamma'].shift(1) * (temp_df['forward_close'] - temp_df['forward_close'].shift(1))**2\n",
    "    temp_df['daily_theta_pnl'] = temp_df['position_theta'].shift(1) * (temp_df['date'] - temp_df['date'].shift(1)).dt.days\n",
    "    atm_iv_diff = temp_df['atm_iv'] - temp_df['atm_iv'].shift(1)\n",
    "    otm_put_iv_diff = temp_df['otm_put_iv'] - temp_df['otm_put_iv'].shift(1)\n",
    "    otm_call_iv_diff = temp_df['otm_call_iv'] - temp_df['otm_call_iv'].shift(1)\n",
    "    temp_df['daily_vega_pnl'] = 100.00 * (- temp_df['atm_qty'] * temp_df['atm_vega'].shift(1) * atm_iv_diff * 2 + temp_df['otm_put_qty'] * temp_df['otm_put_vega'].shift(1) * otm_put_iv_diff  + temp_df['otm_call_qty'] * temp_df['otm_call_vega'].shift(1) * otm_call_iv_diff)       \n",
    "    temp_df = temp_df[['trade_id', 'date', 'daily_delta_pnl', 'daily_gamma_pnl', 'daily_theta_pnl', 'daily_vega_pnl']]\n",
    "    temp_pnl_df = pd.concat([temp_pnl_df, temp_df], axis = 0)\n",
    "daily_greek_wise_pnl_df = temp_pnl_df\n",
    "daily_greek_wise_pnl_df = daily_greek_wise_pnl_df.fillna(0)"
   ]
  },
  {
   "cell_type": "code",
   "execution_count": 55,
   "id": "aaeadfd1",
   "metadata": {},
   "outputs": [
    {
     "data": {
      "text/html": [
       "<div>\n",
       "<style scoped>\n",
       "    .dataframe tbody tr th:only-of-type {\n",
       "        vertical-align: middle;\n",
       "    }\n",
       "\n",
       "    .dataframe tbody tr th {\n",
       "        vertical-align: top;\n",
       "    }\n",
       "\n",
       "    .dataframe thead th {\n",
       "        text-align: right;\n",
       "    }\n",
       "</style>\n",
       "<table border=\"1\" class=\"dataframe\">\n",
       "  <thead>\n",
       "    <tr style=\"text-align: right;\">\n",
       "      <th></th>\n",
       "      <th>trade_id</th>\n",
       "      <th>entry_date</th>\n",
       "      <th>exit_date</th>\n",
       "      <th>atm_iv</th>\n",
       "      <th>realized_vol</th>\n",
       "      <th>vol_risk_premium</th>\n",
       "      <th>atm_strike</th>\n",
       "      <th>otm_put_strike</th>\n",
       "      <th>otm_call_strike</th>\n",
       "      <th>position_delta</th>\n",
       "      <th>...</th>\n",
       "      <th>atm_straddle_price</th>\n",
       "      <th>otm_put_qty</th>\n",
       "      <th>otm_put_price</th>\n",
       "      <th>otm_call_qty</th>\n",
       "      <th>otm_call_price</th>\n",
       "      <th>exposure</th>\n",
       "      <th>options_pnl</th>\n",
       "      <th>futures_pnl</th>\n",
       "      <th>pnl</th>\n",
       "      <th>cumulative_pnl</th>\n",
       "    </tr>\n",
       "  </thead>\n",
       "  <tbody>\n",
       "    <tr>\n",
       "      <th>0</th>\n",
       "      <td>2</td>\n",
       "      <td>2016-01-18</td>\n",
       "      <td>2016-01-19</td>\n",
       "      <td>19.09%</td>\n",
       "      <td>15.10%</td>\n",
       "      <td>26.39%</td>\n",
       "      <td>7400.0</td>\n",
       "      <td>6800.0</td>\n",
       "      <td>7900.0</td>\n",
       "      <td>-8.620408</td>\n",
       "      <td>...</td>\n",
       "      <td>361.75</td>\n",
       "      <td>1400.0</td>\n",
       "      <td>36.40</td>\n",
       "      <td>1400.0</td>\n",
       "      <td>22.90</td>\n",
       "      <td>10000000.0</td>\n",
       "      <td>17430.0</td>\n",
       "      <td>-576.705294</td>\n",
       "      <td>16853.294706</td>\n",
       "      <td>1.685329e+04</td>\n",
       "    </tr>\n",
       "    <tr>\n",
       "      <th>1</th>\n",
       "      <td>3</td>\n",
       "      <td>2016-01-21</td>\n",
       "      <td>2016-01-22</td>\n",
       "      <td>19.14%</td>\n",
       "      <td>15.35%</td>\n",
       "      <td>24.68%</td>\n",
       "      <td>7300.0</td>\n",
       "      <td>6700.0</td>\n",
       "      <td>7800.0</td>\n",
       "      <td>-59.561068</td>\n",
       "      <td>...</td>\n",
       "      <td>344.05</td>\n",
       "      <td>1400.0</td>\n",
       "      <td>36.05</td>\n",
       "      <td>1400.0</td>\n",
       "      <td>20.55</td>\n",
       "      <td>10000000.0</td>\n",
       "      <td>-8120.0</td>\n",
       "      <td>-8189.646871</td>\n",
       "      <td>-16309.646871</td>\n",
       "      <td>5.436478e+02</td>\n",
       "    </tr>\n",
       "    <tr>\n",
       "      <th>2</th>\n",
       "      <td>9</td>\n",
       "      <td>2016-06-22</td>\n",
       "      <td>2016-06-29</td>\n",
       "      <td>16.30%</td>\n",
       "      <td>10.98%</td>\n",
       "      <td>48.52%</td>\n",
       "      <td>8200.0</td>\n",
       "      <td>7400.0</td>\n",
       "      <td>9000.0</td>\n",
       "      <td>-134.286419</td>\n",
       "      <td>...</td>\n",
       "      <td>335.75</td>\n",
       "      <td>1200.0</td>\n",
       "      <td>16.95</td>\n",
       "      <td>1200.0</td>\n",
       "      <td>7.35</td>\n",
       "      <td>10000000.0</td>\n",
       "      <td>53700.0</td>\n",
       "      <td>48176.346134</td>\n",
       "      <td>101876.346134</td>\n",
       "      <td>1.024200e+05</td>\n",
       "    </tr>\n",
       "    <tr>\n",
       "      <th>3</th>\n",
       "      <td>11</td>\n",
       "      <td>2016-07-25</td>\n",
       "      <td>2016-08-05</td>\n",
       "      <td>14.13%</td>\n",
       "      <td>9.37%</td>\n",
       "      <td>50.83%</td>\n",
       "      <td>8700.0</td>\n",
       "      <td>7800.0</td>\n",
       "      <td>9400.0</td>\n",
       "      <td>33.735348</td>\n",
       "      <td>...</td>\n",
       "      <td>284.50</td>\n",
       "      <td>1200.0</td>\n",
       "      <td>8.15</td>\n",
       "      <td>1200.0</td>\n",
       "      <td>5.40</td>\n",
       "      <td>10000000.0</td>\n",
       "      <td>82380.0</td>\n",
       "      <td>38291.838227</td>\n",
       "      <td>120671.838227</td>\n",
       "      <td>2.230918e+05</td>\n",
       "    </tr>\n",
       "    <tr>\n",
       "      <th>4</th>\n",
       "      <td>12</td>\n",
       "      <td>2016-08-08</td>\n",
       "      <td>2016-08-11</td>\n",
       "      <td>12.84%</td>\n",
       "      <td>9.45%</td>\n",
       "      <td>35.92%</td>\n",
       "      <td>8750.0</td>\n",
       "      <td>7900.0</td>\n",
       "      <td>9300.0</td>\n",
       "      <td>25.838402</td>\n",
       "      <td>...</td>\n",
       "      <td>192.90</td>\n",
       "      <td>1100.0</td>\n",
       "      <td>3.05</td>\n",
       "      <td>1100.0</td>\n",
       "      <td>1.75</td>\n",
       "      <td>10000000.0</td>\n",
       "      <td>-6930.0</td>\n",
       "      <td>-11503.857210</td>\n",
       "      <td>-18433.857210</td>\n",
       "      <td>2.046580e+05</td>\n",
       "    </tr>\n",
       "    <tr>\n",
       "      <th>...</th>\n",
       "      <td>...</td>\n",
       "      <td>...</td>\n",
       "      <td>...</td>\n",
       "      <td>...</td>\n",
       "      <td>...</td>\n",
       "      <td>...</td>\n",
       "      <td>...</td>\n",
       "      <td>...</td>\n",
       "      <td>...</td>\n",
       "      <td>...</td>\n",
       "      <td>...</td>\n",
       "      <td>...</td>\n",
       "      <td>...</td>\n",
       "      <td>...</td>\n",
       "      <td>...</td>\n",
       "      <td>...</td>\n",
       "      <td>...</td>\n",
       "      <td>...</td>\n",
       "      <td>...</td>\n",
       "      <td>...</td>\n",
       "      <td>...</td>\n",
       "    </tr>\n",
       "    <tr>\n",
       "      <th>97</th>\n",
       "      <td>181</td>\n",
       "      <td>2022-11-17</td>\n",
       "      <td>2022-11-22</td>\n",
       "      <td>12.98%</td>\n",
       "      <td>9.55%</td>\n",
       "      <td>35.91%</td>\n",
       "      <td>18500.0</td>\n",
       "      <td>16600.0</td>\n",
       "      <td>20000.0</td>\n",
       "      <td>4.442936</td>\n",
       "      <td>...</td>\n",
       "      <td>652.40</td>\n",
       "      <td>500.0</td>\n",
       "      <td>17.85</td>\n",
       "      <td>500.0</td>\n",
       "      <td>11.25</td>\n",
       "      <td>9000000.0</td>\n",
       "      <td>42225.0</td>\n",
       "      <td>5513.646254</td>\n",
       "      <td>47738.646254</td>\n",
       "      <td>9.822514e+05</td>\n",
       "    </tr>\n",
       "    <tr>\n",
       "      <th>98</th>\n",
       "      <td>182</td>\n",
       "      <td>2022-12-09</td>\n",
       "      <td>2022-12-15</td>\n",
       "      <td>11.21%</td>\n",
       "      <td>7.82%</td>\n",
       "      <td>43.31%</td>\n",
       "      <td>18600.0</td>\n",
       "      <td>16700.0</td>\n",
       "      <td>21000.0</td>\n",
       "      <td>8.760594</td>\n",
       "      <td>...</td>\n",
       "      <td>387.70</td>\n",
       "      <td>500.0</td>\n",
       "      <td>3.75</td>\n",
       "      <td>500.0</td>\n",
       "      <td>2.65</td>\n",
       "      <td>9000000.0</td>\n",
       "      <td>21950.0</td>\n",
       "      <td>33559.822953</td>\n",
       "      <td>55509.822953</td>\n",
       "      <td>1.037761e+06</td>\n",
       "    </tr>\n",
       "    <tr>\n",
       "      <th>99</th>\n",
       "      <td>184</td>\n",
       "      <td>2022-12-16</td>\n",
       "      <td>2022-12-19</td>\n",
       "      <td>13.02%</td>\n",
       "      <td>9.74%</td>\n",
       "      <td>33.57%</td>\n",
       "      <td>18450.0</td>\n",
       "      <td>16700.0</td>\n",
       "      <td>20000.0</td>\n",
       "      <td>-0.987687</td>\n",
       "      <td>...</td>\n",
       "      <td>628.45</td>\n",
       "      <td>500.0</td>\n",
       "      <td>18.20</td>\n",
       "      <td>500.0</td>\n",
       "      <td>10.60</td>\n",
       "      <td>9000000.0</td>\n",
       "      <td>3375.0</td>\n",
       "      <td>-161.190456</td>\n",
       "      <td>3213.809544</td>\n",
       "      <td>1.040975e+06</td>\n",
       "    </tr>\n",
       "    <tr>\n",
       "      <th>100</th>\n",
       "      <td>185</td>\n",
       "      <td>2022-12-20</td>\n",
       "      <td>2022-12-26</td>\n",
       "      <td>12.83%</td>\n",
       "      <td>9.62%</td>\n",
       "      <td>33.35%</td>\n",
       "      <td>18500.0</td>\n",
       "      <td>17000.0</td>\n",
       "      <td>19700.0</td>\n",
       "      <td>-25.889103</td>\n",
       "      <td>...</td>\n",
       "      <td>591.00</td>\n",
       "      <td>500.0</td>\n",
       "      <td>23.60</td>\n",
       "      <td>500.0</td>\n",
       "      <td>14.60</td>\n",
       "      <td>9000000.0</td>\n",
       "      <td>-14875.0</td>\n",
       "      <td>7492.672086</td>\n",
       "      <td>-7382.327914</td>\n",
       "      <td>1.033593e+06</td>\n",
       "    </tr>\n",
       "    <tr>\n",
       "      <th>101</th>\n",
       "      <td>187</td>\n",
       "      <td>2023-01-25</td>\n",
       "      <td>2023-02-02</td>\n",
       "      <td>14.30%</td>\n",
       "      <td>10.98%</td>\n",
       "      <td>30.16%</td>\n",
       "      <td>18000.0</td>\n",
       "      <td>16300.0</td>\n",
       "      <td>19500.0</td>\n",
       "      <td>0.943736</td>\n",
       "      <td>...</td>\n",
       "      <td>575.60</td>\n",
       "      <td>600.0</td>\n",
       "      <td>13.50</td>\n",
       "      <td>600.0</td>\n",
       "      <td>9.35</td>\n",
       "      <td>11000000.0</td>\n",
       "      <td>13320.0</td>\n",
       "      <td>4123.913051</td>\n",
       "      <td>17443.913051</td>\n",
       "      <td>1.051037e+06</td>\n",
       "    </tr>\n",
       "  </tbody>\n",
       "</table>\n",
       "<p>102 rows × 32 columns</p>\n",
       "</div>"
      ],
      "text/plain": [
       "     trade_id  entry_date  exit_date  atm_iv realized_vol vol_risk_premium   \n",
       "0           2  2016-01-18 2016-01-19  19.09%       15.10%           26.39%  \\\n",
       "1           3  2016-01-21 2016-01-22  19.14%       15.35%           24.68%   \n",
       "2           9  2016-06-22 2016-06-29  16.30%       10.98%           48.52%   \n",
       "3          11  2016-07-25 2016-08-05  14.13%        9.37%           50.83%   \n",
       "4          12  2016-08-08 2016-08-11  12.84%        9.45%           35.92%   \n",
       "..        ...         ...        ...     ...          ...              ...   \n",
       "97        181  2022-11-17 2022-11-22  12.98%        9.55%           35.91%   \n",
       "98        182  2022-12-09 2022-12-15  11.21%        7.82%           43.31%   \n",
       "99        184  2022-12-16 2022-12-19  13.02%        9.74%           33.57%   \n",
       "100       185  2022-12-20 2022-12-26  12.83%        9.62%           33.35%   \n",
       "101       187  2023-01-25 2023-02-02  14.30%       10.98%           30.16%   \n",
       "\n",
       "     atm_strike  otm_put_strike  otm_call_strike  position_delta  ...   \n",
       "0        7400.0          6800.0           7900.0       -8.620408  ...  \\\n",
       "1        7300.0          6700.0           7800.0      -59.561068  ...   \n",
       "2        8200.0          7400.0           9000.0     -134.286419  ...   \n",
       "3        8700.0          7800.0           9400.0       33.735348  ...   \n",
       "4        8750.0          7900.0           9300.0       25.838402  ...   \n",
       "..          ...             ...              ...             ...  ...   \n",
       "97      18500.0         16600.0          20000.0        4.442936  ...   \n",
       "98      18600.0         16700.0          21000.0        8.760594  ...   \n",
       "99      18450.0         16700.0          20000.0       -0.987687  ...   \n",
       "100     18500.0         17000.0          19700.0      -25.889103  ...   \n",
       "101     18000.0         16300.0          19500.0        0.943736  ...   \n",
       "\n",
       "     atm_straddle_price  otm_put_qty  otm_put_price  otm_call_qty   \n",
       "0                361.75       1400.0          36.40        1400.0  \\\n",
       "1                344.05       1400.0          36.05        1400.0   \n",
       "2                335.75       1200.0          16.95        1200.0   \n",
       "3                284.50       1200.0           8.15        1200.0   \n",
       "4                192.90       1100.0           3.05        1100.0   \n",
       "..                  ...          ...            ...           ...   \n",
       "97               652.40        500.0          17.85         500.0   \n",
       "98               387.70        500.0           3.75         500.0   \n",
       "99               628.45        500.0          18.20         500.0   \n",
       "100              591.00        500.0          23.60         500.0   \n",
       "101              575.60        600.0          13.50         600.0   \n",
       "\n",
       "     otm_call_price    exposure  options_pnl   futures_pnl            pnl   \n",
       "0             22.90  10000000.0      17430.0   -576.705294   16853.294706  \\\n",
       "1             20.55  10000000.0      -8120.0  -8189.646871  -16309.646871   \n",
       "2              7.35  10000000.0      53700.0  48176.346134  101876.346134   \n",
       "3              5.40  10000000.0      82380.0  38291.838227  120671.838227   \n",
       "4              1.75  10000000.0      -6930.0 -11503.857210  -18433.857210   \n",
       "..              ...         ...          ...           ...            ...   \n",
       "97            11.25   9000000.0      42225.0   5513.646254   47738.646254   \n",
       "98             2.65   9000000.0      21950.0  33559.822953   55509.822953   \n",
       "99            10.60   9000000.0       3375.0   -161.190456    3213.809544   \n",
       "100           14.60   9000000.0     -14875.0   7492.672086   -7382.327914   \n",
       "101            9.35  11000000.0      13320.0   4123.913051   17443.913051   \n",
       "\n",
       "    cumulative_pnl  \n",
       "0     1.685329e+04  \n",
       "1     5.436478e+02  \n",
       "2     1.024200e+05  \n",
       "3     2.230918e+05  \n",
       "4     2.046580e+05  \n",
       "..             ...  \n",
       "97    9.822514e+05  \n",
       "98    1.037761e+06  \n",
       "99    1.040975e+06  \n",
       "100   1.033593e+06  \n",
       "101   1.051037e+06  \n",
       "\n",
       "[102 rows x 32 columns]"
      ]
     },
     "execution_count": 55,
     "metadata": {},
     "output_type": "execute_result"
    }
   ],
   "source": [
    "temp_df_01 = pd.DataFrame(delta_adjustments_df[[\n",
    "    'trade_id', 'expiry', 'forward_close', 'atm_qty', 'atm_straddle_price',\n",
    "    'otm_put_qty', 'otm_put_price', 'otm_call_qty', 'otm_call_price'\n",
    "]].groupby('trade_id').first()).reset_index()\n",
    "temp_df_02 = pd.DataFrame(entry_exit_short_df.merge(temp_df_01, on=['trade_id'], how='inner'))\n",
    "temp_df_02['exposure'] = round(temp_df_02['forward_close'] * temp_df_02['atm_qty'], -6)\n",
    "short_pnl_df = short_pnl_df.rename(columns={\n",
    "    'date': 'exit_date'\n",
    "})\n",
    "temp_df_02['exit_date'] = pd.to_datetime(temp_df_02['exit_date'])\n",
    "trades_pnl_df = temp_df_02.merge(short_pnl_df[['exit_date', 'options_pnl', 'futures_pnl', 'atm_pnl', 'cumulative_atm_pnl']], on=['exit_date'], how='inner')\n",
    "trades_pnl_df['otm_put_qty'] = round(trades_pnl_df['otm_put_qty'], 0)\n",
    "trades_pnl_df['otm_call_qty'] = round(trades_pnl_df['otm_call_qty'], 0)\n",
    "trades_pnl_df = trades_pnl_df.rename(columns={\n",
    "    'atm_pnl': 'pnl',\n",
    "    'cumulative_atm_pnl': 'cumulative_pnl'\n",
    "})\n",
    "trades_pnl_df.to_csv('/Users/vamsikrishnasb/My Drive/Financial Analysis/Trader Job Interviews/Companies/Alpha Alternatives/Assignment/May 9/trades_pnl_df.csv')\n",
    "trades_pnl_df"
   ]
  },
  {
   "cell_type": "code",
   "execution_count": 56,
   "id": "213be05a",
   "metadata": {},
   "outputs": [
    {
     "data": {
      "text/html": [
       "<div>\n",
       "<style scoped>\n",
       "    .dataframe tbody tr th:only-of-type {\n",
       "        vertical-align: middle;\n",
       "    }\n",
       "\n",
       "    .dataframe tbody tr th {\n",
       "        vertical-align: top;\n",
       "    }\n",
       "\n",
       "    .dataframe thead th {\n",
       "        text-align: right;\n",
       "    }\n",
       "</style>\n",
       "<table border=\"1\" class=\"dataframe\">\n",
       "  <thead>\n",
       "    <tr style=\"text-align: right;\">\n",
       "      <th></th>\n",
       "      <th>trade_id</th>\n",
       "      <th>entry_date</th>\n",
       "      <th>exit_date</th>\n",
       "      <th>atm_iv</th>\n",
       "      <th>realized_vol</th>\n",
       "      <th>vol_risk_premium</th>\n",
       "      <th>atm_strike</th>\n",
       "      <th>otm_put_strike</th>\n",
       "      <th>otm_call_strike</th>\n",
       "      <th>position_delta</th>\n",
       "      <th>...</th>\n",
       "      <th>otm_call_price</th>\n",
       "      <th>exposure</th>\n",
       "      <th>options_pnl</th>\n",
       "      <th>futures_pnl</th>\n",
       "      <th>pnl_1cr_exposure</th>\n",
       "      <th>cumulative_pnl_1cr_exposure</th>\n",
       "      <th>pnl_equal_vega</th>\n",
       "      <th>cumulative_pnl_equal_vega</th>\n",
       "      <th>pnl_equal_gamma</th>\n",
       "      <th>cumulative_pnl_equal_gamma</th>\n",
       "    </tr>\n",
       "  </thead>\n",
       "  <tbody>\n",
       "    <tr>\n",
       "      <th>0</th>\n",
       "      <td>2</td>\n",
       "      <td>2016-01-18</td>\n",
       "      <td>2016-01-19</td>\n",
       "      <td>19.09%</td>\n",
       "      <td>15.10%</td>\n",
       "      <td>26.39%</td>\n",
       "      <td>7400.0</td>\n",
       "      <td>6800.0</td>\n",
       "      <td>7900.0</td>\n",
       "      <td>-8.620408</td>\n",
       "      <td>...</td>\n",
       "      <td>22.90</td>\n",
       "      <td>10000000.0</td>\n",
       "      <td>17430.0</td>\n",
       "      <td>-576.705294</td>\n",
       "      <td>16853.294706</td>\n",
       "      <td>1.685329e+04</td>\n",
       "      <td>17407.045818</td>\n",
       "      <td>17407.045818</td>\n",
       "      <td>37110.469639</td>\n",
       "      <td>3.711047e+04</td>\n",
       "    </tr>\n",
       "    <tr>\n",
       "      <th>1</th>\n",
       "      <td>3</td>\n",
       "      <td>2016-01-21</td>\n",
       "      <td>2016-01-22</td>\n",
       "      <td>19.14%</td>\n",
       "      <td>15.35%</td>\n",
       "      <td>24.68%</td>\n",
       "      <td>7300.0</td>\n",
       "      <td>6700.0</td>\n",
       "      <td>7800.0</td>\n",
       "      <td>-59.561068</td>\n",
       "      <td>...</td>\n",
       "      <td>20.55</td>\n",
       "      <td>10000000.0</td>\n",
       "      <td>-8120.0</td>\n",
       "      <td>-8189.646871</td>\n",
       "      <td>-16309.646871</td>\n",
       "      <td>5.436478e+02</td>\n",
       "      <td>-17264.926188</td>\n",
       "      <td>142.119630</td>\n",
       "      <td>-32210.148829</td>\n",
       "      <td>4.900321e+03</td>\n",
       "    </tr>\n",
       "    <tr>\n",
       "      <th>2</th>\n",
       "      <td>9</td>\n",
       "      <td>2016-06-22</td>\n",
       "      <td>2016-06-29</td>\n",
       "      <td>16.30%</td>\n",
       "      <td>10.98%</td>\n",
       "      <td>48.52%</td>\n",
       "      <td>8200.0</td>\n",
       "      <td>7400.0</td>\n",
       "      <td>9000.0</td>\n",
       "      <td>-134.286419</td>\n",
       "      <td>...</td>\n",
       "      <td>7.35</td>\n",
       "      <td>10000000.0</td>\n",
       "      <td>53700.0</td>\n",
       "      <td>48176.346134</td>\n",
       "      <td>101876.346134</td>\n",
       "      <td>1.024200e+05</td>\n",
       "      <td>90160.566328</td>\n",
       "      <td>90302.685958</td>\n",
       "      <td>245837.352857</td>\n",
       "      <td>2.507377e+05</td>\n",
       "    </tr>\n",
       "    <tr>\n",
       "      <th>3</th>\n",
       "      <td>11</td>\n",
       "      <td>2016-07-25</td>\n",
       "      <td>2016-08-05</td>\n",
       "      <td>14.13%</td>\n",
       "      <td>9.37%</td>\n",
       "      <td>50.83%</td>\n",
       "      <td>8700.0</td>\n",
       "      <td>7800.0</td>\n",
       "      <td>9400.0</td>\n",
       "      <td>33.735348</td>\n",
       "      <td>...</td>\n",
       "      <td>5.40</td>\n",
       "      <td>10000000.0</td>\n",
       "      <td>82380.0</td>\n",
       "      <td>38291.838227</td>\n",
       "      <td>120671.838227</td>\n",
       "      <td>2.230918e+05</td>\n",
       "      <td>114135.446989</td>\n",
       "      <td>204438.132948</td>\n",
       "      <td>279804.161294</td>\n",
       "      <td>5.305418e+05</td>\n",
       "    </tr>\n",
       "    <tr>\n",
       "      <th>4</th>\n",
       "      <td>12</td>\n",
       "      <td>2016-08-08</td>\n",
       "      <td>2016-08-11</td>\n",
       "      <td>12.84%</td>\n",
       "      <td>9.45%</td>\n",
       "      <td>35.92%</td>\n",
       "      <td>8750.0</td>\n",
       "      <td>7900.0</td>\n",
       "      <td>9300.0</td>\n",
       "      <td>25.838402</td>\n",
       "      <td>...</td>\n",
       "      <td>1.75</td>\n",
       "      <td>10000000.0</td>\n",
       "      <td>-6930.0</td>\n",
       "      <td>-11503.857210</td>\n",
       "      <td>-18433.857210</td>\n",
       "      <td>2.046580e+05</td>\n",
       "      <td>-25254.384377</td>\n",
       "      <td>179183.748570</td>\n",
       "      <td>-28019.881842</td>\n",
       "      <td>5.025220e+05</td>\n",
       "    </tr>\n",
       "    <tr>\n",
       "      <th>...</th>\n",
       "      <td>...</td>\n",
       "      <td>...</td>\n",
       "      <td>...</td>\n",
       "      <td>...</td>\n",
       "      <td>...</td>\n",
       "      <td>...</td>\n",
       "      <td>...</td>\n",
       "      <td>...</td>\n",
       "      <td>...</td>\n",
       "      <td>...</td>\n",
       "      <td>...</td>\n",
       "      <td>...</td>\n",
       "      <td>...</td>\n",
       "      <td>...</td>\n",
       "      <td>...</td>\n",
       "      <td>...</td>\n",
       "      <td>...</td>\n",
       "      <td>...</td>\n",
       "      <td>...</td>\n",
       "      <td>...</td>\n",
       "      <td>...</td>\n",
       "    </tr>\n",
       "    <tr>\n",
       "      <th>97</th>\n",
       "      <td>181</td>\n",
       "      <td>2022-11-17</td>\n",
       "      <td>2022-11-22</td>\n",
       "      <td>12.98%</td>\n",
       "      <td>9.55%</td>\n",
       "      <td>35.91%</td>\n",
       "      <td>18500.0</td>\n",
       "      <td>16600.0</td>\n",
       "      <td>20000.0</td>\n",
       "      <td>4.442936</td>\n",
       "      <td>...</td>\n",
       "      <td>11.25</td>\n",
       "      <td>9000000.0</td>\n",
       "      <td>42225.0</td>\n",
       "      <td>5513.646254</td>\n",
       "      <td>47738.646254</td>\n",
       "      <td>9.822514e+05</td>\n",
       "      <td>47738.646254</td>\n",
       "      <td>835803.548921</td>\n",
       "      <td>130501.236277</td>\n",
       "      <td>3.045832e+06</td>\n",
       "    </tr>\n",
       "    <tr>\n",
       "      <th>98</th>\n",
       "      <td>182</td>\n",
       "      <td>2022-12-09</td>\n",
       "      <td>2022-12-15</td>\n",
       "      <td>11.21%</td>\n",
       "      <td>7.82%</td>\n",
       "      <td>43.31%</td>\n",
       "      <td>18600.0</td>\n",
       "      <td>16700.0</td>\n",
       "      <td>21000.0</td>\n",
       "      <td>8.760594</td>\n",
       "      <td>...</td>\n",
       "      <td>2.65</td>\n",
       "      <td>9000000.0</td>\n",
       "      <td>21950.0</td>\n",
       "      <td>33559.822953</td>\n",
       "      <td>55509.822953</td>\n",
       "      <td>1.037761e+06</td>\n",
       "      <td>78934.968239</td>\n",
       "      <td>914738.517160</td>\n",
       "      <td>114493.338515</td>\n",
       "      <td>3.160325e+06</td>\n",
       "    </tr>\n",
       "    <tr>\n",
       "      <th>99</th>\n",
       "      <td>184</td>\n",
       "      <td>2022-12-16</td>\n",
       "      <td>2022-12-19</td>\n",
       "      <td>13.02%</td>\n",
       "      <td>9.74%</td>\n",
       "      <td>33.57%</td>\n",
       "      <td>18450.0</td>\n",
       "      <td>16700.0</td>\n",
       "      <td>20000.0</td>\n",
       "      <td>-0.987687</td>\n",
       "      <td>...</td>\n",
       "      <td>10.60</td>\n",
       "      <td>9000000.0</td>\n",
       "      <td>3375.0</td>\n",
       "      <td>-161.190456</td>\n",
       "      <td>3213.809544</td>\n",
       "      <td>1.040975e+06</td>\n",
       "      <td>3303.796211</td>\n",
       "      <td>918042.313370</td>\n",
       "      <td>8288.955261</td>\n",
       "      <td>3.168614e+06</td>\n",
       "    </tr>\n",
       "    <tr>\n",
       "      <th>100</th>\n",
       "      <td>185</td>\n",
       "      <td>2022-12-20</td>\n",
       "      <td>2022-12-26</td>\n",
       "      <td>12.83%</td>\n",
       "      <td>9.62%</td>\n",
       "      <td>33.35%</td>\n",
       "      <td>18500.0</td>\n",
       "      <td>17000.0</td>\n",
       "      <td>19700.0</td>\n",
       "      <td>-25.889103</td>\n",
       "      <td>...</td>\n",
       "      <td>14.60</td>\n",
       "      <td>9000000.0</td>\n",
       "      <td>-14875.0</td>\n",
       "      <td>7492.672086</td>\n",
       "      <td>-7382.327914</td>\n",
       "      <td>1.033593e+06</td>\n",
       "      <td>-8799.734873</td>\n",
       "      <td>909242.578497</td>\n",
       "      <td>-19874.352420</td>\n",
       "      <td>3.148739e+06</td>\n",
       "    </tr>\n",
       "    <tr>\n",
       "      <th>101</th>\n",
       "      <td>187</td>\n",
       "      <td>2023-01-25</td>\n",
       "      <td>2023-02-02</td>\n",
       "      <td>14.30%</td>\n",
       "      <td>10.98%</td>\n",
       "      <td>30.16%</td>\n",
       "      <td>18000.0</td>\n",
       "      <td>16300.0</td>\n",
       "      <td>19500.0</td>\n",
       "      <td>0.943736</td>\n",
       "      <td>...</td>\n",
       "      <td>9.35</td>\n",
       "      <td>11000000.0</td>\n",
       "      <td>13320.0</td>\n",
       "      <td>4123.913051</td>\n",
       "      <td>17443.913051</td>\n",
       "      <td>1.051037e+06</td>\n",
       "      <td>15903.034065</td>\n",
       "      <td>925145.612562</td>\n",
       "      <td>27459.373985</td>\n",
       "      <td>3.176199e+06</td>\n",
       "    </tr>\n",
       "  </tbody>\n",
       "</table>\n",
       "<p>102 rows × 36 columns</p>\n",
       "</div>"
      ],
      "text/plain": [
       "     trade_id  entry_date  exit_date  atm_iv realized_vol vol_risk_premium   \n",
       "0           2  2016-01-18 2016-01-19  19.09%       15.10%           26.39%  \\\n",
       "1           3  2016-01-21 2016-01-22  19.14%       15.35%           24.68%   \n",
       "2           9  2016-06-22 2016-06-29  16.30%       10.98%           48.52%   \n",
       "3          11  2016-07-25 2016-08-05  14.13%        9.37%           50.83%   \n",
       "4          12  2016-08-08 2016-08-11  12.84%        9.45%           35.92%   \n",
       "..        ...         ...        ...     ...          ...              ...   \n",
       "97        181  2022-11-17 2022-11-22  12.98%        9.55%           35.91%   \n",
       "98        182  2022-12-09 2022-12-15  11.21%        7.82%           43.31%   \n",
       "99        184  2022-12-16 2022-12-19  13.02%        9.74%           33.57%   \n",
       "100       185  2022-12-20 2022-12-26  12.83%        9.62%           33.35%   \n",
       "101       187  2023-01-25 2023-02-02  14.30%       10.98%           30.16%   \n",
       "\n",
       "     atm_strike  otm_put_strike  otm_call_strike  position_delta  ...   \n",
       "0        7400.0          6800.0           7900.0       -8.620408  ...  \\\n",
       "1        7300.0          6700.0           7800.0      -59.561068  ...   \n",
       "2        8200.0          7400.0           9000.0     -134.286419  ...   \n",
       "3        8700.0          7800.0           9400.0       33.735348  ...   \n",
       "4        8750.0          7900.0           9300.0       25.838402  ...   \n",
       "..          ...             ...              ...             ...  ...   \n",
       "97      18500.0         16600.0          20000.0        4.442936  ...   \n",
       "98      18600.0         16700.0          21000.0        8.760594  ...   \n",
       "99      18450.0         16700.0          20000.0       -0.987687  ...   \n",
       "100     18500.0         17000.0          19700.0      -25.889103  ...   \n",
       "101     18000.0         16300.0          19500.0        0.943736  ...   \n",
       "\n",
       "     otm_call_price    exposure  options_pnl   futures_pnl  pnl_1cr_exposure   \n",
       "0             22.90  10000000.0      17430.0   -576.705294      16853.294706  \\\n",
       "1             20.55  10000000.0      -8120.0  -8189.646871     -16309.646871   \n",
       "2              7.35  10000000.0      53700.0  48176.346134     101876.346134   \n",
       "3              5.40  10000000.0      82380.0  38291.838227     120671.838227   \n",
       "4              1.75  10000000.0      -6930.0 -11503.857210     -18433.857210   \n",
       "..              ...         ...          ...           ...               ...   \n",
       "97            11.25   9000000.0      42225.0   5513.646254      47738.646254   \n",
       "98             2.65   9000000.0      21950.0  33559.822953      55509.822953   \n",
       "99            10.60   9000000.0       3375.0   -161.190456       3213.809544   \n",
       "100           14.60   9000000.0     -14875.0   7492.672086      -7382.327914   \n",
       "101            9.35  11000000.0      13320.0   4123.913051      17443.913051   \n",
       "\n",
       "     cumulative_pnl_1cr_exposure  pnl_equal_vega  cumulative_pnl_equal_vega   \n",
       "0                   1.685329e+04    17407.045818               17407.045818  \\\n",
       "1                   5.436478e+02   -17264.926188                 142.119630   \n",
       "2                   1.024200e+05    90160.566328               90302.685958   \n",
       "3                   2.230918e+05   114135.446989              204438.132948   \n",
       "4                   2.046580e+05   -25254.384377              179183.748570   \n",
       "..                           ...             ...                        ...   \n",
       "97                  9.822514e+05    47738.646254              835803.548921   \n",
       "98                  1.037761e+06    78934.968239              914738.517160   \n",
       "99                  1.040975e+06     3303.796211              918042.313370   \n",
       "100                 1.033593e+06    -8799.734873              909242.578497   \n",
       "101                 1.051037e+06    15903.034065              925145.612562   \n",
       "\n",
       "     pnl_equal_gamma cumulative_pnl_equal_gamma  \n",
       "0       37110.469639               3.711047e+04  \n",
       "1      -32210.148829               4.900321e+03  \n",
       "2      245837.352857               2.507377e+05  \n",
       "3      279804.161294               5.305418e+05  \n",
       "4      -28019.881842               5.025220e+05  \n",
       "..               ...                        ...  \n",
       "97     130501.236277               3.045832e+06  \n",
       "98     114493.338515               3.160325e+06  \n",
       "99       8288.955261               3.168614e+06  \n",
       "100    -19874.352420               3.148739e+06  \n",
       "101     27459.373985               3.176199e+06  \n",
       "\n",
       "[102 rows x 36 columns]"
      ]
     },
     "execution_count": 56,
     "metadata": {},
     "output_type": "execute_result"
    }
   ],
   "source": [
    "# Merge trades_pnl_df with that of equal vega risk and equal gamma risk scenarios\n",
    "trades_pnl_df = trades_pnl_df.rename(columns={\n",
    "    'pnl': 'pnl_1cr_exposure',\n",
    "    'cumulative_pnl': 'cumulative_pnl_1cr_exposure'\n",
    "})\n",
    "path = '/Users/vamsikrishnasb/My Drive/Financial Analysis/Trader Job Interviews/Companies/Alpha Alternatives/Assignment/May 9/trades_pnl_df_eq_v.csv'\n",
    "eq_v_df = pd.read_csv(path)\n",
    "path = '/Users/vamsikrishnasb/My Drive/Financial Analysis/Trader Job Interviews/Companies/Alpha Alternatives/Assignment/May 9/trades_pnl_df_eq_g.csv'\n",
    "eq_g_df = pd.read_csv(path)\n",
    "eq_v_df\n",
    "eq_v_df = eq_v_df.drop('Unnamed: 0', axis=1)\n",
    "eq_g_df = eq_g_df.drop('Unnamed: 0', axis=1)\n",
    "eq_v_df = eq_v_df.rename(columns={\n",
    "    'pnl': 'pnl_equal_vega',\n",
    "    'cumulative_pnl': 'cumulative_pnl_equal_vega'\n",
    "})\n",
    "eq_g_df = eq_g_df.rename(columns={\n",
    "    'pnl': 'pnl_equal_gamma',\n",
    "    'cumulative_pnl': 'cumulative_pnl_equal_gamma'\n",
    "})\n",
    "trades_pnl_df = trades_pnl_df.merge(eq_v_df[[\n",
    "    'trade_id', 'pnl_equal_vega', 'cumulative_pnl_equal_vega'\n",
    "]], on=['trade_id'], how='inner')\n",
    "trades_pnl_df = trades_pnl_df.merge(eq_g_df[[\n",
    "    'trade_id', 'pnl_equal_gamma', 'cumulative_pnl_equal_gamma'\n",
    "]], on=['trade_id'], how='inner')\n",
    "trades_pnl_df.to_csv('/Users/vamsikrishnasb/My Drive/Financial Analysis/Trader Job Interviews/Companies/Alpha Alternatives/Assignment/May 9/trades_pnl_df.csv')\n",
    "trades_pnl_df"
   ]
  },
  {
   "cell_type": "code",
   "execution_count": 33,
   "id": "bc7529c6",
   "metadata": {},
   "outputs": [
    {
     "name": "stdout",
     "output_type": "stream",
     "text": [
      "0.0 -2690085.2304870314 2777915.980000001 753097.2061630223\n",
      "840927.9556759918\n",
      "1051036.6086667867\n"
     ]
    }
   ],
   "source": [
    "# Matching Greek-wise PnL with the final PnL\n",
    "temp = daily_greek_wise_pnl_df.groupby(['trade_id'])[[\n",
    "    'daily_delta_pnl', 'daily_gamma_pnl', 'daily_theta_pnl', 'daily_vega_pnl'\n",
    "]].sum()\n",
    "total_delta_pnl = temp['daily_delta_pnl'].sum()\n",
    "total_gamma_pnl = temp['daily_gamma_pnl'].sum()\n",
    "total_theta_pnl = temp['daily_theta_pnl'].sum()\n",
    "total_vega_pnl = temp['daily_vega_pnl'].sum()\n",
    "print(total_delta_pnl, total_gamma_pnl, total_theta_pnl, total_vega_pnl)\n",
    "print(total_delta_pnl + total_gamma_pnl + total_theta_pnl + total_vega_pnl)\n",
    "print(trades_pnl_df['cumulative_pnl'].iloc[-1])"
   ]
  },
  {
   "cell_type": "code",
   "execution_count": 34,
   "id": "83b10713",
   "metadata": {},
   "outputs": [
    {
     "data": {
      "text/html": [
       "<div>\n",
       "<style scoped>\n",
       "    .dataframe tbody tr th:only-of-type {\n",
       "        vertical-align: middle;\n",
       "    }\n",
       "\n",
       "    .dataframe tbody tr th {\n",
       "        vertical-align: top;\n",
       "    }\n",
       "\n",
       "    .dataframe thead th {\n",
       "        text-align: right;\n",
       "    }\n",
       "</style>\n",
       "<table border=\"1\" class=\"dataframe\">\n",
       "  <thead>\n",
       "    <tr style=\"text-align: right;\">\n",
       "      <th></th>\n",
       "      <th>trade_id</th>\n",
       "      <th>date</th>\n",
       "      <th>daily_delta_pnl</th>\n",
       "      <th>daily_gamma_pnl</th>\n",
       "      <th>daily_theta_pnl</th>\n",
       "      <th>daily_vega_pnl</th>\n",
       "      <th>daily_pnl</th>\n",
       "    </tr>\n",
       "  </thead>\n",
       "  <tbody>\n",
       "    <tr>\n",
       "      <th>0</th>\n",
       "      <td>2.0</td>\n",
       "      <td>2016-01-18 00:00:00</td>\n",
       "      <td>0.0</td>\n",
       "      <td>0.000000e+00</td>\n",
       "      <td>0.00</td>\n",
       "      <td>0.000000</td>\n",
       "      <td>0.000000</td>\n",
       "    </tr>\n",
       "    <tr>\n",
       "      <th>1</th>\n",
       "      <td>2.0</td>\n",
       "      <td>2016-01-19 00:00:00</td>\n",
       "      <td>0.0</td>\n",
       "      <td>-2.791604e+03</td>\n",
       "      <td>3062.78</td>\n",
       "      <td>18478.702275</td>\n",
       "      <td>18749.878273</td>\n",
       "    </tr>\n",
       "    <tr>\n",
       "      <th>2</th>\n",
       "      <td>3.0</td>\n",
       "      <td>2016-01-21 00:00:00</td>\n",
       "      <td>0.0</td>\n",
       "      <td>0.000000e+00</td>\n",
       "      <td>0.00</td>\n",
       "      <td>0.000000</td>\n",
       "      <td>0.000000</td>\n",
       "    </tr>\n",
       "    <tr>\n",
       "      <th>3</th>\n",
       "      <td>3.0</td>\n",
       "      <td>2016-01-22 00:00:00</td>\n",
       "      <td>0.0</td>\n",
       "      <td>-1.302154e+04</td>\n",
       "      <td>3101.70</td>\n",
       "      <td>8328.454699</td>\n",
       "      <td>-1591.382435</td>\n",
       "    </tr>\n",
       "    <tr>\n",
       "      <th>4</th>\n",
       "      <td>9.0</td>\n",
       "      <td>2016-06-22 00:00:00</td>\n",
       "      <td>0.0</td>\n",
       "      <td>0.000000e+00</td>\n",
       "      <td>0.00</td>\n",
       "      <td>0.000000</td>\n",
       "      <td>0.000000</td>\n",
       "    </tr>\n",
       "    <tr>\n",
       "      <th>...</th>\n",
       "      <td>...</td>\n",
       "      <td>...</td>\n",
       "      <td>...</td>\n",
       "      <td>...</td>\n",
       "      <td>...</td>\n",
       "      <td>...</td>\n",
       "      <td>...</td>\n",
       "    </tr>\n",
       "    <tr>\n",
       "      <th>559</th>\n",
       "      <td>187.0</td>\n",
       "      <td>2023-01-30 00:00:00</td>\n",
       "      <td>0.0</td>\n",
       "      <td>-7.606048e+02</td>\n",
       "      <td>12951.72</td>\n",
       "      <td>527.649681</td>\n",
       "      <td>12718.764847</td>\n",
       "    </tr>\n",
       "    <tr>\n",
       "      <th>560</th>\n",
       "      <td>187.0</td>\n",
       "      <td>2023-01-31 00:00:00</td>\n",
       "      <td>0.0</td>\n",
       "      <td>-8.096722e+02</td>\n",
       "      <td>4956.72</td>\n",
       "      <td>8935.067080</td>\n",
       "      <td>13082.114919</td>\n",
       "    </tr>\n",
       "    <tr>\n",
       "      <th>561</th>\n",
       "      <td>187.0</td>\n",
       "      <td>2023-02-01 00:00:00</td>\n",
       "      <td>-0.0</td>\n",
       "      <td>-4.374450e+03</td>\n",
       "      <td>5462.28</td>\n",
       "      <td>14303.649679</td>\n",
       "      <td>15391.480080</td>\n",
       "    </tr>\n",
       "    <tr>\n",
       "      <th>562</th>\n",
       "      <td>187.0</td>\n",
       "      <td>2023-02-02 00:00:00</td>\n",
       "      <td>0.0</td>\n",
       "      <td>-3.916018e+01</td>\n",
       "      <td>4499.88</td>\n",
       "      <td>19508.544273</td>\n",
       "      <td>23969.264091</td>\n",
       "    </tr>\n",
       "    <tr>\n",
       "      <th>total_pnl</th>\n",
       "      <td>0.0</td>\n",
       "      <td>0</td>\n",
       "      <td>0.0</td>\n",
       "      <td>-2.690085e+06</td>\n",
       "      <td>2777915.98</td>\n",
       "      <td>753097.206163</td>\n",
       "      <td>840927.955676</td>\n",
       "    </tr>\n",
       "  </tbody>\n",
       "</table>\n",
       "<p>564 rows × 7 columns</p>\n",
       "</div>"
      ],
      "text/plain": [
       "           trade_id                 date  daily_delta_pnl  daily_gamma_pnl   \n",
       "0               2.0  2016-01-18 00:00:00              0.0     0.000000e+00  \\\n",
       "1               2.0  2016-01-19 00:00:00              0.0    -2.791604e+03   \n",
       "2               3.0  2016-01-21 00:00:00              0.0     0.000000e+00   \n",
       "3               3.0  2016-01-22 00:00:00              0.0    -1.302154e+04   \n",
       "4               9.0  2016-06-22 00:00:00              0.0     0.000000e+00   \n",
       "...             ...                  ...              ...              ...   \n",
       "559           187.0  2023-01-30 00:00:00              0.0    -7.606048e+02   \n",
       "560           187.0  2023-01-31 00:00:00              0.0    -8.096722e+02   \n",
       "561           187.0  2023-02-01 00:00:00             -0.0    -4.374450e+03   \n",
       "562           187.0  2023-02-02 00:00:00              0.0    -3.916018e+01   \n",
       "total_pnl       0.0                    0              0.0    -2.690085e+06   \n",
       "\n",
       "           daily_theta_pnl  daily_vega_pnl      daily_pnl  \n",
       "0                     0.00        0.000000       0.000000  \n",
       "1                  3062.78    18478.702275   18749.878273  \n",
       "2                     0.00        0.000000       0.000000  \n",
       "3                  3101.70     8328.454699   -1591.382435  \n",
       "4                     0.00        0.000000       0.000000  \n",
       "...                    ...             ...            ...  \n",
       "559               12951.72      527.649681   12718.764847  \n",
       "560                4956.72     8935.067080   13082.114919  \n",
       "561                5462.28    14303.649679   15391.480080  \n",
       "562                4499.88    19508.544273   23969.264091  \n",
       "total_pnl       2777915.98   753097.206163  840927.955676  \n",
       "\n",
       "[564 rows x 7 columns]"
      ]
     },
     "execution_count": 34,
     "metadata": {},
     "output_type": "execute_result"
    }
   ],
   "source": [
    "daily_greek_wise_pnl_df.loc['total_pnl'] = daily_greek_wise_pnl_df[[\n",
    "    'daily_delta_pnl', 'daily_gamma_pnl', 'daily_theta_pnl', 'daily_vega_pnl'\n",
    "]].sum()\n",
    "daily_greek_wise_pnl_df = daily_greek_wise_pnl_df.fillna(0)\n",
    "daily_greek_wise_pnl_df.iloc[-1].sum()\n",
    "daily_greek_wise_pnl_df[[\n",
    "    'daily_delta_pnl', 'daily_gamma_pnl', 'daily_theta_pnl', 'daily_vega_pnl'\n",
    "]].iloc[-1].sum()\n",
    "daily_greek_wise_pnl_df['daily_pnl'] = daily_greek_wise_pnl_df[[\n",
    "    'daily_delta_pnl', 'daily_gamma_pnl', 'daily_theta_pnl', 'daily_vega_pnl'\n",
    "]].sum(axis=1)\n",
    "daily_greek_wise_pnl_df.to_csv('/Users/vamsikrishnasb/My Drive/Financial Analysis/Trader Job Interviews/Companies/Alpha Alternatives/Assignment/May 9/daily_greek_wise_pnl_df.csv')\n",
    "daily_greek_wise_pnl_df"
   ]
  },
  {
   "cell_type": "code",
   "execution_count": 56,
   "id": "7d34850b",
   "metadata": {},
   "outputs": [],
   "source": [
    "# Standard deviation of 1-day logarithmic changes in 1-month implied volatility \n",
    "# \"vol_of_vol\" or \"vol_of_iv\"\n",
    "def pnl_analysis():\n",
    "#     print(trades_pnl_df)\n",
    "    trades_pnl_df['log_pnl_returns'] = np.log(trades_pnl_df['cumulative_pnl'] / trades_pnl_df['cumulative_pnl'].shift(1))\n",
    "    trades_pnl_df['vol_of_pnl_returns'] = trades_pnl_df['log_pnl_returns'].rolling(30).std()\n",
    "    return vol_of_pnl_returns\n",
    "\n",
    "vol_of_pnl_returns = pnl_analysis()"
   ]
  },
  {
   "cell_type": "code",
   "execution_count": 55,
   "id": "24bee3dc",
   "metadata": {},
   "outputs": [
    {
     "data": {
      "application/vnd.plotly.v1+json": {
       "config": {
        "plotlyServerURL": "https://plot.ly"
       },
       "data": [
        {
         "hovertemplate": "index=%{x}<br>vol_of_pnl_returns=%{y}<extra></extra>",
         "legendgroup": "",
         "line": {
          "color": "#636efa",
          "dash": "solid"
         },
         "marker": {
          "symbol": "circle"
         },
         "mode": "lines",
         "name": "",
         "orientation": "v",
         "showlegend": false,
         "type": "scatter",
         "x": [
          40,
          41,
          42,
          43,
          44,
          45,
          46,
          47,
          48,
          49,
          50,
          51,
          52,
          53,
          54,
          55,
          56,
          57,
          58,
          59,
          60,
          61,
          62,
          63,
          64,
          65,
          66,
          67,
          68,
          69,
          70,
          71,
          72,
          73,
          74,
          75,
          76,
          77,
          78,
          79,
          80,
          81,
          82,
          83,
          84,
          85,
          86,
          87,
          88,
          89,
          90,
          91,
          92,
          93,
          94,
          95,
          96,
          97,
          98,
          99,
          100,
          101
         ],
         "xaxis": "x",
         "y": [
          0.14319391509141408,
          0.14528217130313323,
          0.1461497885384842,
          0.14866824320588826,
          0.14816071325206423,
          0.14775025279942017,
          0.14581708802401447,
          0.1324034432776049,
          0.13228307442120596,
          0.12611692239253486,
          0.12608378317269445,
          0.11573603820951181,
          0.11803676671626422,
          0.10565774407985637,
          0.10495972710530724,
          0.1046537826186476,
          0.10502241860222596,
          0.10616282577045401,
          0.0933026698449331,
          0.09303062968295753,
          0.09167980485496695,
          0.13550041678115365,
          0.14328860080362496,
          0.14279700729920655,
          0.14279112855287762,
          0.1427543988284297,
          0.1425991577637494,
          0.1424559832965425,
          0.1434465379354205,
          0.1466548260703764,
          0.1366475006342912,
          0.13822015453132797,
          0.14279252750028285,
          0.13891498812207498,
          0.1389529776639914,
          0.13949197789420126,
          0.13982663780329327,
          0.13965781627474372,
          0.13969829951752902,
          0.1446899882355204,
          0.14522639316046101,
          0.1451544366291697,
          0.14312590888189083,
          0.1410059562596586,
          0.1411471225083562,
          0.14339239251644906,
          0.1428087725472708,
          0.14014200904930244,
          0.14464566468154072,
          0.14454878771439672,
          0.15145372829113604,
          0.11607273269450347,
          0.10554990057221492,
          0.1061382513188016,
          0.1059812508487412,
          0.10626847415111525,
          0.10468241845625303,
          0.10484422628321097,
          0.1044615800837658,
          0.10068255902625331,
          0.100007955518975,
          0.09251992753882458
         ],
         "yaxis": "y"
        }
       ],
       "layout": {
        "legend": {
         "tracegroupgap": 0
        },
        "margin": {
         "t": 60
        },
        "template": {
         "data": {
          "bar": [
           {
            "error_x": {
             "color": "#2a3f5f"
            },
            "error_y": {
             "color": "#2a3f5f"
            },
            "marker": {
             "line": {
              "color": "#E5ECF6",
              "width": 0.5
             },
             "pattern": {
              "fillmode": "overlay",
              "size": 10,
              "solidity": 0.2
             }
            },
            "type": "bar"
           }
          ],
          "barpolar": [
           {
            "marker": {
             "line": {
              "color": "#E5ECF6",
              "width": 0.5
             },
             "pattern": {
              "fillmode": "overlay",
              "size": 10,
              "solidity": 0.2
             }
            },
            "type": "barpolar"
           }
          ],
          "carpet": [
           {
            "aaxis": {
             "endlinecolor": "#2a3f5f",
             "gridcolor": "white",
             "linecolor": "white",
             "minorgridcolor": "white",
             "startlinecolor": "#2a3f5f"
            },
            "baxis": {
             "endlinecolor": "#2a3f5f",
             "gridcolor": "white",
             "linecolor": "white",
             "minorgridcolor": "white",
             "startlinecolor": "#2a3f5f"
            },
            "type": "carpet"
           }
          ],
          "choropleth": [
           {
            "colorbar": {
             "outlinewidth": 0,
             "ticks": ""
            },
            "type": "choropleth"
           }
          ],
          "contour": [
           {
            "colorbar": {
             "outlinewidth": 0,
             "ticks": ""
            },
            "colorscale": [
             [
              0,
              "#0d0887"
             ],
             [
              0.1111111111111111,
              "#46039f"
             ],
             [
              0.2222222222222222,
              "#7201a8"
             ],
             [
              0.3333333333333333,
              "#9c179e"
             ],
             [
              0.4444444444444444,
              "#bd3786"
             ],
             [
              0.5555555555555556,
              "#d8576b"
             ],
             [
              0.6666666666666666,
              "#ed7953"
             ],
             [
              0.7777777777777778,
              "#fb9f3a"
             ],
             [
              0.8888888888888888,
              "#fdca26"
             ],
             [
              1,
              "#f0f921"
             ]
            ],
            "type": "contour"
           }
          ],
          "contourcarpet": [
           {
            "colorbar": {
             "outlinewidth": 0,
             "ticks": ""
            },
            "type": "contourcarpet"
           }
          ],
          "heatmap": [
           {
            "colorbar": {
             "outlinewidth": 0,
             "ticks": ""
            },
            "colorscale": [
             [
              0,
              "#0d0887"
             ],
             [
              0.1111111111111111,
              "#46039f"
             ],
             [
              0.2222222222222222,
              "#7201a8"
             ],
             [
              0.3333333333333333,
              "#9c179e"
             ],
             [
              0.4444444444444444,
              "#bd3786"
             ],
             [
              0.5555555555555556,
              "#d8576b"
             ],
             [
              0.6666666666666666,
              "#ed7953"
             ],
             [
              0.7777777777777778,
              "#fb9f3a"
             ],
             [
              0.8888888888888888,
              "#fdca26"
             ],
             [
              1,
              "#f0f921"
             ]
            ],
            "type": "heatmap"
           }
          ],
          "heatmapgl": [
           {
            "colorbar": {
             "outlinewidth": 0,
             "ticks": ""
            },
            "colorscale": [
             [
              0,
              "#0d0887"
             ],
             [
              0.1111111111111111,
              "#46039f"
             ],
             [
              0.2222222222222222,
              "#7201a8"
             ],
             [
              0.3333333333333333,
              "#9c179e"
             ],
             [
              0.4444444444444444,
              "#bd3786"
             ],
             [
              0.5555555555555556,
              "#d8576b"
             ],
             [
              0.6666666666666666,
              "#ed7953"
             ],
             [
              0.7777777777777778,
              "#fb9f3a"
             ],
             [
              0.8888888888888888,
              "#fdca26"
             ],
             [
              1,
              "#f0f921"
             ]
            ],
            "type": "heatmapgl"
           }
          ],
          "histogram": [
           {
            "marker": {
             "pattern": {
              "fillmode": "overlay",
              "size": 10,
              "solidity": 0.2
             }
            },
            "type": "histogram"
           }
          ],
          "histogram2d": [
           {
            "colorbar": {
             "outlinewidth": 0,
             "ticks": ""
            },
            "colorscale": [
             [
              0,
              "#0d0887"
             ],
             [
              0.1111111111111111,
              "#46039f"
             ],
             [
              0.2222222222222222,
              "#7201a8"
             ],
             [
              0.3333333333333333,
              "#9c179e"
             ],
             [
              0.4444444444444444,
              "#bd3786"
             ],
             [
              0.5555555555555556,
              "#d8576b"
             ],
             [
              0.6666666666666666,
              "#ed7953"
             ],
             [
              0.7777777777777778,
              "#fb9f3a"
             ],
             [
              0.8888888888888888,
              "#fdca26"
             ],
             [
              1,
              "#f0f921"
             ]
            ],
            "type": "histogram2d"
           }
          ],
          "histogram2dcontour": [
           {
            "colorbar": {
             "outlinewidth": 0,
             "ticks": ""
            },
            "colorscale": [
             [
              0,
              "#0d0887"
             ],
             [
              0.1111111111111111,
              "#46039f"
             ],
             [
              0.2222222222222222,
              "#7201a8"
             ],
             [
              0.3333333333333333,
              "#9c179e"
             ],
             [
              0.4444444444444444,
              "#bd3786"
             ],
             [
              0.5555555555555556,
              "#d8576b"
             ],
             [
              0.6666666666666666,
              "#ed7953"
             ],
             [
              0.7777777777777778,
              "#fb9f3a"
             ],
             [
              0.8888888888888888,
              "#fdca26"
             ],
             [
              1,
              "#f0f921"
             ]
            ],
            "type": "histogram2dcontour"
           }
          ],
          "mesh3d": [
           {
            "colorbar": {
             "outlinewidth": 0,
             "ticks": ""
            },
            "type": "mesh3d"
           }
          ],
          "parcoords": [
           {
            "line": {
             "colorbar": {
              "outlinewidth": 0,
              "ticks": ""
             }
            },
            "type": "parcoords"
           }
          ],
          "pie": [
           {
            "automargin": true,
            "type": "pie"
           }
          ],
          "scatter": [
           {
            "marker": {
             "colorbar": {
              "outlinewidth": 0,
              "ticks": ""
             }
            },
            "type": "scatter"
           }
          ],
          "scatter3d": [
           {
            "line": {
             "colorbar": {
              "outlinewidth": 0,
              "ticks": ""
             }
            },
            "marker": {
             "colorbar": {
              "outlinewidth": 0,
              "ticks": ""
             }
            },
            "type": "scatter3d"
           }
          ],
          "scattercarpet": [
           {
            "marker": {
             "colorbar": {
              "outlinewidth": 0,
              "ticks": ""
             }
            },
            "type": "scattercarpet"
           }
          ],
          "scattergeo": [
           {
            "marker": {
             "colorbar": {
              "outlinewidth": 0,
              "ticks": ""
             }
            },
            "type": "scattergeo"
           }
          ],
          "scattergl": [
           {
            "marker": {
             "colorbar": {
              "outlinewidth": 0,
              "ticks": ""
             }
            },
            "type": "scattergl"
           }
          ],
          "scattermapbox": [
           {
            "marker": {
             "colorbar": {
              "outlinewidth": 0,
              "ticks": ""
             }
            },
            "type": "scattermapbox"
           }
          ],
          "scatterpolar": [
           {
            "marker": {
             "colorbar": {
              "outlinewidth": 0,
              "ticks": ""
             }
            },
            "type": "scatterpolar"
           }
          ],
          "scatterpolargl": [
           {
            "marker": {
             "colorbar": {
              "outlinewidth": 0,
              "ticks": ""
             }
            },
            "type": "scatterpolargl"
           }
          ],
          "scatterternary": [
           {
            "marker": {
             "colorbar": {
              "outlinewidth": 0,
              "ticks": ""
             }
            },
            "type": "scatterternary"
           }
          ],
          "surface": [
           {
            "colorbar": {
             "outlinewidth": 0,
             "ticks": ""
            },
            "colorscale": [
             [
              0,
              "#0d0887"
             ],
             [
              0.1111111111111111,
              "#46039f"
             ],
             [
              0.2222222222222222,
              "#7201a8"
             ],
             [
              0.3333333333333333,
              "#9c179e"
             ],
             [
              0.4444444444444444,
              "#bd3786"
             ],
             [
              0.5555555555555556,
              "#d8576b"
             ],
             [
              0.6666666666666666,
              "#ed7953"
             ],
             [
              0.7777777777777778,
              "#fb9f3a"
             ],
             [
              0.8888888888888888,
              "#fdca26"
             ],
             [
              1,
              "#f0f921"
             ]
            ],
            "type": "surface"
           }
          ],
          "table": [
           {
            "cells": {
             "fill": {
              "color": "#EBF0F8"
             },
             "line": {
              "color": "white"
             }
            },
            "header": {
             "fill": {
              "color": "#C8D4E3"
             },
             "line": {
              "color": "white"
             }
            },
            "type": "table"
           }
          ]
         },
         "layout": {
          "annotationdefaults": {
           "arrowcolor": "#2a3f5f",
           "arrowhead": 0,
           "arrowwidth": 1
          },
          "autotypenumbers": "strict",
          "coloraxis": {
           "colorbar": {
            "outlinewidth": 0,
            "ticks": ""
           }
          },
          "colorscale": {
           "diverging": [
            [
             0,
             "#8e0152"
            ],
            [
             0.1,
             "#c51b7d"
            ],
            [
             0.2,
             "#de77ae"
            ],
            [
             0.3,
             "#f1b6da"
            ],
            [
             0.4,
             "#fde0ef"
            ],
            [
             0.5,
             "#f7f7f7"
            ],
            [
             0.6,
             "#e6f5d0"
            ],
            [
             0.7,
             "#b8e186"
            ],
            [
             0.8,
             "#7fbc41"
            ],
            [
             0.9,
             "#4d9221"
            ],
            [
             1,
             "#276419"
            ]
           ],
           "sequential": [
            [
             0,
             "#0d0887"
            ],
            [
             0.1111111111111111,
             "#46039f"
            ],
            [
             0.2222222222222222,
             "#7201a8"
            ],
            [
             0.3333333333333333,
             "#9c179e"
            ],
            [
             0.4444444444444444,
             "#bd3786"
            ],
            [
             0.5555555555555556,
             "#d8576b"
            ],
            [
             0.6666666666666666,
             "#ed7953"
            ],
            [
             0.7777777777777778,
             "#fb9f3a"
            ],
            [
             0.8888888888888888,
             "#fdca26"
            ],
            [
             1,
             "#f0f921"
            ]
           ],
           "sequentialminus": [
            [
             0,
             "#0d0887"
            ],
            [
             0.1111111111111111,
             "#46039f"
            ],
            [
             0.2222222222222222,
             "#7201a8"
            ],
            [
             0.3333333333333333,
             "#9c179e"
            ],
            [
             0.4444444444444444,
             "#bd3786"
            ],
            [
             0.5555555555555556,
             "#d8576b"
            ],
            [
             0.6666666666666666,
             "#ed7953"
            ],
            [
             0.7777777777777778,
             "#fb9f3a"
            ],
            [
             0.8888888888888888,
             "#fdca26"
            ],
            [
             1,
             "#f0f921"
            ]
           ]
          },
          "colorway": [
           "#636efa",
           "#EF553B",
           "#00cc96",
           "#ab63fa",
           "#FFA15A",
           "#19d3f3",
           "#FF6692",
           "#B6E880",
           "#FF97FF",
           "#FECB52"
          ],
          "font": {
           "color": "#2a3f5f"
          },
          "geo": {
           "bgcolor": "white",
           "lakecolor": "white",
           "landcolor": "#E5ECF6",
           "showlakes": true,
           "showland": true,
           "subunitcolor": "white"
          },
          "hoverlabel": {
           "align": "left"
          },
          "hovermode": "closest",
          "mapbox": {
           "style": "light"
          },
          "paper_bgcolor": "white",
          "plot_bgcolor": "#E5ECF6",
          "polar": {
           "angularaxis": {
            "gridcolor": "white",
            "linecolor": "white",
            "ticks": ""
           },
           "bgcolor": "#E5ECF6",
           "radialaxis": {
            "gridcolor": "white",
            "linecolor": "white",
            "ticks": ""
           }
          },
          "scene": {
           "xaxis": {
            "backgroundcolor": "#E5ECF6",
            "gridcolor": "white",
            "gridwidth": 2,
            "linecolor": "white",
            "showbackground": true,
            "ticks": "",
            "zerolinecolor": "white"
           },
           "yaxis": {
            "backgroundcolor": "#E5ECF6",
            "gridcolor": "white",
            "gridwidth": 2,
            "linecolor": "white",
            "showbackground": true,
            "ticks": "",
            "zerolinecolor": "white"
           },
           "zaxis": {
            "backgroundcolor": "#E5ECF6",
            "gridcolor": "white",
            "gridwidth": 2,
            "linecolor": "white",
            "showbackground": true,
            "ticks": "",
            "zerolinecolor": "white"
           }
          },
          "shapedefaults": {
           "line": {
            "color": "#2a3f5f"
           }
          },
          "ternary": {
           "aaxis": {
            "gridcolor": "white",
            "linecolor": "white",
            "ticks": ""
           },
           "baxis": {
            "gridcolor": "white",
            "linecolor": "white",
            "ticks": ""
           },
           "bgcolor": "#E5ECF6",
           "caxis": {
            "gridcolor": "white",
            "linecolor": "white",
            "ticks": ""
           }
          },
          "title": {
           "x": 0.05
          },
          "xaxis": {
           "automargin": true,
           "gridcolor": "white",
           "linecolor": "white",
           "ticks": "",
           "title": {
            "standoff": 15
           },
           "zerolinecolor": "white",
           "zerolinewidth": 2
          },
          "yaxis": {
           "automargin": true,
           "gridcolor": "white",
           "linecolor": "white",
           "ticks": "",
           "title": {
            "standoff": 15
           },
           "zerolinecolor": "white",
           "zerolinewidth": 2
          }
         }
        },
        "xaxis": {
         "anchor": "y",
         "domain": [
          0,
          1
         ],
         "title": {
          "text": "index"
         }
        },
        "yaxis": {
         "anchor": "x",
         "domain": [
          0,
          1
         ],
         "title": {
          "text": "vol_of_pnl_returns"
         }
        }
       }
      },
      "text/html": [
       "<div>                            <div id=\"ed9de3eb-7166-49cc-bbbd-43279c0e5df6\" class=\"plotly-graph-div\" style=\"height:525px; width:100%;\"></div>            <script type=\"text/javascript\">                require([\"plotly\"], function(Plotly) {                    window.PLOTLYENV=window.PLOTLYENV || {};                                    if (document.getElementById(\"ed9de3eb-7166-49cc-bbbd-43279c0e5df6\")) {                    Plotly.newPlot(                        \"ed9de3eb-7166-49cc-bbbd-43279c0e5df6\",                        [{\"hovertemplate\":\"index=%{x}<br>vol_of_pnl_returns=%{y}<extra></extra>\",\"legendgroup\":\"\",\"line\":{\"color\":\"#636efa\",\"dash\":\"solid\"},\"marker\":{\"symbol\":\"circle\"},\"mode\":\"lines\",\"name\":\"\",\"orientation\":\"v\",\"showlegend\":false,\"type\":\"scatter\",\"x\":[40,41,42,43,44,45,46,47,48,49,50,51,52,53,54,55,56,57,58,59,60,61,62,63,64,65,66,67,68,69,70,71,72,73,74,75,76,77,78,79,80,81,82,83,84,85,86,87,88,89,90,91,92,93,94,95,96,97,98,99,100,101],\"xaxis\":\"x\",\"y\":[0.14319391509141408,0.14528217130313323,0.1461497885384842,0.14866824320588826,0.14816071325206423,0.14775025279942017,0.14581708802401447,0.1324034432776049,0.13228307442120596,0.12611692239253486,0.12608378317269445,0.11573603820951181,0.11803676671626422,0.10565774407985637,0.10495972710530724,0.1046537826186476,0.10502241860222596,0.10616282577045401,0.0933026698449331,0.09303062968295753,0.09167980485496695,0.13550041678115365,0.14328860080362496,0.14279700729920655,0.14279112855287762,0.1427543988284297,0.1425991577637494,0.1424559832965425,0.1434465379354205,0.1466548260703764,0.1366475006342912,0.13822015453132797,0.14279252750028285,0.13891498812207498,0.1389529776639914,0.13949197789420126,0.13982663780329327,0.13965781627474372,0.13969829951752902,0.1446899882355204,0.14522639316046101,0.1451544366291697,0.14312590888189083,0.1410059562596586,0.1411471225083562,0.14339239251644906,0.1428087725472708,0.14014200904930244,0.14464566468154072,0.14454878771439672,0.15145372829113604,0.11607273269450347,0.10554990057221492,0.1061382513188016,0.1059812508487412,0.10626847415111525,0.10468241845625303,0.10484422628321097,0.1044615800837658,0.10068255902625331,0.100007955518975,0.09251992753882458],\"yaxis\":\"y\"}],                        {\"legend\":{\"tracegroupgap\":0},\"margin\":{\"t\":60},\"template\":{\"data\":{\"bar\":[{\"error_x\":{\"color\":\"#2a3f5f\"},\"error_y\":{\"color\":\"#2a3f5f\"},\"marker\":{\"line\":{\"color\":\"#E5ECF6\",\"width\":0.5},\"pattern\":{\"fillmode\":\"overlay\",\"size\":10,\"solidity\":0.2}},\"type\":\"bar\"}],\"barpolar\":[{\"marker\":{\"line\":{\"color\":\"#E5ECF6\",\"width\":0.5},\"pattern\":{\"fillmode\":\"overlay\",\"size\":10,\"solidity\":0.2}},\"type\":\"barpolar\"}],\"carpet\":[{\"aaxis\":{\"endlinecolor\":\"#2a3f5f\",\"gridcolor\":\"white\",\"linecolor\":\"white\",\"minorgridcolor\":\"white\",\"startlinecolor\":\"#2a3f5f\"},\"baxis\":{\"endlinecolor\":\"#2a3f5f\",\"gridcolor\":\"white\",\"linecolor\":\"white\",\"minorgridcolor\":\"white\",\"startlinecolor\":\"#2a3f5f\"},\"type\":\"carpet\"}],\"choropleth\":[{\"colorbar\":{\"outlinewidth\":0,\"ticks\":\"\"},\"type\":\"choropleth\"}],\"contour\":[{\"colorbar\":{\"outlinewidth\":0,\"ticks\":\"\"},\"colorscale\":[[0.0,\"#0d0887\"],[0.1111111111111111,\"#46039f\"],[0.2222222222222222,\"#7201a8\"],[0.3333333333333333,\"#9c179e\"],[0.4444444444444444,\"#bd3786\"],[0.5555555555555556,\"#d8576b\"],[0.6666666666666666,\"#ed7953\"],[0.7777777777777778,\"#fb9f3a\"],[0.8888888888888888,\"#fdca26\"],[1.0,\"#f0f921\"]],\"type\":\"contour\"}],\"contourcarpet\":[{\"colorbar\":{\"outlinewidth\":0,\"ticks\":\"\"},\"type\":\"contourcarpet\"}],\"heatmap\":[{\"colorbar\":{\"outlinewidth\":0,\"ticks\":\"\"},\"colorscale\":[[0.0,\"#0d0887\"],[0.1111111111111111,\"#46039f\"],[0.2222222222222222,\"#7201a8\"],[0.3333333333333333,\"#9c179e\"],[0.4444444444444444,\"#bd3786\"],[0.5555555555555556,\"#d8576b\"],[0.6666666666666666,\"#ed7953\"],[0.7777777777777778,\"#fb9f3a\"],[0.8888888888888888,\"#fdca26\"],[1.0,\"#f0f921\"]],\"type\":\"heatmap\"}],\"heatmapgl\":[{\"colorbar\":{\"outlinewidth\":0,\"ticks\":\"\"},\"colorscale\":[[0.0,\"#0d0887\"],[0.1111111111111111,\"#46039f\"],[0.2222222222222222,\"#7201a8\"],[0.3333333333333333,\"#9c179e\"],[0.4444444444444444,\"#bd3786\"],[0.5555555555555556,\"#d8576b\"],[0.6666666666666666,\"#ed7953\"],[0.7777777777777778,\"#fb9f3a\"],[0.8888888888888888,\"#fdca26\"],[1.0,\"#f0f921\"]],\"type\":\"heatmapgl\"}],\"histogram\":[{\"marker\":{\"pattern\":{\"fillmode\":\"overlay\",\"size\":10,\"solidity\":0.2}},\"type\":\"histogram\"}],\"histogram2d\":[{\"colorbar\":{\"outlinewidth\":0,\"ticks\":\"\"},\"colorscale\":[[0.0,\"#0d0887\"],[0.1111111111111111,\"#46039f\"],[0.2222222222222222,\"#7201a8\"],[0.3333333333333333,\"#9c179e\"],[0.4444444444444444,\"#bd3786\"],[0.5555555555555556,\"#d8576b\"],[0.6666666666666666,\"#ed7953\"],[0.7777777777777778,\"#fb9f3a\"],[0.8888888888888888,\"#fdca26\"],[1.0,\"#f0f921\"]],\"type\":\"histogram2d\"}],\"histogram2dcontour\":[{\"colorbar\":{\"outlinewidth\":0,\"ticks\":\"\"},\"colorscale\":[[0.0,\"#0d0887\"],[0.1111111111111111,\"#46039f\"],[0.2222222222222222,\"#7201a8\"],[0.3333333333333333,\"#9c179e\"],[0.4444444444444444,\"#bd3786\"],[0.5555555555555556,\"#d8576b\"],[0.6666666666666666,\"#ed7953\"],[0.7777777777777778,\"#fb9f3a\"],[0.8888888888888888,\"#fdca26\"],[1.0,\"#f0f921\"]],\"type\":\"histogram2dcontour\"}],\"mesh3d\":[{\"colorbar\":{\"outlinewidth\":0,\"ticks\":\"\"},\"type\":\"mesh3d\"}],\"parcoords\":[{\"line\":{\"colorbar\":{\"outlinewidth\":0,\"ticks\":\"\"}},\"type\":\"parcoords\"}],\"pie\":[{\"automargin\":true,\"type\":\"pie\"}],\"scatter\":[{\"marker\":{\"colorbar\":{\"outlinewidth\":0,\"ticks\":\"\"}},\"type\":\"scatter\"}],\"scatter3d\":[{\"line\":{\"colorbar\":{\"outlinewidth\":0,\"ticks\":\"\"}},\"marker\":{\"colorbar\":{\"outlinewidth\":0,\"ticks\":\"\"}},\"type\":\"scatter3d\"}],\"scattercarpet\":[{\"marker\":{\"colorbar\":{\"outlinewidth\":0,\"ticks\":\"\"}},\"type\":\"scattercarpet\"}],\"scattergeo\":[{\"marker\":{\"colorbar\":{\"outlinewidth\":0,\"ticks\":\"\"}},\"type\":\"scattergeo\"}],\"scattergl\":[{\"marker\":{\"colorbar\":{\"outlinewidth\":0,\"ticks\":\"\"}},\"type\":\"scattergl\"}],\"scattermapbox\":[{\"marker\":{\"colorbar\":{\"outlinewidth\":0,\"ticks\":\"\"}},\"type\":\"scattermapbox\"}],\"scatterpolar\":[{\"marker\":{\"colorbar\":{\"outlinewidth\":0,\"ticks\":\"\"}},\"type\":\"scatterpolar\"}],\"scatterpolargl\":[{\"marker\":{\"colorbar\":{\"outlinewidth\":0,\"ticks\":\"\"}},\"type\":\"scatterpolargl\"}],\"scatterternary\":[{\"marker\":{\"colorbar\":{\"outlinewidth\":0,\"ticks\":\"\"}},\"type\":\"scatterternary\"}],\"surface\":[{\"colorbar\":{\"outlinewidth\":0,\"ticks\":\"\"},\"colorscale\":[[0.0,\"#0d0887\"],[0.1111111111111111,\"#46039f\"],[0.2222222222222222,\"#7201a8\"],[0.3333333333333333,\"#9c179e\"],[0.4444444444444444,\"#bd3786\"],[0.5555555555555556,\"#d8576b\"],[0.6666666666666666,\"#ed7953\"],[0.7777777777777778,\"#fb9f3a\"],[0.8888888888888888,\"#fdca26\"],[1.0,\"#f0f921\"]],\"type\":\"surface\"}],\"table\":[{\"cells\":{\"fill\":{\"color\":\"#EBF0F8\"},\"line\":{\"color\":\"white\"}},\"header\":{\"fill\":{\"color\":\"#C8D4E3\"},\"line\":{\"color\":\"white\"}},\"type\":\"table\"}]},\"layout\":{\"annotationdefaults\":{\"arrowcolor\":\"#2a3f5f\",\"arrowhead\":0,\"arrowwidth\":1},\"autotypenumbers\":\"strict\",\"coloraxis\":{\"colorbar\":{\"outlinewidth\":0,\"ticks\":\"\"}},\"colorscale\":{\"diverging\":[[0,\"#8e0152\"],[0.1,\"#c51b7d\"],[0.2,\"#de77ae\"],[0.3,\"#f1b6da\"],[0.4,\"#fde0ef\"],[0.5,\"#f7f7f7\"],[0.6,\"#e6f5d0\"],[0.7,\"#b8e186\"],[0.8,\"#7fbc41\"],[0.9,\"#4d9221\"],[1,\"#276419\"]],\"sequential\":[[0.0,\"#0d0887\"],[0.1111111111111111,\"#46039f\"],[0.2222222222222222,\"#7201a8\"],[0.3333333333333333,\"#9c179e\"],[0.4444444444444444,\"#bd3786\"],[0.5555555555555556,\"#d8576b\"],[0.6666666666666666,\"#ed7953\"],[0.7777777777777778,\"#fb9f3a\"],[0.8888888888888888,\"#fdca26\"],[1.0,\"#f0f921\"]],\"sequentialminus\":[[0.0,\"#0d0887\"],[0.1111111111111111,\"#46039f\"],[0.2222222222222222,\"#7201a8\"],[0.3333333333333333,\"#9c179e\"],[0.4444444444444444,\"#bd3786\"],[0.5555555555555556,\"#d8576b\"],[0.6666666666666666,\"#ed7953\"],[0.7777777777777778,\"#fb9f3a\"],[0.8888888888888888,\"#fdca26\"],[1.0,\"#f0f921\"]]},\"colorway\":[\"#636efa\",\"#EF553B\",\"#00cc96\",\"#ab63fa\",\"#FFA15A\",\"#19d3f3\",\"#FF6692\",\"#B6E880\",\"#FF97FF\",\"#FECB52\"],\"font\":{\"color\":\"#2a3f5f\"},\"geo\":{\"bgcolor\":\"white\",\"lakecolor\":\"white\",\"landcolor\":\"#E5ECF6\",\"showlakes\":true,\"showland\":true,\"subunitcolor\":\"white\"},\"hoverlabel\":{\"align\":\"left\"},\"hovermode\":\"closest\",\"mapbox\":{\"style\":\"light\"},\"paper_bgcolor\":\"white\",\"plot_bgcolor\":\"#E5ECF6\",\"polar\":{\"angularaxis\":{\"gridcolor\":\"white\",\"linecolor\":\"white\",\"ticks\":\"\"},\"bgcolor\":\"#E5ECF6\",\"radialaxis\":{\"gridcolor\":\"white\",\"linecolor\":\"white\",\"ticks\":\"\"}},\"scene\":{\"xaxis\":{\"backgroundcolor\":\"#E5ECF6\",\"gridcolor\":\"white\",\"gridwidth\":2,\"linecolor\":\"white\",\"showbackground\":true,\"ticks\":\"\",\"zerolinecolor\":\"white\"},\"yaxis\":{\"backgroundcolor\":\"#E5ECF6\",\"gridcolor\":\"white\",\"gridwidth\":2,\"linecolor\":\"white\",\"showbackground\":true,\"ticks\":\"\",\"zerolinecolor\":\"white\"},\"zaxis\":{\"backgroundcolor\":\"#E5ECF6\",\"gridcolor\":\"white\",\"gridwidth\":2,\"linecolor\":\"white\",\"showbackground\":true,\"ticks\":\"\",\"zerolinecolor\":\"white\"}},\"shapedefaults\":{\"line\":{\"color\":\"#2a3f5f\"}},\"ternary\":{\"aaxis\":{\"gridcolor\":\"white\",\"linecolor\":\"white\",\"ticks\":\"\"},\"baxis\":{\"gridcolor\":\"white\",\"linecolor\":\"white\",\"ticks\":\"\"},\"bgcolor\":\"#E5ECF6\",\"caxis\":{\"gridcolor\":\"white\",\"linecolor\":\"white\",\"ticks\":\"\"}},\"title\":{\"x\":0.05},\"xaxis\":{\"automargin\":true,\"gridcolor\":\"white\",\"linecolor\":\"white\",\"ticks\":\"\",\"title\":{\"standoff\":15},\"zerolinecolor\":\"white\",\"zerolinewidth\":2},\"yaxis\":{\"automargin\":true,\"gridcolor\":\"white\",\"linecolor\":\"white\",\"ticks\":\"\",\"title\":{\"standoff\":15},\"zerolinecolor\":\"white\",\"zerolinewidth\":2}}},\"xaxis\":{\"anchor\":\"y\",\"domain\":[0.0,1.0],\"title\":{\"text\":\"index\"}},\"yaxis\":{\"anchor\":\"x\",\"domain\":[0.0,1.0],\"title\":{\"text\":\"vol_of_pnl_returns\"}}},                        {\"responsive\": true}                    ).then(function(){\n",
       "                            \n",
       "var gd = document.getElementById('ed9de3eb-7166-49cc-bbbd-43279c0e5df6');\n",
       "var x = new MutationObserver(function (mutations, observer) {{\n",
       "        var display = window.getComputedStyle(gd).display;\n",
       "        if (!display || display === 'none') {{\n",
       "            console.log([gd, 'removed!']);\n",
       "            Plotly.purge(gd);\n",
       "            observer.disconnect();\n",
       "        }}\n",
       "}});\n",
       "\n",
       "// Listen for the removal of the full notebook cells\n",
       "var notebookContainer = gd.closest('#notebook-container');\n",
       "if (notebookContainer) {{\n",
       "    x.observe(notebookContainer, {childList: true});\n",
       "}}\n",
       "\n",
       "// Listen for the clearing of the current output cell\n",
       "var outputEl = gd.closest('.output');\n",
       "if (outputEl) {{\n",
       "    x.observe(outputEl, {childList: true});\n",
       "}}\n",
       "\n",
       "                        })                };                });            </script>        </div>"
      ]
     },
     "metadata": {},
     "output_type": "display_data"
    }
   ],
   "source": [
    "fig = px.line(trades_pnl_df[40:], y='vol_of_pnl_returns')\n",
    "fig.show()"
   ]
  },
  {
   "cell_type": "code",
   "execution_count": 36,
   "id": "91e0678c",
   "metadata": {},
   "outputs": [
    {
     "data": {
      "application/vnd.plotly.v1+json": {
       "config": {
        "plotlyServerURL": "https://plot.ly"
       },
       "data": [
        {
         "hovertemplate": "index=%{x}<br>cumulative_pnl=%{y}<extra></extra>",
         "legendgroup": "",
         "line": {
          "color": "#636efa",
          "dash": "solid"
         },
         "marker": {
          "symbol": "circle"
         },
         "mode": "lines",
         "name": "",
         "orientation": "v",
         "showlegend": false,
         "type": "scatter",
         "x": [
          0,
          1,
          2,
          3,
          4,
          5,
          6,
          7,
          8,
          9,
          10,
          11,
          12,
          13,
          14,
          15,
          16,
          17,
          18,
          19,
          20,
          21,
          22,
          23,
          24,
          25,
          26,
          27,
          28,
          29,
          30,
          31,
          32,
          33,
          34,
          35,
          36,
          37,
          38,
          39,
          40,
          41,
          42,
          43,
          44,
          45,
          46,
          47,
          48,
          49,
          50,
          51,
          52,
          53,
          54,
          55,
          56,
          57,
          58,
          59,
          60,
          61,
          62,
          63,
          64,
          65,
          66,
          67,
          68,
          69,
          70,
          71,
          72,
          73,
          74,
          75,
          76,
          77,
          78,
          79,
          80,
          81,
          82,
          83,
          84,
          85,
          86,
          87,
          88,
          89,
          90,
          91,
          92,
          93,
          94,
          95,
          96,
          97,
          98,
          99,
          100,
          101
         ],
         "xaxis": "x",
         "y": [
          16853.294706321354,
          543.6478351068417,
          102419.9939687129,
          223091.83219528315,
          204657.97498545164,
          219062.45283329254,
          231493.44931842294,
          346537.6748924623,
          356220.8461684501,
          192866.5110129881,
          254148.80527279613,
          248062.0472763641,
          263531.4975978565,
          278837.1581817489,
          310793.50602306734,
          347920.4299551281,
          316489.7373252958,
          235552.41434766634,
          257819.19226732763,
          217708.82653265266,
          225362.82483221643,
          308906.81380802597,
          349605.17127943895,
          490052.056845621,
          468823.27255444997,
          505287.60883588064,
          513160.3306842769,
          484809.19445219974,
          657092.9833394157,
          701087.4925148148,
          798184.2763870865,
          861896.0512390007,
          879744.6123964987,
          929190.7021091967,
          926713.0183324623,
          893679.0289357677,
          951917.7012549917,
          887425.458411142,
          882545.5143650405,
          924345.6375319319,
          688661.6033083474,
          826294.7582320872,
          785834.4319507371,
          946862.0299307753,
          964639.4924007048,
          951488.231430042,
          965026.2597434577,
          935411.254996785,
          945314.1603963953,
          972803.1998365065,
          1024305.9201347162,
          1069435.563037389,
          953827.2792714796,
          1107539.52675972,
          1104399.5382178929,
          1112845.0803964892,
          1200885.642773727,
          1400410.3510926503,
          1463237.7354442396,
          1492052.1649342927,
          1428828.8870497637,
          839101.834543287,
          648409.5364657033,
          629753.981568778,
          616504.5884177344,
          618111.6647790218,
          568384.1909723345,
          583822.5851628196,
          631397.3783816246,
          744074.1650176274,
          705287.7144122038,
          873629.7297355947,
          1074805.7811147464,
          1100406.4168314862,
          1130771.497502152,
          1219913.0649324313,
          1165980.0451477387,
          1163942.2486821131,
          1194478.5923088302,
          1480354.1338943976,
          1621868.9416993523,
          1622220.8344627812,
          1638426.4436510422,
          1627766.7156217524,
          1587885.547036819,
          1399537.9262377943,
          1411459.456228512,
          1369992.433715074,
          1117417.6149204813,
          1112206.8776614054,
          858707.1738150746,
          871879.2764734116,
          843527.526447641,
          916282.6088675566,
          942796.0368102165,
          915072.1578913395,
          934512.7447789962,
          982251.391033441,
          1037761.213986091,
          1040975.0235296675,
          1033592.6956161145,
          1051036.6086667867
         ],
         "yaxis": "y"
        }
       ],
       "layout": {
        "legend": {
         "tracegroupgap": 0
        },
        "margin": {
         "t": 60
        },
        "template": {
         "data": {
          "bar": [
           {
            "error_x": {
             "color": "#2a3f5f"
            },
            "error_y": {
             "color": "#2a3f5f"
            },
            "marker": {
             "line": {
              "color": "#E5ECF6",
              "width": 0.5
             },
             "pattern": {
              "fillmode": "overlay",
              "size": 10,
              "solidity": 0.2
             }
            },
            "type": "bar"
           }
          ],
          "barpolar": [
           {
            "marker": {
             "line": {
              "color": "#E5ECF6",
              "width": 0.5
             },
             "pattern": {
              "fillmode": "overlay",
              "size": 10,
              "solidity": 0.2
             }
            },
            "type": "barpolar"
           }
          ],
          "carpet": [
           {
            "aaxis": {
             "endlinecolor": "#2a3f5f",
             "gridcolor": "white",
             "linecolor": "white",
             "minorgridcolor": "white",
             "startlinecolor": "#2a3f5f"
            },
            "baxis": {
             "endlinecolor": "#2a3f5f",
             "gridcolor": "white",
             "linecolor": "white",
             "minorgridcolor": "white",
             "startlinecolor": "#2a3f5f"
            },
            "type": "carpet"
           }
          ],
          "choropleth": [
           {
            "colorbar": {
             "outlinewidth": 0,
             "ticks": ""
            },
            "type": "choropleth"
           }
          ],
          "contour": [
           {
            "colorbar": {
             "outlinewidth": 0,
             "ticks": ""
            },
            "colorscale": [
             [
              0,
              "#0d0887"
             ],
             [
              0.1111111111111111,
              "#46039f"
             ],
             [
              0.2222222222222222,
              "#7201a8"
             ],
             [
              0.3333333333333333,
              "#9c179e"
             ],
             [
              0.4444444444444444,
              "#bd3786"
             ],
             [
              0.5555555555555556,
              "#d8576b"
             ],
             [
              0.6666666666666666,
              "#ed7953"
             ],
             [
              0.7777777777777778,
              "#fb9f3a"
             ],
             [
              0.8888888888888888,
              "#fdca26"
             ],
             [
              1,
              "#f0f921"
             ]
            ],
            "type": "contour"
           }
          ],
          "contourcarpet": [
           {
            "colorbar": {
             "outlinewidth": 0,
             "ticks": ""
            },
            "type": "contourcarpet"
           }
          ],
          "heatmap": [
           {
            "colorbar": {
             "outlinewidth": 0,
             "ticks": ""
            },
            "colorscale": [
             [
              0,
              "#0d0887"
             ],
             [
              0.1111111111111111,
              "#46039f"
             ],
             [
              0.2222222222222222,
              "#7201a8"
             ],
             [
              0.3333333333333333,
              "#9c179e"
             ],
             [
              0.4444444444444444,
              "#bd3786"
             ],
             [
              0.5555555555555556,
              "#d8576b"
             ],
             [
              0.6666666666666666,
              "#ed7953"
             ],
             [
              0.7777777777777778,
              "#fb9f3a"
             ],
             [
              0.8888888888888888,
              "#fdca26"
             ],
             [
              1,
              "#f0f921"
             ]
            ],
            "type": "heatmap"
           }
          ],
          "heatmapgl": [
           {
            "colorbar": {
             "outlinewidth": 0,
             "ticks": ""
            },
            "colorscale": [
             [
              0,
              "#0d0887"
             ],
             [
              0.1111111111111111,
              "#46039f"
             ],
             [
              0.2222222222222222,
              "#7201a8"
             ],
             [
              0.3333333333333333,
              "#9c179e"
             ],
             [
              0.4444444444444444,
              "#bd3786"
             ],
             [
              0.5555555555555556,
              "#d8576b"
             ],
             [
              0.6666666666666666,
              "#ed7953"
             ],
             [
              0.7777777777777778,
              "#fb9f3a"
             ],
             [
              0.8888888888888888,
              "#fdca26"
             ],
             [
              1,
              "#f0f921"
             ]
            ],
            "type": "heatmapgl"
           }
          ],
          "histogram": [
           {
            "marker": {
             "pattern": {
              "fillmode": "overlay",
              "size": 10,
              "solidity": 0.2
             }
            },
            "type": "histogram"
           }
          ],
          "histogram2d": [
           {
            "colorbar": {
             "outlinewidth": 0,
             "ticks": ""
            },
            "colorscale": [
             [
              0,
              "#0d0887"
             ],
             [
              0.1111111111111111,
              "#46039f"
             ],
             [
              0.2222222222222222,
              "#7201a8"
             ],
             [
              0.3333333333333333,
              "#9c179e"
             ],
             [
              0.4444444444444444,
              "#bd3786"
             ],
             [
              0.5555555555555556,
              "#d8576b"
             ],
             [
              0.6666666666666666,
              "#ed7953"
             ],
             [
              0.7777777777777778,
              "#fb9f3a"
             ],
             [
              0.8888888888888888,
              "#fdca26"
             ],
             [
              1,
              "#f0f921"
             ]
            ],
            "type": "histogram2d"
           }
          ],
          "histogram2dcontour": [
           {
            "colorbar": {
             "outlinewidth": 0,
             "ticks": ""
            },
            "colorscale": [
             [
              0,
              "#0d0887"
             ],
             [
              0.1111111111111111,
              "#46039f"
             ],
             [
              0.2222222222222222,
              "#7201a8"
             ],
             [
              0.3333333333333333,
              "#9c179e"
             ],
             [
              0.4444444444444444,
              "#bd3786"
             ],
             [
              0.5555555555555556,
              "#d8576b"
             ],
             [
              0.6666666666666666,
              "#ed7953"
             ],
             [
              0.7777777777777778,
              "#fb9f3a"
             ],
             [
              0.8888888888888888,
              "#fdca26"
             ],
             [
              1,
              "#f0f921"
             ]
            ],
            "type": "histogram2dcontour"
           }
          ],
          "mesh3d": [
           {
            "colorbar": {
             "outlinewidth": 0,
             "ticks": ""
            },
            "type": "mesh3d"
           }
          ],
          "parcoords": [
           {
            "line": {
             "colorbar": {
              "outlinewidth": 0,
              "ticks": ""
             }
            },
            "type": "parcoords"
           }
          ],
          "pie": [
           {
            "automargin": true,
            "type": "pie"
           }
          ],
          "scatter": [
           {
            "marker": {
             "colorbar": {
              "outlinewidth": 0,
              "ticks": ""
             }
            },
            "type": "scatter"
           }
          ],
          "scatter3d": [
           {
            "line": {
             "colorbar": {
              "outlinewidth": 0,
              "ticks": ""
             }
            },
            "marker": {
             "colorbar": {
              "outlinewidth": 0,
              "ticks": ""
             }
            },
            "type": "scatter3d"
           }
          ],
          "scattercarpet": [
           {
            "marker": {
             "colorbar": {
              "outlinewidth": 0,
              "ticks": ""
             }
            },
            "type": "scattercarpet"
           }
          ],
          "scattergeo": [
           {
            "marker": {
             "colorbar": {
              "outlinewidth": 0,
              "ticks": ""
             }
            },
            "type": "scattergeo"
           }
          ],
          "scattergl": [
           {
            "marker": {
             "colorbar": {
              "outlinewidth": 0,
              "ticks": ""
             }
            },
            "type": "scattergl"
           }
          ],
          "scattermapbox": [
           {
            "marker": {
             "colorbar": {
              "outlinewidth": 0,
              "ticks": ""
             }
            },
            "type": "scattermapbox"
           }
          ],
          "scatterpolar": [
           {
            "marker": {
             "colorbar": {
              "outlinewidth": 0,
              "ticks": ""
             }
            },
            "type": "scatterpolar"
           }
          ],
          "scatterpolargl": [
           {
            "marker": {
             "colorbar": {
              "outlinewidth": 0,
              "ticks": ""
             }
            },
            "type": "scatterpolargl"
           }
          ],
          "scatterternary": [
           {
            "marker": {
             "colorbar": {
              "outlinewidth": 0,
              "ticks": ""
             }
            },
            "type": "scatterternary"
           }
          ],
          "surface": [
           {
            "colorbar": {
             "outlinewidth": 0,
             "ticks": ""
            },
            "colorscale": [
             [
              0,
              "#0d0887"
             ],
             [
              0.1111111111111111,
              "#46039f"
             ],
             [
              0.2222222222222222,
              "#7201a8"
             ],
             [
              0.3333333333333333,
              "#9c179e"
             ],
             [
              0.4444444444444444,
              "#bd3786"
             ],
             [
              0.5555555555555556,
              "#d8576b"
             ],
             [
              0.6666666666666666,
              "#ed7953"
             ],
             [
              0.7777777777777778,
              "#fb9f3a"
             ],
             [
              0.8888888888888888,
              "#fdca26"
             ],
             [
              1,
              "#f0f921"
             ]
            ],
            "type": "surface"
           }
          ],
          "table": [
           {
            "cells": {
             "fill": {
              "color": "#EBF0F8"
             },
             "line": {
              "color": "white"
             }
            },
            "header": {
             "fill": {
              "color": "#C8D4E3"
             },
             "line": {
              "color": "white"
             }
            },
            "type": "table"
           }
          ]
         },
         "layout": {
          "annotationdefaults": {
           "arrowcolor": "#2a3f5f",
           "arrowhead": 0,
           "arrowwidth": 1
          },
          "autotypenumbers": "strict",
          "coloraxis": {
           "colorbar": {
            "outlinewidth": 0,
            "ticks": ""
           }
          },
          "colorscale": {
           "diverging": [
            [
             0,
             "#8e0152"
            ],
            [
             0.1,
             "#c51b7d"
            ],
            [
             0.2,
             "#de77ae"
            ],
            [
             0.3,
             "#f1b6da"
            ],
            [
             0.4,
             "#fde0ef"
            ],
            [
             0.5,
             "#f7f7f7"
            ],
            [
             0.6,
             "#e6f5d0"
            ],
            [
             0.7,
             "#b8e186"
            ],
            [
             0.8,
             "#7fbc41"
            ],
            [
             0.9,
             "#4d9221"
            ],
            [
             1,
             "#276419"
            ]
           ],
           "sequential": [
            [
             0,
             "#0d0887"
            ],
            [
             0.1111111111111111,
             "#46039f"
            ],
            [
             0.2222222222222222,
             "#7201a8"
            ],
            [
             0.3333333333333333,
             "#9c179e"
            ],
            [
             0.4444444444444444,
             "#bd3786"
            ],
            [
             0.5555555555555556,
             "#d8576b"
            ],
            [
             0.6666666666666666,
             "#ed7953"
            ],
            [
             0.7777777777777778,
             "#fb9f3a"
            ],
            [
             0.8888888888888888,
             "#fdca26"
            ],
            [
             1,
             "#f0f921"
            ]
           ],
           "sequentialminus": [
            [
             0,
             "#0d0887"
            ],
            [
             0.1111111111111111,
             "#46039f"
            ],
            [
             0.2222222222222222,
             "#7201a8"
            ],
            [
             0.3333333333333333,
             "#9c179e"
            ],
            [
             0.4444444444444444,
             "#bd3786"
            ],
            [
             0.5555555555555556,
             "#d8576b"
            ],
            [
             0.6666666666666666,
             "#ed7953"
            ],
            [
             0.7777777777777778,
             "#fb9f3a"
            ],
            [
             0.8888888888888888,
             "#fdca26"
            ],
            [
             1,
             "#f0f921"
            ]
           ]
          },
          "colorway": [
           "#636efa",
           "#EF553B",
           "#00cc96",
           "#ab63fa",
           "#FFA15A",
           "#19d3f3",
           "#FF6692",
           "#B6E880",
           "#FF97FF",
           "#FECB52"
          ],
          "font": {
           "color": "#2a3f5f"
          },
          "geo": {
           "bgcolor": "white",
           "lakecolor": "white",
           "landcolor": "#E5ECF6",
           "showlakes": true,
           "showland": true,
           "subunitcolor": "white"
          },
          "hoverlabel": {
           "align": "left"
          },
          "hovermode": "closest",
          "mapbox": {
           "style": "light"
          },
          "paper_bgcolor": "white",
          "plot_bgcolor": "#E5ECF6",
          "polar": {
           "angularaxis": {
            "gridcolor": "white",
            "linecolor": "white",
            "ticks": ""
           },
           "bgcolor": "#E5ECF6",
           "radialaxis": {
            "gridcolor": "white",
            "linecolor": "white",
            "ticks": ""
           }
          },
          "scene": {
           "xaxis": {
            "backgroundcolor": "#E5ECF6",
            "gridcolor": "white",
            "gridwidth": 2,
            "linecolor": "white",
            "showbackground": true,
            "ticks": "",
            "zerolinecolor": "white"
           },
           "yaxis": {
            "backgroundcolor": "#E5ECF6",
            "gridcolor": "white",
            "gridwidth": 2,
            "linecolor": "white",
            "showbackground": true,
            "ticks": "",
            "zerolinecolor": "white"
           },
           "zaxis": {
            "backgroundcolor": "#E5ECF6",
            "gridcolor": "white",
            "gridwidth": 2,
            "linecolor": "white",
            "showbackground": true,
            "ticks": "",
            "zerolinecolor": "white"
           }
          },
          "shapedefaults": {
           "line": {
            "color": "#2a3f5f"
           }
          },
          "ternary": {
           "aaxis": {
            "gridcolor": "white",
            "linecolor": "white",
            "ticks": ""
           },
           "baxis": {
            "gridcolor": "white",
            "linecolor": "white",
            "ticks": ""
           },
           "bgcolor": "#E5ECF6",
           "caxis": {
            "gridcolor": "white",
            "linecolor": "white",
            "ticks": ""
           }
          },
          "title": {
           "x": 0.05
          },
          "xaxis": {
           "automargin": true,
           "gridcolor": "white",
           "linecolor": "white",
           "ticks": "",
           "title": {
            "standoff": 15
           },
           "zerolinecolor": "white",
           "zerolinewidth": 2
          },
          "yaxis": {
           "automargin": true,
           "gridcolor": "white",
           "linecolor": "white",
           "ticks": "",
           "title": {
            "standoff": 15
           },
           "zerolinecolor": "white",
           "zerolinewidth": 2
          }
         }
        },
        "xaxis": {
         "anchor": "y",
         "domain": [
          0,
          1
         ],
         "title": {
          "text": "index"
         }
        },
        "yaxis": {
         "anchor": "x",
         "domain": [
          0,
          1
         ],
         "title": {
          "text": "cumulative_pnl"
         }
        }
       }
      },
      "text/html": [
       "<div>                            <div id=\"671a3ea2-c076-4d70-9174-99ee2047f52b\" class=\"plotly-graph-div\" style=\"height:525px; width:100%;\"></div>            <script type=\"text/javascript\">                require([\"plotly\"], function(Plotly) {                    window.PLOTLYENV=window.PLOTLYENV || {};                                    if (document.getElementById(\"671a3ea2-c076-4d70-9174-99ee2047f52b\")) {                    Plotly.newPlot(                        \"671a3ea2-c076-4d70-9174-99ee2047f52b\",                        [{\"hovertemplate\":\"index=%{x}<br>cumulative_pnl=%{y}<extra></extra>\",\"legendgroup\":\"\",\"line\":{\"color\":\"#636efa\",\"dash\":\"solid\"},\"marker\":{\"symbol\":\"circle\"},\"mode\":\"lines\",\"name\":\"\",\"orientation\":\"v\",\"showlegend\":false,\"type\":\"scatter\",\"x\":[0,1,2,3,4,5,6,7,8,9,10,11,12,13,14,15,16,17,18,19,20,21,22,23,24,25,26,27,28,29,30,31,32,33,34,35,36,37,38,39,40,41,42,43,44,45,46,47,48,49,50,51,52,53,54,55,56,57,58,59,60,61,62,63,64,65,66,67,68,69,70,71,72,73,74,75,76,77,78,79,80,81,82,83,84,85,86,87,88,89,90,91,92,93,94,95,96,97,98,99,100,101],\"xaxis\":\"x\",\"y\":[16853.294706321354,543.6478351068417,102419.9939687129,223091.83219528315,204657.97498545164,219062.45283329254,231493.44931842294,346537.6748924623,356220.8461684501,192866.5110129881,254148.80527279613,248062.0472763641,263531.4975978565,278837.1581817489,310793.50602306734,347920.4299551281,316489.7373252958,235552.41434766634,257819.19226732763,217708.82653265266,225362.82483221643,308906.81380802597,349605.17127943895,490052.056845621,468823.27255444997,505287.60883588064,513160.3306842769,484809.19445219974,657092.9833394157,701087.4925148148,798184.2763870865,861896.0512390007,879744.6123964987,929190.7021091967,926713.0183324623,893679.0289357677,951917.7012549917,887425.458411142,882545.5143650405,924345.6375319319,688661.6033083474,826294.7582320872,785834.4319507371,946862.0299307753,964639.4924007048,951488.231430042,965026.2597434577,935411.254996785,945314.1603963953,972803.1998365065,1024305.9201347162,1069435.563037389,953827.2792714796,1107539.52675972,1104399.5382178929,1112845.0803964892,1200885.642773727,1400410.3510926503,1463237.7354442396,1492052.1649342927,1428828.8870497637,839101.834543287,648409.5364657033,629753.981568778,616504.5884177344,618111.6647790218,568384.1909723345,583822.5851628196,631397.3783816246,744074.1650176274,705287.7144122038,873629.7297355947,1074805.7811147464,1100406.4168314862,1130771.497502152,1219913.0649324313,1165980.0451477387,1163942.2486821131,1194478.5923088302,1480354.1338943976,1621868.9416993523,1622220.8344627812,1638426.4436510422,1627766.7156217524,1587885.547036819,1399537.9262377943,1411459.456228512,1369992.433715074,1117417.6149204813,1112206.8776614054,858707.1738150746,871879.2764734116,843527.526447641,916282.6088675566,942796.0368102165,915072.1578913395,934512.7447789962,982251.391033441,1037761.213986091,1040975.0235296675,1033592.6956161145,1051036.6086667867],\"yaxis\":\"y\"}],                        {\"legend\":{\"tracegroupgap\":0},\"margin\":{\"t\":60},\"template\":{\"data\":{\"bar\":[{\"error_x\":{\"color\":\"#2a3f5f\"},\"error_y\":{\"color\":\"#2a3f5f\"},\"marker\":{\"line\":{\"color\":\"#E5ECF6\",\"width\":0.5},\"pattern\":{\"fillmode\":\"overlay\",\"size\":10,\"solidity\":0.2}},\"type\":\"bar\"}],\"barpolar\":[{\"marker\":{\"line\":{\"color\":\"#E5ECF6\",\"width\":0.5},\"pattern\":{\"fillmode\":\"overlay\",\"size\":10,\"solidity\":0.2}},\"type\":\"barpolar\"}],\"carpet\":[{\"aaxis\":{\"endlinecolor\":\"#2a3f5f\",\"gridcolor\":\"white\",\"linecolor\":\"white\",\"minorgridcolor\":\"white\",\"startlinecolor\":\"#2a3f5f\"},\"baxis\":{\"endlinecolor\":\"#2a3f5f\",\"gridcolor\":\"white\",\"linecolor\":\"white\",\"minorgridcolor\":\"white\",\"startlinecolor\":\"#2a3f5f\"},\"type\":\"carpet\"}],\"choropleth\":[{\"colorbar\":{\"outlinewidth\":0,\"ticks\":\"\"},\"type\":\"choropleth\"}],\"contour\":[{\"colorbar\":{\"outlinewidth\":0,\"ticks\":\"\"},\"colorscale\":[[0.0,\"#0d0887\"],[0.1111111111111111,\"#46039f\"],[0.2222222222222222,\"#7201a8\"],[0.3333333333333333,\"#9c179e\"],[0.4444444444444444,\"#bd3786\"],[0.5555555555555556,\"#d8576b\"],[0.6666666666666666,\"#ed7953\"],[0.7777777777777778,\"#fb9f3a\"],[0.8888888888888888,\"#fdca26\"],[1.0,\"#f0f921\"]],\"type\":\"contour\"}],\"contourcarpet\":[{\"colorbar\":{\"outlinewidth\":0,\"ticks\":\"\"},\"type\":\"contourcarpet\"}],\"heatmap\":[{\"colorbar\":{\"outlinewidth\":0,\"ticks\":\"\"},\"colorscale\":[[0.0,\"#0d0887\"],[0.1111111111111111,\"#46039f\"],[0.2222222222222222,\"#7201a8\"],[0.3333333333333333,\"#9c179e\"],[0.4444444444444444,\"#bd3786\"],[0.5555555555555556,\"#d8576b\"],[0.6666666666666666,\"#ed7953\"],[0.7777777777777778,\"#fb9f3a\"],[0.8888888888888888,\"#fdca26\"],[1.0,\"#f0f921\"]],\"type\":\"heatmap\"}],\"heatmapgl\":[{\"colorbar\":{\"outlinewidth\":0,\"ticks\":\"\"},\"colorscale\":[[0.0,\"#0d0887\"],[0.1111111111111111,\"#46039f\"],[0.2222222222222222,\"#7201a8\"],[0.3333333333333333,\"#9c179e\"],[0.4444444444444444,\"#bd3786\"],[0.5555555555555556,\"#d8576b\"],[0.6666666666666666,\"#ed7953\"],[0.7777777777777778,\"#fb9f3a\"],[0.8888888888888888,\"#fdca26\"],[1.0,\"#f0f921\"]],\"type\":\"heatmapgl\"}],\"histogram\":[{\"marker\":{\"pattern\":{\"fillmode\":\"overlay\",\"size\":10,\"solidity\":0.2}},\"type\":\"histogram\"}],\"histogram2d\":[{\"colorbar\":{\"outlinewidth\":0,\"ticks\":\"\"},\"colorscale\":[[0.0,\"#0d0887\"],[0.1111111111111111,\"#46039f\"],[0.2222222222222222,\"#7201a8\"],[0.3333333333333333,\"#9c179e\"],[0.4444444444444444,\"#bd3786\"],[0.5555555555555556,\"#d8576b\"],[0.6666666666666666,\"#ed7953\"],[0.7777777777777778,\"#fb9f3a\"],[0.8888888888888888,\"#fdca26\"],[1.0,\"#f0f921\"]],\"type\":\"histogram2d\"}],\"histogram2dcontour\":[{\"colorbar\":{\"outlinewidth\":0,\"ticks\":\"\"},\"colorscale\":[[0.0,\"#0d0887\"],[0.1111111111111111,\"#46039f\"],[0.2222222222222222,\"#7201a8\"],[0.3333333333333333,\"#9c179e\"],[0.4444444444444444,\"#bd3786\"],[0.5555555555555556,\"#d8576b\"],[0.6666666666666666,\"#ed7953\"],[0.7777777777777778,\"#fb9f3a\"],[0.8888888888888888,\"#fdca26\"],[1.0,\"#f0f921\"]],\"type\":\"histogram2dcontour\"}],\"mesh3d\":[{\"colorbar\":{\"outlinewidth\":0,\"ticks\":\"\"},\"type\":\"mesh3d\"}],\"parcoords\":[{\"line\":{\"colorbar\":{\"outlinewidth\":0,\"ticks\":\"\"}},\"type\":\"parcoords\"}],\"pie\":[{\"automargin\":true,\"type\":\"pie\"}],\"scatter\":[{\"marker\":{\"colorbar\":{\"outlinewidth\":0,\"ticks\":\"\"}},\"type\":\"scatter\"}],\"scatter3d\":[{\"line\":{\"colorbar\":{\"outlinewidth\":0,\"ticks\":\"\"}},\"marker\":{\"colorbar\":{\"outlinewidth\":0,\"ticks\":\"\"}},\"type\":\"scatter3d\"}],\"scattercarpet\":[{\"marker\":{\"colorbar\":{\"outlinewidth\":0,\"ticks\":\"\"}},\"type\":\"scattercarpet\"}],\"scattergeo\":[{\"marker\":{\"colorbar\":{\"outlinewidth\":0,\"ticks\":\"\"}},\"type\":\"scattergeo\"}],\"scattergl\":[{\"marker\":{\"colorbar\":{\"outlinewidth\":0,\"ticks\":\"\"}},\"type\":\"scattergl\"}],\"scattermapbox\":[{\"marker\":{\"colorbar\":{\"outlinewidth\":0,\"ticks\":\"\"}},\"type\":\"scattermapbox\"}],\"scatterpolar\":[{\"marker\":{\"colorbar\":{\"outlinewidth\":0,\"ticks\":\"\"}},\"type\":\"scatterpolar\"}],\"scatterpolargl\":[{\"marker\":{\"colorbar\":{\"outlinewidth\":0,\"ticks\":\"\"}},\"type\":\"scatterpolargl\"}],\"scatterternary\":[{\"marker\":{\"colorbar\":{\"outlinewidth\":0,\"ticks\":\"\"}},\"type\":\"scatterternary\"}],\"surface\":[{\"colorbar\":{\"outlinewidth\":0,\"ticks\":\"\"},\"colorscale\":[[0.0,\"#0d0887\"],[0.1111111111111111,\"#46039f\"],[0.2222222222222222,\"#7201a8\"],[0.3333333333333333,\"#9c179e\"],[0.4444444444444444,\"#bd3786\"],[0.5555555555555556,\"#d8576b\"],[0.6666666666666666,\"#ed7953\"],[0.7777777777777778,\"#fb9f3a\"],[0.8888888888888888,\"#fdca26\"],[1.0,\"#f0f921\"]],\"type\":\"surface\"}],\"table\":[{\"cells\":{\"fill\":{\"color\":\"#EBF0F8\"},\"line\":{\"color\":\"white\"}},\"header\":{\"fill\":{\"color\":\"#C8D4E3\"},\"line\":{\"color\":\"white\"}},\"type\":\"table\"}]},\"layout\":{\"annotationdefaults\":{\"arrowcolor\":\"#2a3f5f\",\"arrowhead\":0,\"arrowwidth\":1},\"autotypenumbers\":\"strict\",\"coloraxis\":{\"colorbar\":{\"outlinewidth\":0,\"ticks\":\"\"}},\"colorscale\":{\"diverging\":[[0,\"#8e0152\"],[0.1,\"#c51b7d\"],[0.2,\"#de77ae\"],[0.3,\"#f1b6da\"],[0.4,\"#fde0ef\"],[0.5,\"#f7f7f7\"],[0.6,\"#e6f5d0\"],[0.7,\"#b8e186\"],[0.8,\"#7fbc41\"],[0.9,\"#4d9221\"],[1,\"#276419\"]],\"sequential\":[[0.0,\"#0d0887\"],[0.1111111111111111,\"#46039f\"],[0.2222222222222222,\"#7201a8\"],[0.3333333333333333,\"#9c179e\"],[0.4444444444444444,\"#bd3786\"],[0.5555555555555556,\"#d8576b\"],[0.6666666666666666,\"#ed7953\"],[0.7777777777777778,\"#fb9f3a\"],[0.8888888888888888,\"#fdca26\"],[1.0,\"#f0f921\"]],\"sequentialminus\":[[0.0,\"#0d0887\"],[0.1111111111111111,\"#46039f\"],[0.2222222222222222,\"#7201a8\"],[0.3333333333333333,\"#9c179e\"],[0.4444444444444444,\"#bd3786\"],[0.5555555555555556,\"#d8576b\"],[0.6666666666666666,\"#ed7953\"],[0.7777777777777778,\"#fb9f3a\"],[0.8888888888888888,\"#fdca26\"],[1.0,\"#f0f921\"]]},\"colorway\":[\"#636efa\",\"#EF553B\",\"#00cc96\",\"#ab63fa\",\"#FFA15A\",\"#19d3f3\",\"#FF6692\",\"#B6E880\",\"#FF97FF\",\"#FECB52\"],\"font\":{\"color\":\"#2a3f5f\"},\"geo\":{\"bgcolor\":\"white\",\"lakecolor\":\"white\",\"landcolor\":\"#E5ECF6\",\"showlakes\":true,\"showland\":true,\"subunitcolor\":\"white\"},\"hoverlabel\":{\"align\":\"left\"},\"hovermode\":\"closest\",\"mapbox\":{\"style\":\"light\"},\"paper_bgcolor\":\"white\",\"plot_bgcolor\":\"#E5ECF6\",\"polar\":{\"angularaxis\":{\"gridcolor\":\"white\",\"linecolor\":\"white\",\"ticks\":\"\"},\"bgcolor\":\"#E5ECF6\",\"radialaxis\":{\"gridcolor\":\"white\",\"linecolor\":\"white\",\"ticks\":\"\"}},\"scene\":{\"xaxis\":{\"backgroundcolor\":\"#E5ECF6\",\"gridcolor\":\"white\",\"gridwidth\":2,\"linecolor\":\"white\",\"showbackground\":true,\"ticks\":\"\",\"zerolinecolor\":\"white\"},\"yaxis\":{\"backgroundcolor\":\"#E5ECF6\",\"gridcolor\":\"white\",\"gridwidth\":2,\"linecolor\":\"white\",\"showbackground\":true,\"ticks\":\"\",\"zerolinecolor\":\"white\"},\"zaxis\":{\"backgroundcolor\":\"#E5ECF6\",\"gridcolor\":\"white\",\"gridwidth\":2,\"linecolor\":\"white\",\"showbackground\":true,\"ticks\":\"\",\"zerolinecolor\":\"white\"}},\"shapedefaults\":{\"line\":{\"color\":\"#2a3f5f\"}},\"ternary\":{\"aaxis\":{\"gridcolor\":\"white\",\"linecolor\":\"white\",\"ticks\":\"\"},\"baxis\":{\"gridcolor\":\"white\",\"linecolor\":\"white\",\"ticks\":\"\"},\"bgcolor\":\"#E5ECF6\",\"caxis\":{\"gridcolor\":\"white\",\"linecolor\":\"white\",\"ticks\":\"\"}},\"title\":{\"x\":0.05},\"xaxis\":{\"automargin\":true,\"gridcolor\":\"white\",\"linecolor\":\"white\",\"ticks\":\"\",\"title\":{\"standoff\":15},\"zerolinecolor\":\"white\",\"zerolinewidth\":2},\"yaxis\":{\"automargin\":true,\"gridcolor\":\"white\",\"linecolor\":\"white\",\"ticks\":\"\",\"title\":{\"standoff\":15},\"zerolinecolor\":\"white\",\"zerolinewidth\":2}}},\"xaxis\":{\"anchor\":\"y\",\"domain\":[0.0,1.0],\"title\":{\"text\":\"index\"}},\"yaxis\":{\"anchor\":\"x\",\"domain\":[0.0,1.0],\"title\":{\"text\":\"cumulative_pnl\"}}},                        {\"responsive\": true}                    ).then(function(){\n",
       "                            \n",
       "var gd = document.getElementById('671a3ea2-c076-4d70-9174-99ee2047f52b');\n",
       "var x = new MutationObserver(function (mutations, observer) {{\n",
       "        var display = window.getComputedStyle(gd).display;\n",
       "        if (!display || display === 'none') {{\n",
       "            console.log([gd, 'removed!']);\n",
       "            Plotly.purge(gd);\n",
       "            observer.disconnect();\n",
       "        }}\n",
       "}});\n",
       "\n",
       "// Listen for the removal of the full notebook cells\n",
       "var notebookContainer = gd.closest('#notebook-container');\n",
       "if (notebookContainer) {{\n",
       "    x.observe(notebookContainer, {childList: true});\n",
       "}}\n",
       "\n",
       "// Listen for the clearing of the current output cell\n",
       "var outputEl = gd.closest('.output');\n",
       "if (outputEl) {{\n",
       "    x.observe(outputEl, {childList: true});\n",
       "}}\n",
       "\n",
       "                        })                };                });            </script>        </div>"
      ]
     },
     "metadata": {},
     "output_type": "display_data"
    }
   ],
   "source": [
    "fig = px.line(trades_pnl_df, y='cumulative_pnl')\n",
    "fig.show()\n",
    "# trades_pnl_df"
   ]
  }
 ],
 "metadata": {
  "kernelspec": {
   "display_name": "giethoorn",
   "language": "python",
   "name": "giethoorn"
  },
  "language_info": {
   "codemirror_mode": {
    "name": "ipython",
    "version": 3
   },
   "file_extension": ".py",
   "mimetype": "text/x-python",
   "name": "python",
   "nbconvert_exporter": "python",
   "pygments_lexer": "ipython3",
   "version": "3.8.2"
  }
 },
 "nbformat": 4,
 "nbformat_minor": 5
}
